{
 "cells": [
  {
   "cell_type": "markdown",
   "metadata": {
    "colab_type": "text",
    "id": "sIdweWQSk25O"
   },
   "source": [
    "# GSQL101 - using TigerGraph Cloud and pyTigerGraph\n",
    "by Bob Hardaway\n",
    "\n",
    "Connect to TGCloud - Recoomendations Starter Kit"
   ]
  },
  {
   "cell_type": "markdown",
   "metadata": {
    "colab_type": "text",
    "id": "LXpx_L7PqQgo"
   },
   "source": [
    "## Establish a connection to a TigerGraph Cloud server"
   ]
  },
  {
   "cell_type": "markdown",
   "metadata": {
    "colab_type": "text",
    "id": "17LC4XRDBUCO"
   },
   "source": [
    "## Enter your server's ip address and password"
   ]
  },
  {
   "cell_type": "code",
   "execution_count": 1,
   "metadata": {
    "colab": {
     "base_uri": "https://localhost:8080/",
     "height": 34
    },
    "colab_type": "code",
    "id": "94CPhylck25Z",
    "outputId": "8b6e519b-edf3-4ffe-faa7-f1927fbe16cc"
   },
   "outputs": [
    {
     "name": "stdout",
     "output_type": "stream",
     "text": [
      "········\n"
     ]
    }
   ],
   "source": [
    "import getpass\n",
    "\n",
    "server = 'https://se-pytg-demo.i.tgcloud.io'\n",
    "password = getpass.getpass()"
   ]
  },
  {
   "cell_type": "code",
   "execution_count": 2,
   "metadata": {},
   "outputs": [],
   "source": [
    "import pyTigerGraph as tg"
   ]
  },
  {
   "cell_type": "code",
   "execution_count": 3,
   "metadata": {},
   "outputs": [
    {
     "name": "stdout",
     "output_type": "stream",
     "text": [
      "<pyTigerGraph.pyTigerGraph.TigerGraphConnection object at 0x7feca006e760>\n"
     ]
    }
   ],
   "source": [
    "graph = tg.TigerGraphConnection(host=\"https://se-pytg-demo.i.tgcloud.io\", graphname=\"Recommender\")\n",
    "print(graph)"
   ]
  },
  {
   "cell_type": "code",
   "execution_count": 4,
   "metadata": {},
   "outputs": [
    {
     "name": "stdout",
     "output_type": "stream",
     "text": [
      "('osv854gccduraldhnk9jigj98d0m2sp8', 1634141697, '2021-10-13 16:14:57')\n"
     ]
    }
   ],
   "source": [
    "authToken = graph.getToken(\"hhetpj1970s8goqf5i5tir8cqiflhqoa\")\n",
    "print(authToken)"
   ]
  },
  {
   "cell_type": "code",
   "execution_count": 28,
   "metadata": {},
   "outputs": [],
   "source": [
    "conn = tg.TigerGraphConnection(\n",
    "    host=server, \n",
    "    graphname='Recommender', \n",
    "    password=password \n",
    "    )"
   ]
  },
  {
   "cell_type": "code",
   "execution_count": 9,
   "metadata": {},
   "outputs": [
    {
     "data": {
      "text/plain": [
       "['person', 'movie']"
      ]
     },
     "execution_count": 9,
     "metadata": {},
     "output_type": "execute_result"
    }
   ],
   "source": [
    "conn.getVertexTypes()"
   ]
  },
  {
   "cell_type": "code",
   "execution_count": 10,
   "metadata": {},
   "outputs": [
    {
     "data": {
      "text/plain": [
       "['rate']"
      ]
     },
     "execution_count": 10,
     "metadata": {},
     "output_type": "execute_result"
    }
   ],
   "source": [
    "conn.getEdgeTypes()"
   ]
  },
  {
   "cell_type": "code",
   "execution_count": 12,
   "metadata": {},
   "outputs": [],
   "source": [
    "import pyTigerGraph as tg \n",
    "\n",
    "token = tg.TigerGraphConnection(host=\"https://se-pytg-demo.i.tgcloud.io\", graphname=\"Recommender\").getToken(\"hhetpj1970s8goqf5i5tir8cqiflhqoa\", \"1000000\")[0]\n",
    "\n",
    "conn = tg.TigerGraphConnection(host=\"https://se-pytg-demo.i.tgcloud.io\", graphname=\"Recommender\", apiToken=token)"
   ]
  },
  {
   "cell_type": "code",
   "execution_count": 13,
   "metadata": {},
   "outputs": [
    {
     "name": "stdout",
     "output_type": "stream",
     "text": [
      "138493\n"
     ]
    }
   ],
   "source": [
    "count = conn.getVertexCount(\"person\")\n",
    "print(count)"
   ]
  },
  {
   "cell_type": "code",
   "execution_count": null,
   "metadata": {
    "scrolled": true
   },
   "outputs": [],
   "source": [
    "df = conn.getVertexDataframe(\"person\")\n",
    "df.head()"
   ]
  },
  {
   "cell_type": "code",
   "execution_count": null,
   "metadata": {},
   "outputs": [],
   "source": [
    "count = conn.getEdgeStats('rate')"
   ]
  },
  {
   "cell_type": "code",
   "execution_count": null,
   "metadata": {},
   "outputs": [],
   "source": [
    "df.to_csv('personRecommender.csv', header=True)"
   ]
  },
  {
   "cell_type": "code",
   "execution_count": null,
   "metadata": {},
   "outputs": [],
   "source": [
    "numMovies = conn.getVertexCount(\"movie\")\n",
    "print(numMovies)"
   ]
  },
  {
   "cell_type": "code",
   "execution_count": 15,
   "metadata": {},
   "outputs": [
    {
     "data": {
      "text/html": [
       "<div>\n",
       "<style scoped>\n",
       "    .dataframe tbody tr th:only-of-type {\n",
       "        vertical-align: middle;\n",
       "    }\n",
       "\n",
       "    .dataframe tbody tr th {\n",
       "        vertical-align: top;\n",
       "    }\n",
       "\n",
       "    .dataframe thead th {\n",
       "        text-align: right;\n",
       "    }\n",
       "</style>\n",
       "<table border=\"1\" class=\"dataframe\">\n",
       "  <thead>\n",
       "    <tr style=\"text-align: right;\">\n",
       "      <th></th>\n",
       "      <th>v_id</th>\n",
       "      <th>title</th>\n",
       "      <th>genres</th>\n",
       "    </tr>\n",
       "  </thead>\n",
       "  <tbody>\n",
       "    <tr>\n",
       "      <th>0</th>\n",
       "      <td>33358</td>\n",
       "      <td>Off the Map (2003)</td>\n",
       "      <td>Comedy|Drama</td>\n",
       "    </tr>\n",
       "    <tr>\n",
       "      <th>1</th>\n",
       "      <td>1342</td>\n",
       "      <td>Candyman (1992)</td>\n",
       "      <td>Horror|Thriller</td>\n",
       "    </tr>\n",
       "    <tr>\n",
       "      <th>2</th>\n",
       "      <td>3264</td>\n",
       "      <td>Buffy the Vampire Slayer (1992)</td>\n",
       "      <td>Action|Comedy|Horror</td>\n",
       "    </tr>\n",
       "    <tr>\n",
       "      <th>3</th>\n",
       "      <td>3102</td>\n",
       "      <td>Jagged Edge (1985)</td>\n",
       "      <td>Crime|Romance|Thriller</td>\n",
       "    </tr>\n",
       "    <tr>\n",
       "      <th>4</th>\n",
       "      <td>1959</td>\n",
       "      <td>Out of Africa (1985)</td>\n",
       "      <td>Drama|Romance</td>\n",
       "    </tr>\n",
       "  </tbody>\n",
       "</table>\n",
       "</div>"
      ],
      "text/plain": [
       "    v_id                            title                  genres\n",
       "0  33358               Off the Map (2003)            Comedy|Drama\n",
       "1   1342                  Candyman (1992)         Horror|Thriller\n",
       "2   3264  Buffy the Vampire Slayer (1992)    Action|Comedy|Horror\n",
       "3   3102               Jagged Edge (1985)  Crime|Romance|Thriller\n",
       "4   1959             Out of Africa (1985)           Drama|Romance"
      ]
     },
     "execution_count": 15,
     "metadata": {},
     "output_type": "execute_result"
    }
   ],
   "source": [
    "df_movies = conn.getVertexDataframe(\"movie\")\n",
    "df_movies.head()"
   ]
  },
  {
   "cell_type": "code",
   "execution_count": null,
   "metadata": {},
   "outputs": [],
   "source": [
    "df_movies.to_csv('movie4Recommender.csv', header=True)"
   ]
  },
  {
   "cell_type": "code",
   "execution_count": 25,
   "metadata": {},
   "outputs": [
    {
     "data": {
      "text/html": [
       "<div>\n",
       "<style scoped>\n",
       "    .dataframe tbody tr th:only-of-type {\n",
       "        vertical-align: middle;\n",
       "    }\n",
       "\n",
       "    .dataframe tbody tr th {\n",
       "        vertical-align: top;\n",
       "    }\n",
       "\n",
       "    .dataframe thead th {\n",
       "        text-align: right;\n",
       "    }\n",
       "</style>\n",
       "<table border=\"1\" class=\"dataframe\">\n",
       "  <thead>\n",
       "    <tr style=\"text-align: right;\">\n",
       "      <th></th>\n",
       "      <th>from_type</th>\n",
       "      <th>from_id</th>\n",
       "      <th>to_type</th>\n",
       "      <th>to_id</th>\n",
       "      <th>rating</th>\n",
       "      <th>rated_at</th>\n",
       "    </tr>\n",
       "  </thead>\n",
       "  <tbody>\n",
       "    <tr>\n",
       "      <th>0</th>\n",
       "      <td>person</td>\n",
       "      <td>28</td>\n",
       "      <td>movie</td>\n",
       "      <td>593</td>\n",
       "      <td>3</td>\n",
       "      <td>1996-06-06 20:30:34</td>\n",
       "    </tr>\n",
       "    <tr>\n",
       "      <th>1</th>\n",
       "      <td>person</td>\n",
       "      <td>28</td>\n",
       "      <td>movie</td>\n",
       "      <td>555</td>\n",
       "      <td>5</td>\n",
       "      <td>1996-06-06 20:32:08</td>\n",
       "    </tr>\n",
       "    <tr>\n",
       "      <th>2</th>\n",
       "      <td>person</td>\n",
       "      <td>28</td>\n",
       "      <td>movie</td>\n",
       "      <td>595</td>\n",
       "      <td>3</td>\n",
       "      <td>1996-06-06 20:25:35</td>\n",
       "    </tr>\n",
       "    <tr>\n",
       "      <th>3</th>\n",
       "      <td>person</td>\n",
       "      <td>28</td>\n",
       "      <td>movie</td>\n",
       "      <td>315</td>\n",
       "      <td>2</td>\n",
       "      <td>1996-06-06 20:31:21</td>\n",
       "    </tr>\n",
       "    <tr>\n",
       "      <th>4</th>\n",
       "      <td>person</td>\n",
       "      <td>28</td>\n",
       "      <td>movie</td>\n",
       "      <td>367</td>\n",
       "      <td>2</td>\n",
       "      <td>1996-06-06 20:31:46</td>\n",
       "    </tr>\n",
       "    <tr>\n",
       "      <th>5</th>\n",
       "      <td>person</td>\n",
       "      <td>28</td>\n",
       "      <td>movie</td>\n",
       "      <td>282</td>\n",
       "      <td>3</td>\n",
       "      <td>1996-06-06 20:31:21</td>\n",
       "    </tr>\n",
       "    <tr>\n",
       "      <th>6</th>\n",
       "      <td>person</td>\n",
       "      <td>28</td>\n",
       "      <td>movie</td>\n",
       "      <td>231</td>\n",
       "      <td>3</td>\n",
       "      <td>1996-06-06 20:25:35</td>\n",
       "    </tr>\n",
       "    <tr>\n",
       "      <th>7</th>\n",
       "      <td>person</td>\n",
       "      <td>28</td>\n",
       "      <td>movie</td>\n",
       "      <td>480</td>\n",
       "      <td>2</td>\n",
       "      <td>1996-06-06 20:33:03</td>\n",
       "    </tr>\n",
       "    <tr>\n",
       "      <th>8</th>\n",
       "      <td>person</td>\n",
       "      <td>28</td>\n",
       "      <td>movie</td>\n",
       "      <td>417</td>\n",
       "      <td>1</td>\n",
       "      <td>1996-06-06 20:27:51</td>\n",
       "    </tr>\n",
       "    <tr>\n",
       "      <th>9</th>\n",
       "      <td>person</td>\n",
       "      <td>28</td>\n",
       "      <td>movie</td>\n",
       "      <td>344</td>\n",
       "      <td>2</td>\n",
       "      <td>1996-06-06 20:24:58</td>\n",
       "    </tr>\n",
       "    <tr>\n",
       "      <th>10</th>\n",
       "      <td>person</td>\n",
       "      <td>28</td>\n",
       "      <td>movie</td>\n",
       "      <td>161</td>\n",
       "      <td>3</td>\n",
       "      <td>1996-06-06 20:30:05</td>\n",
       "    </tr>\n",
       "    <tr>\n",
       "      <th>11</th>\n",
       "      <td>person</td>\n",
       "      <td>28</td>\n",
       "      <td>movie</td>\n",
       "      <td>377</td>\n",
       "      <td>3</td>\n",
       "      <td>1996-06-06 20:33:24</td>\n",
       "    </tr>\n",
       "    <tr>\n",
       "      <th>12</th>\n",
       "      <td>person</td>\n",
       "      <td>28</td>\n",
       "      <td>movie</td>\n",
       "      <td>165</td>\n",
       "      <td>3</td>\n",
       "      <td>1996-06-06 20:24:58</td>\n",
       "    </tr>\n",
       "    <tr>\n",
       "      <th>13</th>\n",
       "      <td>person</td>\n",
       "      <td>28</td>\n",
       "      <td>movie</td>\n",
       "      <td>213</td>\n",
       "      <td>5</td>\n",
       "      <td>1996-06-06 20:28:16</td>\n",
       "    </tr>\n",
       "    <tr>\n",
       "      <th>14</th>\n",
       "      <td>person</td>\n",
       "      <td>28</td>\n",
       "      <td>movie</td>\n",
       "      <td>356</td>\n",
       "      <td>4</td>\n",
       "      <td>1996-06-06 20:32:36</td>\n",
       "    </tr>\n",
       "    <tr>\n",
       "      <th>15</th>\n",
       "      <td>person</td>\n",
       "      <td>28</td>\n",
       "      <td>movie</td>\n",
       "      <td>339</td>\n",
       "      <td>3</td>\n",
       "      <td>1996-06-06 20:30:21</td>\n",
       "    </tr>\n",
       "    <tr>\n",
       "      <th>16</th>\n",
       "      <td>person</td>\n",
       "      <td>28</td>\n",
       "      <td>movie</td>\n",
       "      <td>500</td>\n",
       "      <td>3</td>\n",
       "      <td>1996-06-06 20:34:06</td>\n",
       "    </tr>\n",
       "    <tr>\n",
       "      <th>17</th>\n",
       "      <td>person</td>\n",
       "      <td>28</td>\n",
       "      <td>movie</td>\n",
       "      <td>253</td>\n",
       "      <td>3</td>\n",
       "      <td>1996-06-06 20:30:21</td>\n",
       "    </tr>\n",
       "    <tr>\n",
       "      <th>18</th>\n",
       "      <td>person</td>\n",
       "      <td>28</td>\n",
       "      <td>movie</td>\n",
       "      <td>588</td>\n",
       "      <td>3</td>\n",
       "      <td>1996-06-06 20:24:58</td>\n",
       "    </tr>\n",
       "    <tr>\n",
       "      <th>19</th>\n",
       "      <td>person</td>\n",
       "      <td>28</td>\n",
       "      <td>movie</td>\n",
       "      <td>442</td>\n",
       "      <td>3</td>\n",
       "      <td>1996-06-06 20:32:47</td>\n",
       "    </tr>\n",
       "    <tr>\n",
       "      <th>20</th>\n",
       "      <td>person</td>\n",
       "      <td>28</td>\n",
       "      <td>movie</td>\n",
       "      <td>196</td>\n",
       "      <td>1</td>\n",
       "      <td>1996-06-06 20:31:29</td>\n",
       "    </tr>\n",
       "    <tr>\n",
       "      <th>21</th>\n",
       "      <td>person</td>\n",
       "      <td>28</td>\n",
       "      <td>movie</td>\n",
       "      <td>477</td>\n",
       "      <td>3</td>\n",
       "      <td>1996-06-06 20:34:06</td>\n",
       "    </tr>\n",
       "    <tr>\n",
       "      <th>22</th>\n",
       "      <td>person</td>\n",
       "      <td>28</td>\n",
       "      <td>movie</td>\n",
       "      <td>266</td>\n",
       "      <td>1</td>\n",
       "      <td>1996-06-06 20:31:06</td>\n",
       "    </tr>\n",
       "    <tr>\n",
       "      <th>23</th>\n",
       "      <td>person</td>\n",
       "      <td>28</td>\n",
       "      <td>movie</td>\n",
       "      <td>380</td>\n",
       "      <td>2</td>\n",
       "      <td>1996-06-06 20:24:21</td>\n",
       "    </tr>\n",
       "    <tr>\n",
       "      <th>24</th>\n",
       "      <td>person</td>\n",
       "      <td>28</td>\n",
       "      <td>movie</td>\n",
       "      <td>590</td>\n",
       "      <td>1</td>\n",
       "      <td>1996-06-06 20:24:20</td>\n",
       "    </tr>\n",
       "  </tbody>\n",
       "</table>\n",
       "</div>"
      ],
      "text/plain": [
       "   from_type from_id to_type to_id  rating             rated_at\n",
       "0     person      28   movie   593       3  1996-06-06 20:30:34\n",
       "1     person      28   movie   555       5  1996-06-06 20:32:08\n",
       "2     person      28   movie   595       3  1996-06-06 20:25:35\n",
       "3     person      28   movie   315       2  1996-06-06 20:31:21\n",
       "4     person      28   movie   367       2  1996-06-06 20:31:46\n",
       "5     person      28   movie   282       3  1996-06-06 20:31:21\n",
       "6     person      28   movie   231       3  1996-06-06 20:25:35\n",
       "7     person      28   movie   480       2  1996-06-06 20:33:03\n",
       "8     person      28   movie   417       1  1996-06-06 20:27:51\n",
       "9     person      28   movie   344       2  1996-06-06 20:24:58\n",
       "10    person      28   movie   161       3  1996-06-06 20:30:05\n",
       "11    person      28   movie   377       3  1996-06-06 20:33:24\n",
       "12    person      28   movie   165       3  1996-06-06 20:24:58\n",
       "13    person      28   movie   213       5  1996-06-06 20:28:16\n",
       "14    person      28   movie   356       4  1996-06-06 20:32:36\n",
       "15    person      28   movie   339       3  1996-06-06 20:30:21\n",
       "16    person      28   movie   500       3  1996-06-06 20:34:06\n",
       "17    person      28   movie   253       3  1996-06-06 20:30:21\n",
       "18    person      28   movie   588       3  1996-06-06 20:24:58\n",
       "19    person      28   movie   442       3  1996-06-06 20:32:47\n",
       "20    person      28   movie   196       1  1996-06-06 20:31:29\n",
       "21    person      28   movie   477       3  1996-06-06 20:34:06\n",
       "22    person      28   movie   266       1  1996-06-06 20:31:06\n",
       "23    person      28   movie   380       2  1996-06-06 20:24:21\n",
       "24    person      28   movie   590       1  1996-06-06 20:24:20"
      ]
     },
     "execution_count": 25,
     "metadata": {},
     "output_type": "execute_result"
    }
   ],
   "source": [
    "df_ratings = conn.getEdgesDataframe(sourceVertexType='person', sourceVertexId='28')\n",
    "df_ratings.head(25)"
   ]
  },
  {
   "cell_type": "markdown",
   "metadata": {
    "colab_type": "text",
    "id": "PrpgiX2tHABq"
   },
   "source": [
    "## Set up a pyTigerGraph connection to the server"
   ]
  },
  {
   "cell_type": "markdown",
   "metadata": {
    "colab_type": "text",
    "id": "O2aIruWcw87Q"
   },
   "source": [
    "Use `options=[]` when issuing GSQL instructions to global instead of your default graph. When running `ls` in global mode you will see all the vertices and edges from all your graphs. In my case, there are currently three graphs already loaded on the server.   \n",
    "\n",
    "NOTE: Some API calls, such as ls and getVertexTypes require pw authentication"
   ]
  },
  {
   "cell_type": "code",
   "execution_count": 29,
   "metadata": {
    "colab": {},
    "colab_type": "code",
    "id": "mlpZuMYpCyhu"
   },
   "outputs": [
    {
     "name": "stdout",
     "output_type": "stream",
     "text": [
      "---- Global vertices, edges, and all graphs\n",
      "Vertex Types:\n",
      "- VERTEX person(PRIMARY_ID id STRING) WITH STATS=\"OUTDEGREE_BY_EDGETYPE\", PRIMARY_ID_AS_ATTRIBUTE=\"false\"\n",
      "- VERTEX movie(PRIMARY_ID id STRING, title STRING, genres STRING) WITH STATS=\"OUTDEGREE_BY_EDGETYPE\", PRIMARY_ID_AS_ATTRIBUTE=\"false\"\n",
      "Edge Types:\n",
      "- DIRECTED EDGE rate(FROM person, TO movie, rating DOUBLE, rated_at DATETIME) WITH REVERSE_EDGE=\"reverse_rate\"\n",
      "- DIRECTED EDGE reverse_rate(FROM movie, TO person, rating DOUBLE, rated_at DATETIME) WITH REVERSE_EDGE=\"rate\"\n",
      "\n",
      "Graphs:\n",
      "- Graph Recommender(person:v, movie:v, rate:e, reverse_rate:e)\n",
      "- Graph MyGraph(person:v, movie:v, rate:e, reverse_rate:e)\n",
      "Jobs:\n",
      "\n",
      "\n",
      "JSON API version: v2\n",
      "Syntax version: v1\n",
      "\n"
     ]
    }
   ],
   "source": [
    "print(conn.gsql('ls', options=[]))"
   ]
  },
  {
   "cell_type": "markdown",
   "metadata": {
    "colab_type": "text",
    "id": "rHsErjExk25u"
   },
   "source": [
    "### Clear the server if you need to (be careful with this)"
   ]
  },
  {
   "cell_type": "code",
   "execution_count": null,
   "metadata": {
    "colab": {},
    "colab_type": "code",
    "id": "KMWCtajBk25v"
   },
   "outputs": [],
   "source": [
    "#print(conn.gsql('drop all', options=[]))"
   ]
  },
  {
   "cell_type": "markdown",
   "metadata": {},
   "source": [
    "### To clear a particular graph drop its queries, then the graph, then its edges, then its vertices"
   ]
  },
  {
   "cell_type": "code",
   "execution_count": null,
   "metadata": {},
   "outputs": [],
   "source": [
    "print(conn.gsql('''\n",
    "drop query hello\n",
    "drop query hello2\n",
    "drop graph social\n",
    "drop edge friendship\n",
    "drop vertex person\n",
    "'''))"
   ]
  },
  {
   "cell_type": "markdown",
   "metadata": {
    "colab_type": "text",
    "id": "FzBSHIjfk25x"
   },
   "source": [
    "### Create the graph schema\n",
    "\n",
    "See [GSQL 101 - Module 1: Graph Schema](https://youtu.be/him2Uy3Nn7Y)\n"
   ]
  },
  {
   "cell_type": "code",
   "execution_count": null,
   "metadata": {
    "colab": {},
    "colab_type": "code",
    "id": "nN05blvDk25x"
   },
   "outputs": [],
   "source": [
    "YouTubeVideo(width=896, height=504, id='him2Uy3Nn7Y')"
   ]
  },
  {
   "cell_type": "code",
   "execution_count": 32,
   "metadata": {
    "colab": {
     "base_uri": "https://localhost:8080/",
     "height": 301
    },
    "colab_type": "code",
    "id": "WnXp8Rk3k250",
    "outputId": "5c731f36-caf0-4b88-8f25-0c3a32eca065"
   },
   "outputs": [
    {
     "name": "stdout",
     "output_type": "stream",
     "text": [
      "The edge type friendship is created.\n"
     ]
    }
   ],
   "source": [
    "print(conn.gsql('''create undirected edge friendship (from person, to person, \n",
    "                                   connect_day datetime\n",
    ")\n",
    "''', options=[]))"
   ]
  },
  {
   "cell_type": "markdown",
   "metadata": {
    "colab_type": "text",
    "id": "3eZ68entyE0N"
   },
   "source": [
    "### Write data files to disk"
   ]
  },
  {
   "cell_type": "code",
   "execution_count": null,
   "metadata": {
    "colab": {
     "base_uri": "https://localhost:8080/",
     "height": 34
    },
    "colab_type": "code",
    "id": "X_Nz-dVTk25o",
    "outputId": "dcdaeca4-1836-4a61-9873-8f2bb015e7a5"
   },
   "outputs": [],
   "source": [
    "%%writefile person.csv\n",
    "name,gender,age,state\n",
    "Tom,male,40,ca\n",
    "Dan,male,34,ny\n",
    "Jenny,female,25,tx\n",
    "Kevin,male,28,az\n",
    "Amily,female,22,ca\n",
    "Nancy,female,20,ky\n",
    "Jack,male,26,fl"
   ]
  },
  {
   "cell_type": "code",
   "execution_count": null,
   "metadata": {
    "colab": {
     "base_uri": "https://localhost:8080/",
     "height": 34
    },
    "colab_type": "code",
    "id": "qEiWKZEFk25q",
    "outputId": "869d0da1-aaab-47a8-c0d0-9dfb4ff639f1"
   },
   "outputs": [],
   "source": [
    "%%writefile friendship.csv\n",
    "person1,person2,date\n",
    "Tom,Dan,2017-06-03\n",
    "Tom,Jenny,2015-01-01\n",
    "Dan,Jenny,2016-08-03\n",
    "Jenny,Amily,2015-06-08\n",
    "Dan,Nancy,2016-01-03\n",
    "Nancy,Jack,2017-03-02\n",
    "Dan,Kevin,2015-12-30"
   ]
  },
  {
   "cell_type": "markdown",
   "metadata": {
    "colab_type": "text",
    "id": "ctA4U2VIy8od"
   },
   "source": [
    "## Use pyTigerGraph to upsert data\n",
    "\n",
    "If using a secure server you'll need to get a secret and a token"
   ]
  },
  {
   "cell_type": "code",
   "execution_count": null,
   "metadata": {
    "colab": {},
    "colab_type": "code",
    "id": "nlTqQo_Az9nA"
   },
   "outputs": [],
   "source": [
    "secret = conn.createSecret()\n",
    "conn.getToken(secret=secret);"
   ]
  },
  {
   "cell_type": "code",
   "execution_count": null,
   "metadata": {
    "colab": {
     "base_uri": "https://localhost:8080/",
     "height": 287
    },
    "colab_type": "code",
    "id": "yxD4nrHVzTUQ",
    "outputId": "18878c0f-aa93-4a9a-9b85-1e73ffe3ef58"
   },
   "outputs": [],
   "source": [
    "import pandas as pd\n",
    "\n",
    "person = pd.read_csv('person.csv')\n",
    "person"
   ]
  },
  {
   "cell_type": "code",
   "execution_count": null,
   "metadata": {
    "colab": {
     "base_uri": "https://localhost:8080/",
     "height": 141
    },
    "colab_type": "code",
    "id": "ij1r9QCM05sm",
    "outputId": "06d9bb5d-c376-4c82-d7de-3d70022a2f1c"
   },
   "outputs": [],
   "source": [
    "conn.upsertVertexDataframe(\n",
    "    df=person, vertexType='person', v_id='name')"
   ]
  },
  {
   "cell_type": "code",
   "execution_count": null,
   "metadata": {
    "colab": {
     "base_uri": "https://localhost:8080/",
     "height": 287
    },
    "colab_type": "code",
    "id": "bech6jpa47GG",
    "outputId": "4155d42a-6c21-4fa4-c381-7c7c06a9e740",
    "scrolled": true
   },
   "outputs": [],
   "source": [
    "friendship = pd.read_csv('friendship.csv')\n",
    "friendship"
   ]
  },
  {
   "cell_type": "code",
   "execution_count": null,
   "metadata": {},
   "outputs": [],
   "source": [
    "conn.upsertEdgesDataframe(\n",
    "    df=friendship, \n",
    "    sourceVertexType='person', \n",
    "    edgeType='friendship', \n",
    "    targetVertexType='person',\n",
    "    from_id='person1', \n",
    "    to_id='person2', \n",
    "    attributes={'connect_day':'date'})"
   ]
  },
  {
   "cell_type": "markdown",
   "metadata": {},
   "source": [
    "### Downloading dataframes"
   ]
  },
  {
   "cell_type": "code",
   "execution_count": null,
   "metadata": {},
   "outputs": [],
   "source": [
    "# select argument must be comma delimited with no spaces\n",
    "conn.getVertexDataframe('person', select='age,gender', where='age > 22')"
   ]
  },
  {
   "cell_type": "markdown",
   "metadata": {},
   "source": [
    "We can ask for specific vertices by providing a list of their IDs."
   ]
  },
  {
   "cell_type": "code",
   "execution_count": null,
   "metadata": {},
   "outputs": [],
   "source": [
    "conn.getVertexDataframeByID('person', ['Tom', 'Jenny'])"
   ]
  },
  {
   "cell_type": "markdown",
   "metadata": {},
   "source": [
    "To collect edges one must provide a list of vertices they are connected to."
   ]
  },
  {
   "cell_type": "code",
   "execution_count": null,
   "metadata": {},
   "outputs": [],
   "source": [
    "conn.getEdgesDataframe('person', ['Tom', 'Jenny'], 'friendship')"
   ]
  },
  {
   "cell_type": "markdown",
   "metadata": {
    "colab_type": "text",
    "id": "qTGJn1rtk25-"
   },
   "source": [
    "## Built-in `SELECT` queries\n",
    "\n",
    "See [GSQL 101 - Module 3: Graph Inspection Language](https://youtu.be/akGOSEWMC8I)"
   ]
  },
  {
   "cell_type": "code",
   "execution_count": null,
   "metadata": {
    "colab": {},
    "colab_type": "code",
    "id": "wjbvGcj6k25-"
   },
   "outputs": [],
   "source": [
    "YouTubeVideo(width=896, height=504, id='akGOSEWMC8I')"
   ]
  },
  {
   "cell_type": "markdown",
   "metadata": {
    "colab_type": "text",
    "id": "wx0MRs8Kk26B"
   },
   "source": [
    "### `SELECT` queries return a native Python structure"
   ]
  },
  {
   "cell_type": "code",
   "execution_count": null,
   "metadata": {
    "colab": {
     "base_uri": "https://localhost:8080/",
     "height": 34
    },
    "colab_type": "code",
    "id": "M__Kl68Zk26C",
    "outputId": "04ea2028-3bef-4e2b-c66b-05b60d8d4b74"
   },
   "outputs": [],
   "source": [
    "q = conn.gsql('select count(*) from person')\n",
    "q"
   ]
  },
  {
   "cell_type": "code",
   "execution_count": null,
   "metadata": {
    "colab": {
     "base_uri": "https://localhost:8080/",
     "height": 34
    },
    "colab_type": "code",
    "id": "R5iaq0gdk26E",
    "outputId": "53c65575-42a6-49b9-8091-9b040147ceb3"
   },
   "outputs": [],
   "source": [
    "q[0]['count']"
   ]
  },
  {
   "cell_type": "markdown",
   "metadata": {
    "colab_type": "text",
    "id": "Sh_2Onnnk26G"
   },
   "source": [
    "### Since this is GSQL the `FROM` argument can be a pattern "
   ]
  },
  {
   "cell_type": "code",
   "execution_count": null,
   "metadata": {
    "colab": {
     "base_uri": "https://localhost:8080/",
     "height": 34
    },
    "colab_type": "code",
    "id": "qkNRECjPk26G",
    "outputId": "237f136b-fbb6-4ae9-a60b-1d2d823dc501"
   },
   "outputs": [],
   "source": [
    "conn.gsql('select count() from person-(friendship)-person')"
   ]
  },
  {
   "cell_type": "markdown",
   "metadata": {
    "colab_type": "text",
    "id": "0Wvn9K8gk26I"
   },
   "source": [
    "### The `WHERE` arument is a filter on the `FROM` pattern"
   ]
  },
  {
   "cell_type": "code",
   "execution_count": null,
   "metadata": {
    "colab": {
     "base_uri": "https://localhost:8080/",
     "height": 70
    },
    "colab_type": "code",
    "id": "UaHPmzxnk26I",
    "outputId": "3491b87a-5744-46ba-e3f6-e13b9c9df821"
   },
   "outputs": [],
   "source": [
    "conn.gsql('select * from person where primary_id==\"Tom\"')"
   ]
  },
  {
   "cell_type": "code",
   "execution_count": null,
   "metadata": {
    "colab": {
     "base_uri": "https://localhost:8080/",
     "height": 336
    },
    "colab_type": "code",
    "id": "lhamhuYZk26K",
    "outputId": "d69161ad-decc-45a1-eca0-78e24021e2ac"
   },
   "outputs": [],
   "source": [
    "q = conn.gsql('select * from person where gender==\"female\"')\n",
    "q "
   ]
  },
  {
   "cell_type": "markdown",
   "metadata": {
    "colab_type": "text",
    "id": "zfkvOYvvk26M"
   },
   "source": [
    "### Use Python's list comprehension to access results"
   ]
  },
  {
   "cell_type": "code",
   "execution_count": null,
   "metadata": {
    "colab": {
     "base_uri": "https://localhost:8080/",
     "height": 34
    },
    "colab_type": "code",
    "id": "TWhJgIsRk26N",
    "outputId": "c87bcc64-e0d4-44c9-9859-df41d9c7077b"
   },
   "outputs": [],
   "source": [
    "[v['attributes']['age'] for v in q]"
   ]
  },
  {
   "cell_type": "markdown",
   "metadata": {
    "colab_type": "text",
    "id": "BcIhLr6Qk26P"
   },
   "source": [
    "### Transform into a Pandas DataFrame"
   ]
  },
  {
   "cell_type": "code",
   "execution_count": null,
   "metadata": {
    "colab": {
     "base_uri": "https://localhost:8080/",
     "height": 137
    },
    "colab_type": "code",
    "id": "HKbzxmVPk26P",
    "outputId": "ad6cfa00-715d-4d8a-87b1-956f69268aac"
   },
   "outputs": [],
   "source": [
    "import pandas as pd\n",
    "\n",
    "pd.DataFrame([v['attributes'] for v in q])"
   ]
  },
  {
   "cell_type": "markdown",
   "metadata": {
    "colab_type": "text",
    "id": "dltnDFUsk26R"
   },
   "source": [
    "## User defined queries\n",
    "\n",
    "See [GSQL 101 - Module 4: Basic GSQL](https://youtu.be/eK6f7qnylj0) "
   ]
  },
  {
   "cell_type": "code",
   "execution_count": null,
   "metadata": {
    "colab": {},
    "colab_type": "code",
    "id": "5m_m_Xokk26S"
   },
   "outputs": [],
   "source": [
    "YouTubeVideo(width=896, height=504, id='eK6f7qnylj0')"
   ]
  },
  {
   "cell_type": "markdown",
   "metadata": {
    "colab_type": "text",
    "id": "1Ar5YgeHk26U"
   },
   "source": [
    "### Queries can saved and compiled (this takes about a minute)"
   ]
  },
  {
   "cell_type": "code",
   "execution_count": null,
   "metadata": {},
   "outputs": [],
   "source": [
    "print(conn.gsql('''\n",
    "drop query hello\n",
    "\n",
    "create query hello(vertex<person> p) for graph social{\n",
    "    \n",
    "    start = {p};\n",
    "    tgt = select t from start:s-(friendship:e)-person:t ;\n",
    "    print tgt;\n",
    "}\n",
    "\n",
    "install query hello\n",
    "'''))"
   ]
  },
  {
   "cell_type": "markdown",
   "metadata": {
    "colab_type": "text",
    "id": "VrsdwA0Dk26W"
   },
   "source": [
    "### Run the installed query and process the output"
   ]
  },
  {
   "cell_type": "code",
   "execution_count": null,
   "metadata": {
    "colab": {
     "base_uri": "https://localhost:8080/",
     "height": 283
    },
    "colab_type": "code",
    "id": "uyirQnElk26X",
    "outputId": "9537a7c5-61dc-4323-bda1-cb30d4db079a"
   },
   "outputs": [],
   "source": [
    "q = conn.gsql('run query hello({})'.format('\"Tom\"'))\n",
    "q"
   ]
  },
  {
   "cell_type": "code",
   "execution_count": null,
   "metadata": {
    "colab": {
     "base_uri": "https://localhost:8080/",
     "height": 34
    },
    "colab_type": "code",
    "id": "S8tErLGJk26Z",
    "outputId": "e76178a9-3f96-47c6-86fd-8aa7f03b62a7"
   },
   "outputs": [],
   "source": [
    "[v['attributes']['age'] for v in q['results'][0]['tgt']]"
   ]
  },
  {
   "cell_type": "markdown",
   "metadata": {
    "colab_type": "text",
    "id": "UjDxbelBk26a"
   },
   "source": [
    "## Accumulators\n",
    "\n",
    "See [GSQL 101 - Module 5: Advanced GSQL (Accumulators)](https://youtu.be/ysrm9OjVoqg)"
   ]
  },
  {
   "cell_type": "code",
   "execution_count": null,
   "metadata": {
    "colab": {},
    "colab_type": "code",
    "id": "caiDj6zak26b"
   },
   "outputs": [],
   "source": [
    "YouTubeVideo(width=896, height=504, id='ysrm9OjVoqg')"
   ]
  },
  {
   "cell_type": "markdown",
   "metadata": {
    "colab_type": "text",
    "id": "RVlq42Mqk26d"
   },
   "source": [
    "### Measuring hop distance\n",
    "\n",
    "Measuring hop distance requires that we flag every vertex we visit using a local accumulator `@visited`. Note how results exclude Jenny and Dan even though they are a friend of a friend of Tom. This is because they are also direct friends of Tom."
   ]
  },
  {
   "cell_type": "code",
   "execution_count": null,
   "metadata": {},
   "outputs": [],
   "source": [
    "print(conn.gsql('''\n",
    "drop query hello2\n",
    "\n",
    "create query hello2(vertex<person> p) for graph social {\n",
    "    \n",
    "    OrAccum @visited = false;\n",
    "    AvgAccum @@aveAge;\n",
    "    \n",
    "    start = {p};\n",
    "    \n",
    "    firstHop = select t from start:s-(friendship:e)-person:t\n",
    "               accum t.@visited += true, s.@visited += true;\n",
    "    \n",
    "    secondHop = select t from firstHop:s-(friendship:e)-person:t\n",
    "                where t.@visited == false\n",
    "                post_accum @@aveAge += t.age;\n",
    "    \n",
    "    print secondHop;\n",
    "    print @@aveAge;\n",
    "            \n",
    "}\n",
    "\n",
    "install query hello2\n",
    "'''))"
   ]
  },
  {
   "cell_type": "code",
   "execution_count": null,
   "metadata": {
    "colab": {
     "base_uri": "https://localhost:8080/",
     "height": 461
    },
    "colab_type": "code",
    "id": "sVADKVwHk26g",
    "outputId": "76e6c5cc-ddb0-4dc3-be22-66edda134fa6"
   },
   "outputs": [],
   "source": [
    "q = conn.gsql('run query hello2(\"Tom\")')\n",
    "q"
   ]
  },
  {
   "cell_type": "markdown",
   "metadata": {
    "colab_type": "text",
    "id": "x7QSMNEZk26i"
   },
   "source": [
    "### Global accumulators \n",
    "We can verify that the global accumulator `@@aveAge` did its job correctly."
   ]
  },
  {
   "cell_type": "code",
   "execution_count": null,
   "metadata": {
    "colab": {
     "base_uri": "https://localhost:8080/",
     "height": 34
    },
    "colab_type": "code",
    "id": "e3oNJyK_k26i",
    "outputId": "c9ff218e-84c0-4e8b-d5c2-8001e8c5801b"
   },
   "outputs": [],
   "source": [
    "q['results'][1]['@@aveAge']"
   ]
  },
  {
   "cell_type": "code",
   "execution_count": null,
   "metadata": {
    "colab": {
     "base_uri": "https://localhost:8080/",
     "height": 34
    },
    "colab_type": "code",
    "id": "sLP--BHdk26k",
    "outputId": "64325d49-bbb3-4b78-ef73-adbbdd696838"
   },
   "outputs": [],
   "source": [
    "ages = [v['attributes']['age'] for v in q['results'][0]['secondHop']]\n",
    "ages"
   ]
  },
  {
   "cell_type": "code",
   "execution_count": null,
   "metadata": {
    "colab": {
     "base_uri": "https://localhost:8080/",
     "height": 34
    },
    "colab_type": "code",
    "id": "uIL7cBgjk26n",
    "outputId": "12f0579b-17d4-4134-87cb-67ad1515e40f"
   },
   "outputs": [],
   "source": [
    "sum(ages)/len(ages)"
   ]
  },
  {
   "cell_type": "code",
   "execution_count": null,
   "metadata": {},
   "outputs": [],
   "source": []
  }
 ],
 "metadata": {
  "colab": {
   "collapsed_sections": [],
   "name": "GSQL101 - PyTigerGraph.ipynb",
   "provenance": []
  },
  "kernelspec": {
   "display_name": "Python 3",
   "language": "python",
   "name": "python3"
  },
  "language_info": {
   "codemirror_mode": {
    "name": "ipython",
    "version": 3
   },
   "file_extension": ".py",
   "mimetype": "text/x-python",
   "name": "python",
   "nbconvert_exporter": "python",
   "pygments_lexer": "ipython3",
   "version": "3.8.8"
  },
  "toc": {
   "base_numbering": 1,
   "nav_menu": {},
   "number_sections": false,
   "sideBar": true,
   "skip_h1_title": false,
   "title_cell": "Table of Contents",
   "title_sidebar": "Contents",
   "toc_cell": false,
   "toc_position": {},
   "toc_section_display": true,
   "toc_window_display": false
  }
 },
 "nbformat": 4,
 "nbformat_minor": 1
}
