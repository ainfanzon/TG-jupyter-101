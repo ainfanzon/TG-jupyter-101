{
 "cells": [
  {
   "cell_type": "markdown",
   "metadata": {
    "colab_type": "text",
    "id": "sIdweWQSk25O"
   },
   "source": [
    "# GSQL101 - using TigerGraph Cloud and pyTigerGraph\n",
    "by Bob Hardaway"
   ]
  },
  {
   "cell_type": "code",
   "execution_count": 2,
   "metadata": {},
   "outputs": [],
   "source": [
    "import pyTigerGraph as tg"
   ]
  },
  {
   "cell_type": "markdown",
   "metadata": {
    "colab_type": "text",
    "id": "LXpx_L7PqQgo"
   },
   "source": [
    "## Establish a connection to a TigerGraph Cloud server"
   ]
  },
  {
   "cell_type": "markdown",
   "metadata": {
    "colab_type": "text",
    "id": "okWA1NYJqUVX"
   },
   "source": [
    "### Start a [TigerGraph server](https://www.tigergraph.com/cloud/)"
   ]
  },
  {
   "cell_type": "code",
   "execution_count": 1,
   "metadata": {
    "colab": {},
    "colab_type": "code",
    "id": "VZB-lMkPAqxK"
   },
   "outputs": [
    {
     "data": {
      "image/jpeg": "[encoded data removed]",
      "text/html": [
       "\n",
       "        <iframe\n",
       "            width=\"896\"\n",
       "            height=\"504\"\n",
       "            src=\"https://www.youtube.com/embed/JARd9ULRP_I\"\n",
       "            frameborder=\"0\"\n",
       "            allowfullscreen\n",
       "        ></iframe>\n",
       "        "
      ],
      "text/plain": [
       "<IPython.lib.display.YouTubeVideo at 0x7ff6e923a700>"
      ]
     },
     "execution_count": 1,
     "metadata": {},
     "output_type": "execute_result"
    }
   ],
   "source": [
    "from IPython.display import YouTubeVideo\n",
    "\n",
    "YouTubeVideo(width=896, height=504, id='JARd9ULRP_I')"
   ]
  },
  {
   "cell_type": "markdown",
   "metadata": {},
   "source": [
    "### Without REST auth enable, just pw"
   ]
  },
  {
   "cell_type": "code",
   "execution_count": 5,
   "metadata": {},
   "outputs": [],
   "source": [
    "conn = tg.TigerGraphConnection(\n",
    "    host='http://ec2-52-44-226-118.compute-1.amazonaws.com',\n",
    "    username=\"tigergraph\",\n",
    "    password='tigergraph')"
   ]
  },
  {
   "cell_type": "code",
   "execution_count": 6,
   "metadata": {},
   "outputs": [
    {
     "name": "stdout",
     "output_type": "stream",
     "text": [
      "---- Global vertices, edges, and all graphs\n",
      "Vertex Types:\n",
      "- VERTEX AccredCert(PRIMARY_ID accredName STRING) WITH STATS=\"OUTDEGREE_BY_EDGETYPE\", PRIMARY_ID_AS_ATTRIBUTE=\"true\"\n",
      "- VERTEX Company(PRIMARY_ID companyName STRING) WITH STATS=\"OUTDEGREE_BY_EDGETYPE\", PRIMARY_ID_AS_ATTRIBUTE=\"true\"\n",
      "- VERTEX EDMGroup(PRIMARY_ID groupName STRING) WITH STATS=\"OUTDEGREE_BY_EDGETYPE\", PRIMARY_ID_AS_ATTRIBUTE=\"true\"\n",
      "- VERTEX Employer(PRIMARY_ID employerName STRING, city STRING, state STRING, country STRING) WITH STATS=\"OUTDEGREE_BY_EDGETYPE\", PRIMARY_ID_AS_ATTRIBUTE=\"true\"\n",
      "- VERTEX Member(PRIMARY_ID memberName STRING, memberEmail STRING, integrationID STRING, hlUserKey STRING, memberStatus STRING, joinDate DATETIME, gender STRING, firstName STRING, middleName STRING, lastName STRING, title STRING) WITH STATS=\"OUTDEGREE_BY_EDGETYPE\", PRIMARY_ID_AS_ATTRIBUTE=\"true\"\n",
      "- VERTEX MemberRole(PRIMARY_ID roleName STRING) WITH STATS=\"OUTDEGREE_BY_EDGETYPE\", PRIMARY_ID_AS_ATTRIBUTE=\"true\"\n",
      "- VERTEX Region(PRIMARY_ID name STRING) WITH STATS=\"OUTDEGREE_BY_EDGETYPE\", PRIMARY_ID_AS_ATTRIBUTE=\"true\"\n",
      "- VERTEX Title(PRIMARY_ID professionalTitle STRING) WITH STATS=\"OUTDEGREE_BY_EDGETYPE\", PRIMARY_ID_AS_ATTRIBUTE=\"true\"\n",
      "Edge Types:\n",
      "- DIRECTED EDGE employedBy(FROM Member, TO Employer) WITH REVERSE_EDGE=\"reverse_employedBy\"\n",
      "- DIRECTED EDGE reverse_employedBy(FROM Employer, TO Member) WITH REVERSE_EDGE=\"employedBy\"\n",
      "- DIRECTED EDGE has(FROM Member, TO MemberRole) WITH REVERSE_EDGE=\"reverse_has\"\n",
      "- DIRECTED EDGE reverse_has(FROM MemberRole, TO Member) WITH REVERSE_EDGE=\"has\"\n",
      "- DIRECTED EDGE hasAccreditation(FROM Member, TO AccredCert) WITH REVERSE_EDGE=\"reverse_hasAccreditation\"\n",
      "- DIRECTED EDGE reverse_hasAccreditation(FROM AccredCert, TO Member) WITH REVERSE_EDGE=\"hasAccreditation\"\n",
      "- DIRECTED EDGE locatedIn(FROM Member, TO Region) WITH REVERSE_EDGE=\"reverse_locatedIn\"\n",
      "- DIRECTED EDGE reverse_locatedIn(FROM Region, TO Member) WITH REVERSE_EDGE=\"locatedIn\"\n",
      "- DIRECTED EDGE partOf(FROM Member, TO EDMGroup) WITH REVERSE_EDGE=\"reverse_partOf\"\n",
      "- DIRECTED EDGE reverse_partOf(FROM EDMGroup, TO Member) WITH REVERSE_EDGE=\"partOf\"\n",
      "- DIRECTED EDGE worksAt(FROM Member, TO Company) WITH REVERSE_EDGE=\"reverse_worksAt\"\n",
      "- DIRECTED EDGE reverse_worksAt(FROM Company, TO Member) WITH REVERSE_EDGE=\"worksAt\"\n",
      "- DIRECTED EDGE hasTitle(FROM Member, TO Title) WITH REVERSE_EDGE=\"reverse_hasTitle\"\n",
      "- DIRECTED EDGE reverse_hasTitle(FROM Title, TO Member) WITH REVERSE_EDGE=\"hasTitle\"\n",
      "\n",
      "Graphs:\n",
      "- Graph EDMMembership(AccredCert:v, Company:v, EDMGroup:v, Employer:v, Member:v, MemberRole:v, Region:v, Title:v, employedBy:e, reverse_employedBy:e, has:e, reverse_has:e, hasAccreditation:e, reverse_hasAccreditation:e, locatedIn:e, reverse_locatedIn:e, partOf:e, reverse_partOf:e, worksAt:e, reverse_worksAt:e, hasTitle:e, reverse_hasTitle:e)\n",
      "- Graph Recommendations(Person:v, Movie:v, Rating:v, ratesA:e, reverse_ratesA:e, IsForA:e, reverse_IsForA:e)\n",
      "Jobs:\n",
      "\n",
      "\n",
      "JSON API version: v2\n",
      "Syntax version: v1\n",
      "\n"
     ]
    }
   ],
   "source": [
    "conn.graphname = 'Recommendations'\n",
    "print(conn.gsql('''ls''', options=[]))"
   ]
  },
  {
   "cell_type": "markdown",
   "metadata": {
    "colab_type": "text",
    "id": "17LC4XRDBUCO"
   },
   "source": [
    "## Enter your server's ip address and password"
   ]
  },
  {
   "cell_type": "code",
   "execution_count": 8,
   "metadata": {
    "colab": {
     "base_uri": "https://localhost:8080/",
     "height": 34
    },
    "colab_type": "code",
    "id": "94CPhylck25Z",
    "outputId": "8b6e519b-edf3-4ffe-faa7-f1927fbe16cc"
   },
   "outputs": [
    {
     "name": "stdout",
     "output_type": "stream",
     "text": [
      "········\n"
     ]
    }
   ],
   "source": [
    "import getpass\n",
    "\n",
    "server = 'http://ec2-54-89-39-153.compute-1.amazonaws.com/.amazonaws.com:14240'\n",
    "password = getpass.getpass()"
   ]
  },
  {
   "cell_type": "code",
   "execution_count": 13,
   "metadata": {},
   "outputs": [
    {
     "name": "stdout",
     "output_type": "stream",
     "text": [
      "<pyTigerGraph.pyTigerGraph.TigerGraphConnection object at 0x7fd8900d8790>\n"
     ]
    }
   ],
   "source": [
    "graph = tg.TigerGraphConnection(host=\"http://ec2-54-89-39-153.compute-1.amazonaws.com\", graphname=\"MyGraph\")\n",
    "print(graph)"
   ]
  },
  {
   "cell_type": "code",
   "execution_count": 14,
   "metadata": {},
   "outputs": [
    {
     "ename": "TigerGraphException",
     "evalue": "(\"REST++ authentication is not enabled, can't generate token.\", None)",
     "output_type": "error",
     "traceback": [
      "\u001b[0;31m---------------------------------------------------------------------------\u001b[0m",
      "\u001b[0;31mTigerGraphException\u001b[0m                       Traceback (most recent call last)",
      "\u001b[0;32m<ipython-input-14-0d08d18a05a8>\u001b[0m in \u001b[0;36m<module>\u001b[0;34m\u001b[0m\n\u001b[0;32m----> 1\u001b[0;31m \u001b[0mauthToken\u001b[0m \u001b[0;34m=\u001b[0m \u001b[0mgraph\u001b[0m\u001b[0;34m.\u001b[0m\u001b[0mgetToken\u001b[0m\u001b[0;34m(\u001b[0m\u001b[0;34m\"2da080dfao4um5ijhej96thmi8sn4fat\"\u001b[0m\u001b[0;34m)\u001b[0m\u001b[0;34m\u001b[0m\u001b[0;34m\u001b[0m\u001b[0m\n\u001b[0m\u001b[1;32m      2\u001b[0m \u001b[0mprint\u001b[0m\u001b[0;34m(\u001b[0m\u001b[0mauthToken\u001b[0m\u001b[0;34m)\u001b[0m\u001b[0;34m\u001b[0m\u001b[0;34m\u001b[0m\u001b[0m\n",
      "\u001b[0;32m~/opt/anaconda3/lib/python3.8/site-packages/pyTigerGraph/pyTigerGraph.py\u001b[0m in \u001b[0;36mgetToken\u001b[0;34m(self, secret, setToken, lifetime)\u001b[0m\n\u001b[1;32m   1434\u001b[0m                     '%Y-%m-%d %H:%M:%S')\n\u001b[1;32m   1435\u001b[0m         \u001b[0;32mif\u001b[0m \u001b[0;34m\"Endpoint is not found from url = /requesttoken\"\u001b[0m \u001b[0;32min\u001b[0m \u001b[0mres\u001b[0m\u001b[0;34m[\u001b[0m\u001b[0;34m\"message\"\u001b[0m\u001b[0;34m]\u001b[0m\u001b[0;34m:\u001b[0m\u001b[0;34m\u001b[0m\u001b[0;34m\u001b[0m\u001b[0m\n\u001b[0;32m-> 1436\u001b[0;31m             \u001b[0;32mraise\u001b[0m \u001b[0mTigerGraphException\u001b[0m\u001b[0;34m(\u001b[0m\u001b[0;34m\"REST++ authentication is not enabled, can't generate token.\"\u001b[0m\u001b[0;34m,\u001b[0m \u001b[0;32mNone\u001b[0m\u001b[0;34m)\u001b[0m\u001b[0;34m\u001b[0m\u001b[0;34m\u001b[0m\u001b[0m\n\u001b[0m\u001b[1;32m   1437\u001b[0m         \u001b[0;32mraise\u001b[0m \u001b[0mTigerGraphException\u001b[0m\u001b[0;34m(\u001b[0m\u001b[0mres\u001b[0m\u001b[0;34m[\u001b[0m\u001b[0;34m\"message\"\u001b[0m\u001b[0;34m]\u001b[0m\u001b[0;34m,\u001b[0m \u001b[0;34m(\u001b[0m\u001b[0mres\u001b[0m\u001b[0;34m[\u001b[0m\u001b[0;34m\"code\"\u001b[0m\u001b[0;34m]\u001b[0m \u001b[0;32mif\u001b[0m \u001b[0;34m\"code\"\u001b[0m \u001b[0;32min\u001b[0m \u001b[0mres\u001b[0m \u001b[0;32melse\u001b[0m \u001b[0;32mNone\u001b[0m\u001b[0;34m)\u001b[0m\u001b[0;34m)\u001b[0m\u001b[0;34m\u001b[0m\u001b[0;34m\u001b[0m\u001b[0m\n\u001b[1;32m   1438\u001b[0m \u001b[0;34m\u001b[0m\u001b[0m\n",
      "\u001b[0;31mTigerGraphException\u001b[0m: (\"REST++ authentication is not enabled, can't generate token.\", None)"
     ]
    }
   ],
   "source": [
    "authToken = graph.getToken(\"2da080dfao4um5ijhej96thmi8sn4fat\")\n",
    "print(authToken)"
   ]
  },
  {
   "cell_type": "code",
   "execution_count": 8,
   "metadata": {},
   "outputs": [],
   "source": [
    "import pyTigerGraph as tg \n",
    "\n",
    "token = tg.TigerGraphConnection(host=\"https://se-python-demo.i.tgcloud.io\", graphname=\"Recommender\").getToken(\"1cet65nsufrn8h9n17c50hacrjl2dh71\", \"1000000\")[0]\n",
    "\n",
    "conn = tg.TigerGraphConnection(host=\"https://se-python-demo.i.tgcloud.io\", graphname=\"Recommender\", apiToken=token)"
   ]
  },
  {
   "cell_type": "code",
   "execution_count": 12,
   "metadata": {},
   "outputs": [
    {
     "name": "stdout",
     "output_type": "stream",
     "text": [
      "944\n"
     ]
    }
   ],
   "source": [
    "count = conn.getVertexCount(\"USER\")\n",
    "print(count)"
   ]
  },
  {
   "cell_type": "code",
   "execution_count": null,
   "metadata": {},
   "outputs": [],
   "source": [
    "df = conn.getVertexDataframe(\"USER\", limit=100)\n",
    "df.head()"
   ]
  },
  {
   "cell_type": "markdown",
   "metadata": {
    "colab_type": "text",
    "id": "PrpgiX2tHABq"
   },
   "source": [
    "## Set up a pyTigerGraph connection to the server"
   ]
  },
  {
   "cell_type": "code",
   "execution_count": 11,
   "metadata": {
    "colab": {
     "base_uri": "https://localhost:8080/",
     "height": 34
    },
    "colab_type": "code",
    "id": "fBeXySYaG_Hv",
    "outputId": "f4a9a70e-c839-453f-a48a-f4cf3b2b901e"
   },
   "outputs": [],
   "source": [
    "conn = tg.TigerGraphConnection(\n",
    "    host=server, \n",
    "    graphname='MyGraph', \n",
    "    password=password \n",
    "    )"
   ]
  },
  {
   "cell_type": "markdown",
   "metadata": {
    "colab_type": "text",
    "id": "FmFUHnDGk25n"
   },
   "source": [
    "## Test your connection"
   ]
  },
  {
   "cell_type": "markdown",
   "metadata": {
    "colab_type": "text",
    "id": "O2aIruWcw87Q"
   },
   "source": [
    "Use `options=[]` when issuing GSQL instructions to global instead of your default graph. When running `ls` in global mode you will see all the vertices and edges from all your graphs. In my case, there are currently three graphs already loaded on the server.   "
   ]
  },
  {
   "cell_type": "code",
   "execution_count": 12,
   "metadata": {
    "colab": {},
    "colab_type": "code",
    "id": "mlpZuMYpCyhu"
   },
   "outputs": [
    {
     "name": "stdout",
     "output_type": "stream",
     "text": [
      "{'isClientCompatible': True, 'shellPrompt': 'GSQL > ', 'welcomeMessage': 'Welcome to TigerGraph.', 'error': True, 'message': 'Wrong password!\\n'}\n",
      "Connection Failed check your Username/Password Invalid Username/Password!\n",
      "Couldn't Initialize the client see Above Error\n"
     ]
    },
    {
     "ename": "NameError",
     "evalue": "name 'exit' is not defined",
     "output_type": "error",
     "traceback": [
      "\u001b[0;31m---------------------------------------------------------------------------\u001b[0m",
      "\u001b[0;31mNameError\u001b[0m                                 Traceback (most recent call last)",
      "\u001b[0;32m<ipython-input-12-6b2ca39c2346>\u001b[0m in \u001b[0;36m<module>\u001b[0;34m\u001b[0m\n\u001b[0;32m----> 1\u001b[0;31m \u001b[0mprint\u001b[0m\u001b[0;34m(\u001b[0m\u001b[0mconn\u001b[0m\u001b[0;34m.\u001b[0m\u001b[0mgsql\u001b[0m\u001b[0;34m(\u001b[0m\u001b[0;34m'ls'\u001b[0m\u001b[0;34m,\u001b[0m \u001b[0moptions\u001b[0m\u001b[0;34m=\u001b[0m\u001b[0;34m[\u001b[0m\u001b[0;34m]\u001b[0m\u001b[0;34m)\u001b[0m\u001b[0;34m)\u001b[0m\u001b[0;34m\u001b[0m\u001b[0;34m\u001b[0m\u001b[0m\n\u001b[0m",
      "\u001b[0;32m~/opt/anaconda3/lib/python3.8/site-packages/pyTigerGraph/pyTigerGraph.py\u001b[0m in \u001b[0;36mgsql\u001b[0;34m(self, query, options)\u001b[0m\n\u001b[1;32m   1715\u001b[0m         \u001b[0;32melse\u001b[0m\u001b[0;34m:\u001b[0m\u001b[0;34m\u001b[0m\u001b[0;34m\u001b[0m\u001b[0m\n\u001b[1;32m   1716\u001b[0m             \u001b[0mprint\u001b[0m\u001b[0;34m(\u001b[0m\u001b[0;34m\"Couldn't Initialize the client see Above Error\"\u001b[0m\u001b[0;34m)\u001b[0m\u001b[0;34m\u001b[0m\u001b[0;34m\u001b[0m\u001b[0m\n\u001b[0;32m-> 1717\u001b[0;31m             \u001b[0mexit\u001b[0m\u001b[0;34m(\u001b[0m\u001b[0;36m0\u001b[0m\u001b[0;34m)\u001b[0m\u001b[0;34m\u001b[0m\u001b[0;34m\u001b[0m\u001b[0m\n\u001b[0m\u001b[1;32m   1718\u001b[0m \u001b[0;34m\u001b[0m\u001b[0m\n\u001b[1;32m   1719\u001b[0m         \u001b[0;32mreturn\u001b[0m\u001b[0;34m\u001b[0m\u001b[0;34m\u001b[0m\u001b[0m\n",
      "\u001b[0;31mNameError\u001b[0m: name 'exit' is not defined"
     ]
    }
   ],
   "source": [
    "print(conn.gsql('ls', options=[]))"
   ]
  },
  {
   "cell_type": "markdown",
   "metadata": {
    "colab_type": "text",
    "id": "rHsErjExk25u"
   },
   "source": [
    "### Clear the server if you need to (be careful with this)"
   ]
  },
  {
   "cell_type": "code",
   "execution_count": 6,
   "metadata": {
    "colab": {},
    "colab_type": "code",
    "id": "KMWCtajBk25v"
   },
   "outputs": [],
   "source": [
    "#print(conn.gsql('drop all', options=[]))"
   ]
  },
  {
   "cell_type": "markdown",
   "metadata": {},
   "source": [
    "### To clear a particular graph drop its queries, then the graph, then its edges, then its vertices"
   ]
  },
  {
   "cell_type": "code",
   "execution_count": 7,
   "metadata": {},
   "outputs": [
    {
     "name": "stdout",
     "output_type": "stream",
     "text": [
      "========================\n",
      "Trying version: v2_6_0\n",
      "Connecting to yaniv.i.tgcloud.io:14240\n",
      "If there is any relative path, it is relative to tigergraph/dev/gdk/gsql\n",
      "The query hello is dropped.\n",
      "The query hello2 is dropped.\n",
      "The graph social is dropped.\n",
      "The edge type friendship is dropped.\n",
      "The vertex type person is dropped.\n",
      "\n"
     ]
    }
   ],
   "source": [
    "print(conn.gsql('''\n",
    "drop query hello\n",
    "drop query hello2\n",
    "drop graph social\n",
    "drop edge friendship\n",
    "drop vertex person\n",
    "'''))"
   ]
  },
  {
   "cell_type": "markdown",
   "metadata": {
    "colab_type": "text",
    "id": "FzBSHIjfk25x"
   },
   "source": [
    "### Create the graph schema\n",
    "\n",
    "See [GSQL 101 - Module 1: Graph Schema](https://youtu.be/him2Uy3Nn7Y)\n"
   ]
  },
  {
   "cell_type": "code",
   "execution_count": 8,
   "metadata": {
    "colab": {},
    "colab_type": "code",
    "id": "nN05blvDk25x"
   },
   "outputs": [
    {
     "data": {
      "image/jpeg": "[encoded data removed]",
      "text/html": [
       "\n",
       "        <iframe\n",
       "            width=\"896\"\n",
       "            height=\"504\"\n",
       "            src=\"https://www.youtube.com/embed/him2Uy3Nn7Y\"\n",
       "            frameborder=\"0\"\n",
       "            allowfullscreen\n",
       "        ></iframe>\n",
       "        "
      ],
      "text/plain": [
       "<IPython.lib.display.YouTubeVideo at 0x7f8d9eab3410>"
      ]
     },
     "execution_count": 8,
     "metadata": {},
     "output_type": "execute_result"
    }
   ],
   "source": [
    "YouTubeVideo(width=896, height=504, id='him2Uy3Nn7Y')"
   ]
  },
  {
   "cell_type": "code",
   "execution_count": 9,
   "metadata": {
    "colab": {
     "base_uri": "https://localhost:8080/",
     "height": 301
    },
    "colab_type": "code",
    "id": "WnXp8Rk3k250",
    "outputId": "5c731f36-caf0-4b88-8f25-0c3a32eca065"
   },
   "outputs": [
    {
     "name": "stdout",
     "output_type": "stream",
     "text": [
      "========================\n",
      "Trying version: v2_6_0\n",
      "Connecting to yaniv.i.tgcloud.io:14240\n",
      "If there is any relative path, it is relative to tigergraph/dev/gdk/gsql\n",
      "The vertex type person is created.\n",
      "The edge type friendship is created.\n",
      "The graph social is created.\n",
      "\n"
     ]
    }
   ],
   "source": [
    "print(conn.gsql('''\n",
    "create vertex person (primary_id name string, name string, age int, \n",
    "                      gender string, state string)\n",
    "                      \n",
    "create undirected edge friendship (from person, to person, \n",
    "                                   connect_day datetime)\n",
    "\n",
    "create graph social (person, friendship)\n",
    "''', options=[]))"
   ]
  },
  {
   "cell_type": "markdown",
   "metadata": {
    "colab_type": "text",
    "id": "3eZ68entyE0N"
   },
   "source": [
    "### Write data files to disk"
   ]
  },
  {
   "cell_type": "code",
   "execution_count": 10,
   "metadata": {
    "colab": {
     "base_uri": "https://localhost:8080/",
     "height": 34
    },
    "colab_type": "code",
    "id": "X_Nz-dVTk25o",
    "outputId": "dcdaeca4-1836-4a61-9873-8f2bb015e7a5"
   },
   "outputs": [
    {
     "name": "stdout",
     "output_type": "stream",
     "text": [
      "Overwriting person.csv\n"
     ]
    }
   ],
   "source": [
    "%%writefile person.csv\n",
    "name,gender,age,state\n",
    "Tom,male,40,ca\n",
    "Dan,male,34,ny\n",
    "Jenny,female,25,tx\n",
    "Kevin,male,28,az\n",
    "Amily,female,22,ca\n",
    "Nancy,female,20,ky\n",
    "Jack,male,26,fl"
   ]
  },
  {
   "cell_type": "code",
   "execution_count": 11,
   "metadata": {
    "colab": {
     "base_uri": "https://localhost:8080/",
     "height": 34
    },
    "colab_type": "code",
    "id": "qEiWKZEFk25q",
    "outputId": "869d0da1-aaab-47a8-c0d0-9dfb4ff639f1"
   },
   "outputs": [
    {
     "name": "stdout",
     "output_type": "stream",
     "text": [
      "Overwriting friendship.csv\n"
     ]
    }
   ],
   "source": [
    "%%writefile friendship.csv\n",
    "person1,person2,date\n",
    "Tom,Dan,2017-06-03\n",
    "Tom,Jenny,2015-01-01\n",
    "Dan,Jenny,2016-08-03\n",
    "Jenny,Amily,2015-06-08\n",
    "Dan,Nancy,2016-01-03\n",
    "Nancy,Jack,2017-03-02\n",
    "Dan,Kevin,2015-12-30"
   ]
  },
  {
   "cell_type": "markdown",
   "metadata": {
    "colab_type": "text",
    "id": "ctA4U2VIy8od"
   },
   "source": [
    "## Use pyTigerGraph to upsert data\n",
    "\n",
    "If using a secure server you'll need to get a secret and a token"
   ]
  },
  {
   "cell_type": "code",
   "execution_count": 12,
   "metadata": {
    "colab": {},
    "colab_type": "code",
    "id": "nlTqQo_Az9nA"
   },
   "outputs": [],
   "source": [
    "secret = conn.createSecret()\n",
    "conn.getToken(secret=secret);"
   ]
  },
  {
   "cell_type": "code",
   "execution_count": 13,
   "metadata": {
    "colab": {
     "base_uri": "https://localhost:8080/",
     "height": 287
    },
    "colab_type": "code",
    "id": "yxD4nrHVzTUQ",
    "outputId": "18878c0f-aa93-4a9a-9b85-1e73ffe3ef58"
   },
   "outputs": [
    {
     "data": {
      "text/html": [
       "<div>\n",
       "<style scoped>\n",
       "    .dataframe tbody tr th:only-of-type {\n",
       "        vertical-align: middle;\n",
       "    }\n",
       "\n",
       "    .dataframe tbody tr th {\n",
       "        vertical-align: top;\n",
       "    }\n",
       "\n",
       "    .dataframe thead th {\n",
       "        text-align: right;\n",
       "    }\n",
       "</style>\n",
       "<table border=\"1\" class=\"dataframe\">\n",
       "  <thead>\n",
       "    <tr style=\"text-align: right;\">\n",
       "      <th></th>\n",
       "      <th>name</th>\n",
       "      <th>gender</th>\n",
       "      <th>age</th>\n",
       "      <th>state</th>\n",
       "    </tr>\n",
       "  </thead>\n",
       "  <tbody>\n",
       "    <tr>\n",
       "      <th>0</th>\n",
       "      <td>Tom</td>\n",
       "      <td>male</td>\n",
       "      <td>40</td>\n",
       "      <td>ca</td>\n",
       "    </tr>\n",
       "    <tr>\n",
       "      <th>1</th>\n",
       "      <td>Dan</td>\n",
       "      <td>male</td>\n",
       "      <td>34</td>\n",
       "      <td>ny</td>\n",
       "    </tr>\n",
       "    <tr>\n",
       "      <th>2</th>\n",
       "      <td>Jenny</td>\n",
       "      <td>female</td>\n",
       "      <td>25</td>\n",
       "      <td>tx</td>\n",
       "    </tr>\n",
       "    <tr>\n",
       "      <th>3</th>\n",
       "      <td>Kevin</td>\n",
       "      <td>male</td>\n",
       "      <td>28</td>\n",
       "      <td>az</td>\n",
       "    </tr>\n",
       "    <tr>\n",
       "      <th>4</th>\n",
       "      <td>Amily</td>\n",
       "      <td>female</td>\n",
       "      <td>22</td>\n",
       "      <td>ca</td>\n",
       "    </tr>\n",
       "    <tr>\n",
       "      <th>5</th>\n",
       "      <td>Nancy</td>\n",
       "      <td>female</td>\n",
       "      <td>20</td>\n",
       "      <td>ky</td>\n",
       "    </tr>\n",
       "    <tr>\n",
       "      <th>6</th>\n",
       "      <td>Jack</td>\n",
       "      <td>male</td>\n",
       "      <td>26</td>\n",
       "      <td>fl</td>\n",
       "    </tr>\n",
       "  </tbody>\n",
       "</table>\n",
       "</div>"
      ],
      "text/plain": [
       "    name  gender  age state\n",
       "0    Tom    male   40    ca\n",
       "1    Dan    male   34    ny\n",
       "2  Jenny  female   25    tx\n",
       "3  Kevin    male   28    az\n",
       "4  Amily  female   22    ca\n",
       "5  Nancy  female   20    ky\n",
       "6   Jack    male   26    fl"
      ]
     },
     "execution_count": 13,
     "metadata": {},
     "output_type": "execute_result"
    }
   ],
   "source": [
    "import pandas as pd\n",
    "\n",
    "person = pd.read_csv('person.csv')\n",
    "person"
   ]
  },
  {
   "cell_type": "code",
   "execution_count": 14,
   "metadata": {
    "colab": {
     "base_uri": "https://localhost:8080/",
     "height": 141
    },
    "colab_type": "code",
    "id": "ij1r9QCM05sm",
    "outputId": "06d9bb5d-c376-4c82-d7de-3d70022a2f1c"
   },
   "outputs": [
    {
     "data": {
      "text/plain": [
       "7"
      ]
     },
     "execution_count": 14,
     "metadata": {},
     "output_type": "execute_result"
    }
   ],
   "source": [
    "conn.upsertVertexDataframe(\n",
    "    df=person, vertexType='person', v_id='name')"
   ]
  },
  {
   "cell_type": "code",
   "execution_count": 15,
   "metadata": {
    "colab": {
     "base_uri": "https://localhost:8080/",
     "height": 287
    },
    "colab_type": "code",
    "id": "bech6jpa47GG",
    "outputId": "4155d42a-6c21-4fa4-c381-7c7c06a9e740",
    "scrolled": true
   },
   "outputs": [
    {
     "data": {
      "text/html": [
       "<div>\n",
       "<style scoped>\n",
       "    .dataframe tbody tr th:only-of-type {\n",
       "        vertical-align: middle;\n",
       "    }\n",
       "\n",
       "    .dataframe tbody tr th {\n",
       "        vertical-align: top;\n",
       "    }\n",
       "\n",
       "    .dataframe thead th {\n",
       "        text-align: right;\n",
       "    }\n",
       "</style>\n",
       "<table border=\"1\" class=\"dataframe\">\n",
       "  <thead>\n",
       "    <tr style=\"text-align: right;\">\n",
       "      <th></th>\n",
       "      <th>person1</th>\n",
       "      <th>person2</th>\n",
       "      <th>date</th>\n",
       "    </tr>\n",
       "  </thead>\n",
       "  <tbody>\n",
       "    <tr>\n",
       "      <th>0</th>\n",
       "      <td>Tom</td>\n",
       "      <td>Dan</td>\n",
       "      <td>2017-06-03</td>\n",
       "    </tr>\n",
       "    <tr>\n",
       "      <th>1</th>\n",
       "      <td>Tom</td>\n",
       "      <td>Jenny</td>\n",
       "      <td>2015-01-01</td>\n",
       "    </tr>\n",
       "    <tr>\n",
       "      <th>2</th>\n",
       "      <td>Dan</td>\n",
       "      <td>Jenny</td>\n",
       "      <td>2016-08-03</td>\n",
       "    </tr>\n",
       "    <tr>\n",
       "      <th>3</th>\n",
       "      <td>Jenny</td>\n",
       "      <td>Amily</td>\n",
       "      <td>2015-06-08</td>\n",
       "    </tr>\n",
       "    <tr>\n",
       "      <th>4</th>\n",
       "      <td>Dan</td>\n",
       "      <td>Nancy</td>\n",
       "      <td>2016-01-03</td>\n",
       "    </tr>\n",
       "    <tr>\n",
       "      <th>5</th>\n",
       "      <td>Nancy</td>\n",
       "      <td>Jack</td>\n",
       "      <td>2017-03-02</td>\n",
       "    </tr>\n",
       "    <tr>\n",
       "      <th>6</th>\n",
       "      <td>Dan</td>\n",
       "      <td>Kevin</td>\n",
       "      <td>2015-12-30</td>\n",
       "    </tr>\n",
       "  </tbody>\n",
       "</table>\n",
       "</div>"
      ],
      "text/plain": [
       "  person1 person2        date\n",
       "0     Tom     Dan  2017-06-03\n",
       "1     Tom   Jenny  2015-01-01\n",
       "2     Dan   Jenny  2016-08-03\n",
       "3   Jenny   Amily  2015-06-08\n",
       "4     Dan   Nancy  2016-01-03\n",
       "5   Nancy    Jack  2017-03-02\n",
       "6     Dan   Kevin  2015-12-30"
      ]
     },
     "execution_count": 15,
     "metadata": {},
     "output_type": "execute_result"
    }
   ],
   "source": [
    "friendship = pd.read_csv('friendship.csv')\n",
    "friendship"
   ]
  },
  {
   "cell_type": "code",
   "execution_count": 16,
   "metadata": {},
   "outputs": [
    {
     "data": {
      "text/plain": [
       "7"
      ]
     },
     "execution_count": 16,
     "metadata": {},
     "output_type": "execute_result"
    }
   ],
   "source": [
    "conn.upsertEdgesDataframe(\n",
    "    df=friendship, \n",
    "    sourceVertexType='person', \n",
    "    edgeType='friendship', \n",
    "    targetVertexType='person',\n",
    "    from_id='person1', \n",
    "    to_id='person2', \n",
    "    attributes={'connect_day':'date'})"
   ]
  },
  {
   "cell_type": "markdown",
   "metadata": {},
   "source": [
    "### Downloading dataframes"
   ]
  },
  {
   "cell_type": "code",
   "execution_count": 17,
   "metadata": {},
   "outputs": [
    {
     "data": {
      "text/html": [
       "<div>\n",
       "<style scoped>\n",
       "    .dataframe tbody tr th:only-of-type {\n",
       "        vertical-align: middle;\n",
       "    }\n",
       "\n",
       "    .dataframe tbody tr th {\n",
       "        vertical-align: top;\n",
       "    }\n",
       "\n",
       "    .dataframe thead th {\n",
       "        text-align: right;\n",
       "    }\n",
       "</style>\n",
       "<table border=\"1\" class=\"dataframe\">\n",
       "  <thead>\n",
       "    <tr style=\"text-align: right;\">\n",
       "      <th></th>\n",
       "      <th>v_id</th>\n",
       "      <th>age</th>\n",
       "      <th>gender</th>\n",
       "    </tr>\n",
       "  </thead>\n",
       "  <tbody>\n",
       "    <tr>\n",
       "      <th>0</th>\n",
       "      <td>Dan</td>\n",
       "      <td>34</td>\n",
       "      <td>male</td>\n",
       "    </tr>\n",
       "    <tr>\n",
       "      <th>1</th>\n",
       "      <td>Tom</td>\n",
       "      <td>40</td>\n",
       "      <td>male</td>\n",
       "    </tr>\n",
       "    <tr>\n",
       "      <th>2</th>\n",
       "      <td>Jenny</td>\n",
       "      <td>25</td>\n",
       "      <td>female</td>\n",
       "    </tr>\n",
       "    <tr>\n",
       "      <th>3</th>\n",
       "      <td>Jack</td>\n",
       "      <td>26</td>\n",
       "      <td>male</td>\n",
       "    </tr>\n",
       "    <tr>\n",
       "      <th>4</th>\n",
       "      <td>Kevin</td>\n",
       "      <td>28</td>\n",
       "      <td>male</td>\n",
       "    </tr>\n",
       "  </tbody>\n",
       "</table>\n",
       "</div>"
      ],
      "text/plain": [
       "    v_id  age  gender\n",
       "0    Dan   34    male\n",
       "1    Tom   40    male\n",
       "2  Jenny   25  female\n",
       "3   Jack   26    male\n",
       "4  Kevin   28    male"
      ]
     },
     "execution_count": 17,
     "metadata": {},
     "output_type": "execute_result"
    }
   ],
   "source": [
    "# select argument must be comma delimited with no spaces\n",
    "conn.getVertexDataframe('person', select='age,gender', where='age > 22')"
   ]
  },
  {
   "cell_type": "markdown",
   "metadata": {},
   "source": [
    "We can ask for specific vertices by providing a list of their IDs."
   ]
  },
  {
   "cell_type": "code",
   "execution_count": 18,
   "metadata": {},
   "outputs": [
    {
     "data": {
      "text/html": [
       "<div>\n",
       "<style scoped>\n",
       "    .dataframe tbody tr th:only-of-type {\n",
       "        vertical-align: middle;\n",
       "    }\n",
       "\n",
       "    .dataframe tbody tr th {\n",
       "        vertical-align: top;\n",
       "    }\n",
       "\n",
       "    .dataframe thead th {\n",
       "        text-align: right;\n",
       "    }\n",
       "</style>\n",
       "<table border=\"1\" class=\"dataframe\">\n",
       "  <thead>\n",
       "    <tr style=\"text-align: right;\">\n",
       "      <th></th>\n",
       "      <th>v_id</th>\n",
       "      <th>name</th>\n",
       "      <th>age</th>\n",
       "      <th>gender</th>\n",
       "      <th>state</th>\n",
       "    </tr>\n",
       "  </thead>\n",
       "  <tbody>\n",
       "    <tr>\n",
       "      <th>0</th>\n",
       "      <td>Tom</td>\n",
       "      <td>Tom</td>\n",
       "      <td>40</td>\n",
       "      <td>male</td>\n",
       "      <td>ca</td>\n",
       "    </tr>\n",
       "    <tr>\n",
       "      <th>1</th>\n",
       "      <td>Jenny</td>\n",
       "      <td>Jenny</td>\n",
       "      <td>25</td>\n",
       "      <td>female</td>\n",
       "      <td>tx</td>\n",
       "    </tr>\n",
       "  </tbody>\n",
       "</table>\n",
       "</div>"
      ],
      "text/plain": [
       "    v_id   name  age  gender state\n",
       "0    Tom    Tom   40    male    ca\n",
       "1  Jenny  Jenny   25  female    tx"
      ]
     },
     "execution_count": 18,
     "metadata": {},
     "output_type": "execute_result"
    }
   ],
   "source": [
    "conn.getVertexDataframeByID('person', ['Tom', 'Jenny'])"
   ]
  },
  {
   "cell_type": "markdown",
   "metadata": {},
   "source": [
    "To collect edges one must provide a list of vertices they are connected to."
   ]
  },
  {
   "cell_type": "code",
   "execution_count": 19,
   "metadata": {},
   "outputs": [
    {
     "data": {
      "text/html": [
       "<div>\n",
       "<style scoped>\n",
       "    .dataframe tbody tr th:only-of-type {\n",
       "        vertical-align: middle;\n",
       "    }\n",
       "\n",
       "    .dataframe tbody tr th {\n",
       "        vertical-align: top;\n",
       "    }\n",
       "\n",
       "    .dataframe thead th {\n",
       "        text-align: right;\n",
       "    }\n",
       "</style>\n",
       "<table border=\"1\" class=\"dataframe\">\n",
       "  <thead>\n",
       "    <tr style=\"text-align: right;\">\n",
       "      <th></th>\n",
       "      <th>e_type</th>\n",
       "      <th>directed</th>\n",
       "      <th>from_id</th>\n",
       "      <th>to_id</th>\n",
       "      <th>to_type</th>\n",
       "      <th>connect_day</th>\n",
       "    </tr>\n",
       "  </thead>\n",
       "  <tbody>\n",
       "    <tr>\n",
       "      <th>0</th>\n",
       "      <td>friendship</td>\n",
       "      <td>False</td>\n",
       "      <td>Tom</td>\n",
       "      <td>Jenny</td>\n",
       "      <td>person</td>\n",
       "      <td>2015-01-01 00:00:00</td>\n",
       "    </tr>\n",
       "    <tr>\n",
       "      <th>1</th>\n",
       "      <td>friendship</td>\n",
       "      <td>False</td>\n",
       "      <td>Tom</td>\n",
       "      <td>Dan</td>\n",
       "      <td>person</td>\n",
       "      <td>2017-06-03 00:00:00</td>\n",
       "    </tr>\n",
       "    <tr>\n",
       "      <th>2</th>\n",
       "      <td>friendship</td>\n",
       "      <td>False</td>\n",
       "      <td>Jenny</td>\n",
       "      <td>Amily</td>\n",
       "      <td>person</td>\n",
       "      <td>2015-06-08 00:00:00</td>\n",
       "    </tr>\n",
       "    <tr>\n",
       "      <th>3</th>\n",
       "      <td>friendship</td>\n",
       "      <td>False</td>\n",
       "      <td>Jenny</td>\n",
       "      <td>Tom</td>\n",
       "      <td>person</td>\n",
       "      <td>2015-01-01 00:00:00</td>\n",
       "    </tr>\n",
       "    <tr>\n",
       "      <th>4</th>\n",
       "      <td>friendship</td>\n",
       "      <td>False</td>\n",
       "      <td>Jenny</td>\n",
       "      <td>Dan</td>\n",
       "      <td>person</td>\n",
       "      <td>2016-08-03 00:00:00</td>\n",
       "    </tr>\n",
       "  </tbody>\n",
       "</table>\n",
       "</div>"
      ],
      "text/plain": [
       "       e_type  directed from_id  to_id to_type          connect_day\n",
       "0  friendship     False     Tom  Jenny  person  2015-01-01 00:00:00\n",
       "1  friendship     False     Tom    Dan  person  2017-06-03 00:00:00\n",
       "2  friendship     False   Jenny  Amily  person  2015-06-08 00:00:00\n",
       "3  friendship     False   Jenny    Tom  person  2015-01-01 00:00:00\n",
       "4  friendship     False   Jenny    Dan  person  2016-08-03 00:00:00"
      ]
     },
     "execution_count": 19,
     "metadata": {},
     "output_type": "execute_result"
    }
   ],
   "source": [
    "conn.getEdgesDataframe('person', ['Tom', 'Jenny'], 'friendship')"
   ]
  },
  {
   "cell_type": "markdown",
   "metadata": {
    "colab_type": "text",
    "id": "qTGJn1rtk25-"
   },
   "source": [
    "## Built-in `SELECT` queries\n",
    "\n",
    "See [GSQL 101 - Module 3: Graph Inspection Language](https://youtu.be/akGOSEWMC8I)"
   ]
  },
  {
   "cell_type": "code",
   "execution_count": 20,
   "metadata": {
    "colab": {},
    "colab_type": "code",
    "id": "wjbvGcj6k25-"
   },
   "outputs": [
    {
     "data": {
      "image/jpeg": "[encoded data removed]",
      "text/html": [
       "\n",
       "        <iframe\n",
       "            width=\"896\"\n",
       "            height=\"504\"\n",
       "            src=\"https://www.youtube.com/embed/akGOSEWMC8I\"\n",
       "            frameborder=\"0\"\n",
       "            allowfullscreen\n",
       "        ></iframe>\n",
       "        "
      ],
      "text/plain": [
       "<IPython.lib.display.YouTubeVideo at 0x7f8d9eb4cc50>"
      ]
     },
     "execution_count": 20,
     "metadata": {},
     "output_type": "execute_result"
    }
   ],
   "source": [
    "YouTubeVideo(width=896, height=504, id='akGOSEWMC8I')"
   ]
  },
  {
   "cell_type": "markdown",
   "metadata": {
    "colab_type": "text",
    "id": "wx0MRs8Kk26B"
   },
   "source": [
    "### `SELECT` queries return a native Python structure"
   ]
  },
  {
   "cell_type": "code",
   "execution_count": 21,
   "metadata": {
    "colab": {
     "base_uri": "https://localhost:8080/",
     "height": 34
    },
    "colab_type": "code",
    "id": "M__Kl68Zk26C",
    "outputId": "04ea2028-3bef-4e2b-c66b-05b60d8d4b74"
   },
   "outputs": [
    {
     "data": {
      "text/plain": [
       "[{'count': 7, 'v_type': 'person'}]"
      ]
     },
     "execution_count": 21,
     "metadata": {},
     "output_type": "execute_result"
    }
   ],
   "source": [
    "q = conn.gsql('select count(*) from person')\n",
    "q"
   ]
  },
  {
   "cell_type": "code",
   "execution_count": 22,
   "metadata": {
    "colab": {
     "base_uri": "https://localhost:8080/",
     "height": 34
    },
    "colab_type": "code",
    "id": "R5iaq0gdk26E",
    "outputId": "53c65575-42a6-49b9-8091-9b040147ceb3"
   },
   "outputs": [
    {
     "data": {
      "text/plain": [
       "7"
      ]
     },
     "execution_count": 22,
     "metadata": {},
     "output_type": "execute_result"
    }
   ],
   "source": [
    "q[0]['count']"
   ]
  },
  {
   "cell_type": "markdown",
   "metadata": {
    "colab_type": "text",
    "id": "Sh_2Onnnk26G"
   },
   "source": [
    "### Since this is GSQL the `FROM` argument can be a pattern "
   ]
  },
  {
   "cell_type": "code",
   "execution_count": 23,
   "metadata": {
    "colab": {
     "base_uri": "https://localhost:8080/",
     "height": 34
    },
    "colab_type": "code",
    "id": "qkNRECjPk26G",
    "outputId": "237f136b-fbb6-4ae9-a60b-1d2d823dc501"
   },
   "outputs": [
    {
     "data": {
      "text/plain": [
       "[{'count': 7, 'e_type': 'friendship'}]"
      ]
     },
     "execution_count": 23,
     "metadata": {},
     "output_type": "execute_result"
    }
   ],
   "source": [
    "conn.gsql('select count() from person-(friendship)-person')"
   ]
  },
  {
   "cell_type": "markdown",
   "metadata": {
    "colab_type": "text",
    "id": "0Wvn9K8gk26I"
   },
   "source": [
    "### The `WHERE` arument is a filter on the `FROM` pattern"
   ]
  },
  {
   "cell_type": "code",
   "execution_count": 24,
   "metadata": {
    "colab": {
     "base_uri": "https://localhost:8080/",
     "height": 70
    },
    "colab_type": "code",
    "id": "UaHPmzxnk26I",
    "outputId": "3491b87a-5744-46ba-e3f6-e13b9c9df821"
   },
   "outputs": [
    {
     "data": {
      "text/plain": [
       "[{'v_id': 'Tom',\n",
       "  'attributes': {'gender': 'male', 'name': 'Tom', 'state': 'ca', 'age': 40},\n",
       "  'v_type': 'person'}]"
      ]
     },
     "execution_count": 24,
     "metadata": {},
     "output_type": "execute_result"
    }
   ],
   "source": [
    "conn.gsql('select * from person where primary_id==\"Tom\"')"
   ]
  },
  {
   "cell_type": "code",
   "execution_count": 25,
   "metadata": {
    "colab": {
     "base_uri": "https://localhost:8080/",
     "height": 336
    },
    "colab_type": "code",
    "id": "lhamhuYZk26K",
    "outputId": "d69161ad-decc-45a1-eca0-78e24021e2ac"
   },
   "outputs": [
    {
     "data": {
      "text/plain": [
       "[{'v_id': 'Nancy',\n",
       "  'attributes': {'gender': 'female',\n",
       "   'name': 'Nancy',\n",
       "   'state': 'ky',\n",
       "   'age': 20},\n",
       "  'v_type': 'person'},\n",
       " {'v_id': 'Jenny',\n",
       "  'attributes': {'gender': 'female',\n",
       "   'name': 'Jenny',\n",
       "   'state': 'tx',\n",
       "   'age': 25},\n",
       "  'v_type': 'person'},\n",
       " {'v_id': 'Amily',\n",
       "  'attributes': {'gender': 'female',\n",
       "   'name': 'Amily',\n",
       "   'state': 'ca',\n",
       "   'age': 22},\n",
       "  'v_type': 'person'}]"
      ]
     },
     "execution_count": 25,
     "metadata": {},
     "output_type": "execute_result"
    }
   ],
   "source": [
    "q = conn.gsql('select * from person where gender==\"female\"')\n",
    "q "
   ]
  },
  {
   "cell_type": "markdown",
   "metadata": {
    "colab_type": "text",
    "id": "zfkvOYvvk26M"
   },
   "source": [
    "### Use Python's list comprehension to access results"
   ]
  },
  {
   "cell_type": "code",
   "execution_count": 26,
   "metadata": {
    "colab": {
     "base_uri": "https://localhost:8080/",
     "height": 34
    },
    "colab_type": "code",
    "id": "TWhJgIsRk26N",
    "outputId": "c87bcc64-e0d4-44c9-9859-df41d9c7077b"
   },
   "outputs": [
    {
     "data": {
      "text/plain": [
       "[20, 25, 22]"
      ]
     },
     "execution_count": 26,
     "metadata": {},
     "output_type": "execute_result"
    }
   ],
   "source": [
    "[v['attributes']['age'] for v in q]"
   ]
  },
  {
   "cell_type": "markdown",
   "metadata": {
    "colab_type": "text",
    "id": "BcIhLr6Qk26P"
   },
   "source": [
    "### Transform into a Pandas DataFrame"
   ]
  },
  {
   "cell_type": "code",
   "execution_count": 27,
   "metadata": {
    "colab": {
     "base_uri": "https://localhost:8080/",
     "height": 137
    },
    "colab_type": "code",
    "id": "HKbzxmVPk26P",
    "outputId": "ad6cfa00-715d-4d8a-87b1-956f69268aac"
   },
   "outputs": [
    {
     "data": {
      "text/html": [
       "<div>\n",
       "<style scoped>\n",
       "    .dataframe tbody tr th:only-of-type {\n",
       "        vertical-align: middle;\n",
       "    }\n",
       "\n",
       "    .dataframe tbody tr th {\n",
       "        vertical-align: top;\n",
       "    }\n",
       "\n",
       "    .dataframe thead th {\n",
       "        text-align: right;\n",
       "    }\n",
       "</style>\n",
       "<table border=\"1\" class=\"dataframe\">\n",
       "  <thead>\n",
       "    <tr style=\"text-align: right;\">\n",
       "      <th></th>\n",
       "      <th>gender</th>\n",
       "      <th>name</th>\n",
       "      <th>state</th>\n",
       "      <th>age</th>\n",
       "    </tr>\n",
       "  </thead>\n",
       "  <tbody>\n",
       "    <tr>\n",
       "      <th>0</th>\n",
       "      <td>female</td>\n",
       "      <td>Nancy</td>\n",
       "      <td>ky</td>\n",
       "      <td>20</td>\n",
       "    </tr>\n",
       "    <tr>\n",
       "      <th>1</th>\n",
       "      <td>female</td>\n",
       "      <td>Jenny</td>\n",
       "      <td>tx</td>\n",
       "      <td>25</td>\n",
       "    </tr>\n",
       "    <tr>\n",
       "      <th>2</th>\n",
       "      <td>female</td>\n",
       "      <td>Amily</td>\n",
       "      <td>ca</td>\n",
       "      <td>22</td>\n",
       "    </tr>\n",
       "  </tbody>\n",
       "</table>\n",
       "</div>"
      ],
      "text/plain": [
       "   gender   name state  age\n",
       "0  female  Nancy    ky   20\n",
       "1  female  Jenny    tx   25\n",
       "2  female  Amily    ca   22"
      ]
     },
     "execution_count": 27,
     "metadata": {},
     "output_type": "execute_result"
    }
   ],
   "source": [
    "import pandas as pd\n",
    "\n",
    "pd.DataFrame([v['attributes'] for v in q])"
   ]
  },
  {
   "cell_type": "markdown",
   "metadata": {
    "colab_type": "text",
    "id": "dltnDFUsk26R"
   },
   "source": [
    "## User defined queries\n",
    "\n",
    "See [GSQL 101 - Module 4: Basic GSQL](https://youtu.be/eK6f7qnylj0) "
   ]
  },
  {
   "cell_type": "code",
   "execution_count": 28,
   "metadata": {
    "colab": {},
    "colab_type": "code",
    "id": "5m_m_Xokk26S"
   },
   "outputs": [
    {
     "data": {
      "image/jpeg": "[encoded data removed]",
      "text/html": [
       "\n",
       "        <iframe\n",
       "            width=\"896\"\n",
       "            height=\"504\"\n",
       "            src=\"https://www.youtube.com/embed/eK6f7qnylj0\"\n",
       "            frameborder=\"0\"\n",
       "            allowfullscreen\n",
       "        ></iframe>\n",
       "        "
      ],
      "text/plain": [
       "<IPython.lib.display.YouTubeVideo at 0x7f8d9eb7b390>"
      ]
     },
     "execution_count": 28,
     "metadata": {},
     "output_type": "execute_result"
    }
   ],
   "source": [
    "YouTubeVideo(width=896, height=504, id='eK6f7qnylj0')"
   ]
  },
  {
   "cell_type": "markdown",
   "metadata": {
    "colab_type": "text",
    "id": "1Ar5YgeHk26U"
   },
   "source": [
    "### Queries can saved and compiled (this takes about a minute)"
   ]
  },
  {
   "cell_type": "code",
   "execution_count": 29,
   "metadata": {},
   "outputs": [
    {
     "name": "stdout",
     "output_type": "stream",
     "text": [
      "========================\n",
      "Trying version: v2_6_0\n",
      "Connecting to yaniv.i.tgcloud.io:14240\n",
      "If there is any relative path, it is relative to tigergraph/dev/gdk/gsql\n",
      "Query hello could not be found.\n",
      "The query hello has been added!\n",
      "Start installing queries, about 1 minute ...\n",
      "hello query: curl -X GET 'https://127.0.0.1:9000/query/social/hello?p=VALUE'. Add -H \"Authorization: Bearer TOKEN\" if authentication is enabled.\n",
      "\n",
      "\r",
      "[                                                                 ] 0% (0/1)   \r",
      "[                                                                 ] 0% (0/1)   \r",
      "[=====                                                            ] 7% (0/1)   \r",
      "[==========                                                       ] 14% (0/1)  \r",
      "[==============                                                   ] 21% (0/1)  \r",
      "[===================                                              ] 29% (0/1)  \r",
      "[========================                                         ] 36% (0/1)  \r",
      "[============================                                     ] 43% (0/1)  \r",
      "[==================================                               ] 51% (0/1)  \r",
      "[======================================                           ] 58% (0/1)  \r",
      "[===========================================                      ] 65% (0/1)  \r",
      "[================================================                 ] 73% (0/1)  \r",
      "[====================================================             ] 80% (0/1)  \r",
      "[=========================================================        ] 87% (0/1)  \r",
      "[==============================================================   ] 95% (0/1)  \r",
      "[=================================================================] 100% (1/1) \n",
      "\n"
     ]
    }
   ],
   "source": [
    "print(conn.gsql('''\n",
    "drop query hello\n",
    "\n",
    "create query hello(vertex<person> p) for graph social{\n",
    "    \n",
    "    start = {p};\n",
    "    tgt = select t from start:s-(friendship:e)-person:t ;\n",
    "    print tgt;\n",
    "}\n",
    "\n",
    "install query hello\n",
    "'''))"
   ]
  },
  {
   "cell_type": "markdown",
   "metadata": {
    "colab_type": "text",
    "id": "VrsdwA0Dk26W"
   },
   "source": [
    "### Run the installed query and process the output"
   ]
  },
  {
   "cell_type": "code",
   "execution_count": 30,
   "metadata": {
    "colab": {
     "base_uri": "https://localhost:8080/",
     "height": 283
    },
    "colab_type": "code",
    "id": "uyirQnElk26X",
    "outputId": "9537a7c5-61dc-4323-bda1-cb30d4db079a"
   },
   "outputs": [
    {
     "data": {
      "text/plain": [
       "{'error': False,\n",
       " 'message': '',\n",
       " 'version': {'schema': 21, 'edition': 'enterprise', 'api': 'v2'},\n",
       " 'results': [{'tgt': [{'v_id': 'Jenny',\n",
       "     'attributes': {'gender': 'female',\n",
       "      'name': 'Jenny',\n",
       "      'state': 'tx',\n",
       "      'age': 25},\n",
       "     'v_type': 'person'},\n",
       "    {'v_id': 'Dan',\n",
       "     'attributes': {'gender': 'male', 'name': 'Dan', 'state': 'ny', 'age': 34},\n",
       "     'v_type': 'person'}]}]}"
      ]
     },
     "execution_count": 30,
     "metadata": {},
     "output_type": "execute_result"
    }
   ],
   "source": [
    "q = conn.gsql('run query hello({})'.format('\"Tom\"'))\n",
    "q"
   ]
  },
  {
   "cell_type": "code",
   "execution_count": 31,
   "metadata": {
    "colab": {
     "base_uri": "https://localhost:8080/",
     "height": 34
    },
    "colab_type": "code",
    "id": "S8tErLGJk26Z",
    "outputId": "e76178a9-3f96-47c6-86fd-8aa7f03b62a7"
   },
   "outputs": [
    {
     "data": {
      "text/plain": [
       "[25, 34]"
      ]
     },
     "execution_count": 31,
     "metadata": {},
     "output_type": "execute_result"
    }
   ],
   "source": [
    "[v['attributes']['age'] for v in q['results'][0]['tgt']]"
   ]
  },
  {
   "cell_type": "markdown",
   "metadata": {
    "colab_type": "text",
    "id": "UjDxbelBk26a"
   },
   "source": [
    "## Accumulators\n",
    "\n",
    "See [GSQL 101 - Module 5: Advanced GSQL (Accumulators)](https://youtu.be/ysrm9OjVoqg)"
   ]
  },
  {
   "cell_type": "code",
   "execution_count": 32,
   "metadata": {
    "colab": {},
    "colab_type": "code",
    "id": "caiDj6zak26b"
   },
   "outputs": [
    {
     "data": {
      "image/jpeg": "[encoded data removed]",
      "text/html": [
       "\n",
       "        <iframe\n",
       "            width=\"896\"\n",
       "            height=\"504\"\n",
       "            src=\"https://www.youtube.com/embed/ysrm9OjVoqg\"\n",
       "            frameborder=\"0\"\n",
       "            allowfullscreen\n",
       "        ></iframe>\n",
       "        "
      ],
      "text/plain": [
       "<IPython.lib.display.YouTubeVideo at 0x7f8d9eb70290>"
      ]
     },
     "execution_count": 32,
     "metadata": {},
     "output_type": "execute_result"
    }
   ],
   "source": [
    "YouTubeVideo(width=896, height=504, id='ysrm9OjVoqg')"
   ]
  },
  {
   "cell_type": "markdown",
   "metadata": {
    "colab_type": "text",
    "id": "RVlq42Mqk26d"
   },
   "source": [
    "### Measuring hop distance\n",
    "\n",
    "Measuring hop distance requires that we flag every vertex we visit using a local accumulator `@visited`. Note how results exclude Jenny and Dan even though they are a friend of a friend of Tom. This is because they are also direct friends of Tom."
   ]
  },
  {
   "cell_type": "code",
   "execution_count": 33,
   "metadata": {},
   "outputs": [
    {
     "name": "stdout",
     "output_type": "stream",
     "text": [
      "========================\n",
      "Trying version: v2_6_0\n",
      "Connecting to yaniv.i.tgcloud.io:14240\n",
      "If there is any relative path, it is relative to tigergraph/dev/gdk/gsql\n",
      "Query hello2 could not be found.\n",
      "The query hello2 has been added!\n",
      "Start installing queries, about 1 minute ...\n",
      "hello2 query: curl -X GET 'https://127.0.0.1:9000/query/social/hello2?p=VALUE'. Add -H \"Authorization: Bearer TOKEN\" if authentication is enabled.\n",
      "\n",
      "\r",
      "[                                                                 ] 0% (0/1)   \r",
      "[                                                                 ] 0% (0/1)   \r",
      "[===============================                                  ] 47% (0/1)  \r",
      "[==============================================================   ] 95% (0/1)  \r",
      "[=================================================================] 100% (1/1) \n",
      "\n"
     ]
    }
   ],
   "source": [
    "print(conn.gsql('''\n",
    "drop query hello2\n",
    "\n",
    "create query hello2(vertex<person> p) for graph social {\n",
    "    \n",
    "    OrAccum @visited = false;\n",
    "    AvgAccum @@aveAge;\n",
    "    \n",
    "    start = {p};\n",
    "    \n",
    "    firstHop = select t from start:s-(friendship:e)-person:t\n",
    "               accum t.@visited += true, s.@visited += true;\n",
    "    \n",
    "    secondHop = select t from firstHop:s-(friendship:e)-person:t\n",
    "                where t.@visited == false\n",
    "                post_accum @@aveAge += t.age;\n",
    "    \n",
    "    print secondHop;\n",
    "    print @@aveAge;\n",
    "            \n",
    "}\n",
    "\n",
    "install query hello2\n",
    "'''))"
   ]
  },
  {
   "cell_type": "code",
   "execution_count": 34,
   "metadata": {
    "colab": {
     "base_uri": "https://localhost:8080/",
     "height": 461
    },
    "colab_type": "code",
    "id": "sVADKVwHk26g",
    "outputId": "76e6c5cc-ddb0-4dc3-be22-66edda134fa6"
   },
   "outputs": [
    {
     "data": {
      "text/plain": [
       "{'error': False,\n",
       " 'message': '',\n",
       " 'version': {'schema': 21, 'edition': 'enterprise', 'api': 'v2'},\n",
       " 'results': [{'secondHop': [{'v_id': 'Amily',\n",
       "     'attributes': {'gender': 'female',\n",
       "      '@visited': False,\n",
       "      'name': 'Amily',\n",
       "      'state': 'ca',\n",
       "      'age': 22},\n",
       "     'v_type': 'person'},\n",
       "    {'v_id': 'Nancy',\n",
       "     'attributes': {'gender': 'female',\n",
       "      '@visited': False,\n",
       "      'name': 'Nancy',\n",
       "      'state': 'ky',\n",
       "      'age': 20},\n",
       "     'v_type': 'person'},\n",
       "    {'v_id': 'Kevin',\n",
       "     'attributes': {'gender': 'male',\n",
       "      '@visited': False,\n",
       "      'name': 'Kevin',\n",
       "      'state': 'az',\n",
       "      'age': 28},\n",
       "     'v_type': 'person'}]},\n",
       "  {'@@aveAge': 23.33333}]}"
      ]
     },
     "execution_count": 34,
     "metadata": {},
     "output_type": "execute_result"
    }
   ],
   "source": [
    "q = conn.gsql('run query hello2(\"Tom\")')\n",
    "q"
   ]
  },
  {
   "cell_type": "markdown",
   "metadata": {
    "colab_type": "text",
    "id": "x7QSMNEZk26i"
   },
   "source": [
    "### Global accumulators \n",
    "We can verify that the global accumulator `@@aveAge` did its job correctly."
   ]
  },
  {
   "cell_type": "code",
   "execution_count": 35,
   "metadata": {
    "colab": {
     "base_uri": "https://localhost:8080/",
     "height": 34
    },
    "colab_type": "code",
    "id": "e3oNJyK_k26i",
    "outputId": "c9ff218e-84c0-4e8b-d5c2-8001e8c5801b"
   },
   "outputs": [
    {
     "data": {
      "text/plain": [
       "23.33333"
      ]
     },
     "execution_count": 35,
     "metadata": {},
     "output_type": "execute_result"
    }
   ],
   "source": [
    "q['results'][1]['@@aveAge']"
   ]
  },
  {
   "cell_type": "code",
   "execution_count": 36,
   "metadata": {
    "colab": {
     "base_uri": "https://localhost:8080/",
     "height": 34
    },
    "colab_type": "code",
    "id": "sLP--BHdk26k",
    "outputId": "64325d49-bbb3-4b78-ef73-adbbdd696838"
   },
   "outputs": [
    {
     "data": {
      "text/plain": [
       "[22, 20, 28]"
      ]
     },
     "execution_count": 36,
     "metadata": {},
     "output_type": "execute_result"
    }
   ],
   "source": [
    "ages = [v['attributes']['age'] for v in q['results'][0]['secondHop']]\n",
    "ages"
   ]
  },
  {
   "cell_type": "code",
   "execution_count": 37,
   "metadata": {
    "colab": {
     "base_uri": "https://localhost:8080/",
     "height": 34
    },
    "colab_type": "code",
    "id": "uIL7cBgjk26n",
    "outputId": "12f0579b-17d4-4134-87cb-67ad1515e40f"
   },
   "outputs": [
    {
     "data": {
      "text/plain": [
       "23.333333333333332"
      ]
     },
     "execution_count": 37,
     "metadata": {},
     "output_type": "execute_result"
    }
   ],
   "source": [
    "sum(ages)/len(ages)"
   ]
  },
  {
   "cell_type": "code",
   "execution_count": null,
   "metadata": {},
   "outputs": [],
   "source": []
  }
 ],
 "metadata": {
  "colab": {
   "collapsed_sections": [],
   "name": "GSQL101 - PyTigerGraph.ipynb",
   "provenance": []
  },
  "kernelspec": {
   "display_name": "Python 3",
   "language": "python",
   "name": "python3"
  },
  "language_info": {
   "codemirror_mode": {
    "name": "ipython",
    "version": 3
   },
   "file_extension": ".py",
   "mimetype": "text/x-python",
   "name": "python",
   "nbconvert_exporter": "python",
   "pygments_lexer": "ipython3",
   "version": "3.8.8"
  },
  "toc": {
   "base_numbering": 1,
   "nav_menu": {},
   "number_sections": false,
   "sideBar": true,
   "skip_h1_title": false,
   "title_cell": "Table of Contents",
   "title_sidebar": "Contents",
   "toc_cell": false,
   "toc_position": {},
   "toc_section_display": true,
   "toc_window_display": false
  }
 },
 "nbformat": 4,
 "nbformat_minor": 1
}
