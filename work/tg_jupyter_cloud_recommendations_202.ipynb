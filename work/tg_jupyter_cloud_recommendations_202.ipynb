{
 "cells": [
  {
   "cell_type": "code",
   "execution_count": 1,
   "id": "1c877870",
   "metadata": {},
   "outputs": [],
   "source": [
    "import pyTigerGraph as tg"
   ]
  },
  {
   "cell_type": "code",
   "execution_count": 2,
   "id": "b0d0706e",
   "metadata": {},
   "outputs": [],
   "source": [
    "graph = tg.TigerGraphConnection(host=\"https://se-pytg-demo.i.tgcloud.io\", graphname=\"MyGraph\")"
   ]
  },
  {
   "cell_type": "code",
   "execution_count": 4,
   "id": "c6c901ab",
   "metadata": {},
   "outputs": [
    {
     "name": "stdout",
     "output_type": "stream",
     "text": [
      "('jlmgs7b05tahfboefq54vbk5k0gabkkl', 1633662944, '2021-10-08 03:15:44')\n"
     ]
    }
   ],
   "source": [
    "authToken = graph.getToken(\"d2nj52924cfj69i8rtk1lppd3d5d5e9f\")\n",
    "print(authToken)"
   ]
  },
  {
   "cell_type": "code",
   "execution_count": 5,
   "id": "38306c52",
   "metadata": {},
   "outputs": [],
   "source": [
    "graph = tg.TigerGraphConnection(\n",
    "    host=\"https://se-pytg-demo.i.tgcloud.io\", \n",
    "    graphname=\"MyGraph\", \n",
    "    apiToken=\"jlmgs7b05tahfboefq54vbk5k0gabkkl\")"
   ]
  },
  {
   "cell_type": "code",
   "execution_count": 22,
   "id": "08b64491",
   "metadata": {},
   "outputs": [
    {
     "data": {
      "text/plain": [
       "[{'name': 'product',\n",
       "  'version': 'release_3.1.1_04-12-2021',\n",
       "  'hash': '7b093cac58b0ea392180787d347ecdef4b48cac9',\n",
       "  'datetime': '2021-03-27 12:11:49 -0700'},\n",
       " {'name': 'olgp',\n",
       "  'version': 'release_3.1.1_04-12-2021',\n",
       "  'hash': '66868bae5c6b6eefea7eae2420c80afc1f7d9c16',\n",
       "  'datetime': '2021-03-26 13:31:12 -0700'},\n",
       " {'name': 'cqrs',\n",
       "  'version': 'cloud-3.1',\n",
       "  'hash': '932b5f41c34b2ca60bc2591e30d85409625aedad',\n",
       "  'datetime': '2021-04-26 16:05:40 -0700'},\n",
       " {'name': 'topology',\n",
       "  'version': 'release_3.1.1_04-12-2021',\n",
       "  'hash': 'b7efce9cfdf3e2ebddc71ace608e669030b624d8',\n",
       "  'datetime': '2021-03-18 20:37:15 -0700'},\n",
       " {'name': 'gpe',\n",
       "  'version': 'release_3.1.1_04-12-2021',\n",
       "  'hash': '59e49a31c252d8036c6ec53f03c1aec68a25dfc9',\n",
       "  'datetime': '2021-03-24 23:41:58 -0700'},\n",
       " {'name': 'gse',\n",
       "  'version': 'release_3.1.1_04-12-2021',\n",
       "  'hash': 'c5ccd91d0866b97275e34981caf58770e0ab575d',\n",
       "  'datetime': '2021-04-01 21:53:00 -0700'},\n",
       " {'name': 'third_party',\n",
       "  'version': 'release_3.1.1_04-12-2021',\n",
       "  'hash': '75cb3c26940a7fb6ae0295ee1cc19de543d38e05',\n",
       "  'datetime': '2021-03-22 19:54:38 -0700'},\n",
       " {'name': 'utility',\n",
       "  'version': 'release_3.1.1_04-12-2021',\n",
       "  'hash': '146d86c9f68f960332f1e14256909e5952bbeb34',\n",
       "  'datetime': '2021-03-22 19:54:42 -0700'},\n",
       " {'name': 'realtime',\n",
       "  'version': 'release_3.1.1_04-12-2021',\n",
       "  'hash': 'df93ee6993543dda1327dd185fa4f983d2210f77',\n",
       "  'datetime': '2021-03-30 03:31:41 -0700'},\n",
       " {'name': 'er',\n",
       "  'version': 'release_3.1.1_04-12-2021',\n",
       "  'hash': 'fd5554f1b4bf159ab5ddfdec26665f293ad7d056',\n",
       "  'datetime': '2021-03-30 03:46:56 -0700'},\n",
       " {'name': 'gle',\n",
       "  'version': 'release_3.1.1_04-12-2021',\n",
       "  'hash': '2ec56320c459c7256199107e41a9d250afc7a2da',\n",
       "  'datetime': '2021-04-01 04:02:31 -0700'},\n",
       " {'name': 'document',\n",
       "  'version': 'release_3.1.1_04-12-2021',\n",
       "  'hash': '5329895d604668e5dffda00bab831c93ffdb2c7e',\n",
       "  'datetime': '2021-01-22 23:34:58 -0800'},\n",
       " {'name': 'glive',\n",
       "  'version': 'cloud-3.1',\n",
       "  'hash': 'ff64eb13a9e0ea540a4e8ad94e3621f35bcc4229',\n",
       "  'datetime': '2021-05-15 12:03:34 -0700'},\n",
       " {'name': 'gap',\n",
       "  'version': 'cloud-3.1',\n",
       "  'hash': '02079f5c27f380ae49e0fe3ef9724a3d87a3ccb0',\n",
       "  'datetime': '2021-05-11 11:57:36 -0700'},\n",
       " {'name': 'gst',\n",
       "  'version': 'cloud-3.1',\n",
       "  'hash': '1dc94ccef930d8953a44dd0661924a6f0238762d',\n",
       "  'datetime': '2021-05-07 13:38:52 -0700'},\n",
       " {'name': 'gus',\n",
       "  'version': 'cloud-3.1',\n",
       "  'hash': 'ba3cdf0c95f40248ed161d4f75b97d44709fc231',\n",
       "  'datetime': '2021-05-13 13:04:30 -0700'},\n",
       " {'name': 'blue_features',\n",
       "  'version': 'release_3.1.1_04-12-2021',\n",
       "  'hash': 'ed8ae5d659f98e5b6da8827233baafdcacef4a27',\n",
       "  'datetime': '2021-03-24 23:55:08 -0700'},\n",
       " {'name': 'blue_commons',\n",
       "  'version': 'release_3.1.1_04-12-2021',\n",
       "  'hash': '4ca38ccd387e9cc0043e23e4a17b000a8982696a',\n",
       "  'datetime': '2020-11-16 08:21:03 -0800'}]"
      ]
     },
     "execution_count": 22,
     "metadata": {},
     "output_type": "execute_result"
    }
   ],
   "source": [
    "graph.getVersion()"
   ]
  },
  {
   "cell_type": "code",
   "execution_count": 6,
   "id": "daada380",
   "metadata": {},
   "outputs": [
    {
     "name": "stdout",
     "output_type": "stream",
     "text": [
      "{'DELETE /graph/{graph_name}/delete_by_type/vertices/{vertex_type}/': {'parameters': {'ack': {'default': 'all', 'max_count': 1, 'min_count': 1, 'options': ['all', 'none'], 'type': 'STRING'}, 'graph_name': {'default': '', 'max_count': 1, 'min_count': 0, 'type': 'STRING'}, 'permanent': {'default': False, 'max_count': 1, 'min_count': 1, 'type': 'BOOL'}, 'vertex_type': {'type': 'TYPENAME'}}}, 'DELETE /graph/{graph_name}/edges/{source_vertex_type}/{source_vertex_id}/{edge_type}/{target_vertex_type}/{target_vertex_id}': {'parameters': {'edge_type': {'max_count': 1, 'min_count': 0, 'type': 'EDGETYPENAME'}, 'filter': {'max_count': 1, 'max_length': 2560, 'min_count': 0, 'type': 'STRING'}, 'graph_name': {'default': '', 'max_count': 1, 'min_count': 0, 'type': 'STRING'}, 'limit': {'max_count': 1, 'min_count': 0, 'type': 'UINT64'}, 'not_wildcard': {'max_count': 1, 'min_count': 0, 'type': 'BOOL'}, 'permanent': {'default': False, 'max_count': 1, 'min_count': 1, 'type': 'BOOL'}, 'select': {'max_count': 1, 'max_length': 2560, 'min_count': 0, 'type': 'STRING'}, 'sort': {'max_count': 1, 'max_length': 2560, 'min_count': 0, 'type': 'STRING'}, 'source_vertex_id': {'id_type': '$source_vertex_type', 'is_id': True, 'max_count': 1, 'max_length': 256, 'min_count': 1, 'type': 'STRING'}, 'source_vertex_type': {'max_count': 1, 'min_count': 1, 'type': 'TYPENAME'}, 'target_vertex_id': {'id_type': '$target_vertex_type', 'is_id': True, 'max_count': 1, 'max_length': 256, 'min_count': 0, 'type': 'STRING'}, 'target_vertex_type': {'max_count': 1, 'min_count': 0, 'type': 'TYPENAME'}, 'timeout': {'default': 0, 'max_count': 1, 'min_count': 0, 'type': 'UINT32'}}}, 'DELETE /graph/{graph_name}/vertices/{vertex_type}/{vertex_id}': {'parameters': {'filter': {'max_count': 1, 'max_length': 2560, 'min_count': 0, 'type': 'STRING'}, 'graph_name': {'default': '', 'max_count': 1, 'min_count': 0, 'type': 'STRING'}, 'limit': {'max_count': 1, 'min_count': 0, 'type': 'UINT64'}, 'permanent': {'default': False, 'max_count': 1, 'min_count': 1, 'type': 'BOOL'}, 'sort': {'max_count': 1, 'max_length': 2560, 'min_count': 0, 'type': 'STRING'}, 'timeout': {'default': 0, 'max_count': 1, 'min_count': 0, 'type': 'UINT32'}, 'vertex_id': {'id_type': '$vertex_type', 'is_id': True, 'max_count': 1, 'max_length': 2560, 'min_count': 0, 'type': 'STRING'}, 'vertex_type': {'type': 'TYPENAME'}}}, 'GET /abortquery/{graph_name}': {'parameters': {'graph_name': {'default': '', 'max_count': 1, 'min_count': 0, 'type': 'STRING'}, 'requestid': {'min_count': 0, 'type': 'STRING'}}}, 'GET /allpaths/{graph_name}': {'parameters': {'graph_name': {'default': '', 'max_count': 1, 'min_count': 0, 'type': 'STRING'}}}, 'GET /deleted_vertex_check/{graph_name}': {'parameters': {'graph_name': {'default': '', 'max_count': 1, 'min_count': 0, 'type': 'STRING'}, 'log': {'max_count': 1, 'min_count': 0, 'type': 'UINT32'}, 'segid': {'max_count': 100000, 'min_count': 0, 'type': 'UINT32'}, 'threadnum': {'default': 6, 'max_count': 1, 'min_count': 0, 'type': 'UINT32'}, 'verbose': {'max_count': 1, 'min_count': 0, 'type': 'UINT32'}, 'vertextype': {'max_count': 1, 'min_count': 0, 'type': 'TYPENAME'}}}, 'GET /echo/{graph_name}': {'parameters': {'graph_name': {'default': '', 'max_count': 1, 'min_count': 0, 'type': 'STRING'}, 'sleep': {'default': 0, 'type': 'INT32'}}}, 'GET /endpoints/{graph_name}': {'parameters': {'builtin': {'default': False, 'max_count': 1, 'min_count': 0, 'type': 'BOOL'}, 'dynamic': {'default': False, 'max_count': 1, 'min_count': 0, 'type': 'BOOL'}, 'graph_name': {'default': '', 'max_count': 1, 'min_count': 0, 'type': 'STRING'}, 'static': {'default': False, 'max_count': 1, 'min_count': 0, 'type': 'BOOL'}}}, 'GET /graph/{graph_name}/edges/{source_vertex_type}/{source_vertex_id}/{edge_type}/{target_vertex_type}/{target_vertex_id}': {'parameters': {'count_only': {'default': False, 'max_count': 1, 'min_count': 0, 'type': 'BOOL'}, 'edge_type': {'max_count': 1, 'min_count': 0, 'type': 'EDGETYPENAME'}, 'filter': {'max_count': 1, 'max_length': 2560, 'min_count': 0, 'type': 'STRING'}, 'graph_name': {'default': '', 'max_count': 1, 'min_count': 0, 'type': 'STRING'}, 'limit': {'max_count': 1, 'min_count': 0, 'type': 'UINT64'}, 'not_wildcard': {'max_count': 1, 'min_count': 0, 'type': 'BOOL'}, 'select': {'max_count': 1, 'max_length': 2560, 'min_count': 0, 'type': 'STRING'}, 'sort': {'max_count': 1, 'max_length': 2560, 'min_count': 0, 'type': 'STRING'}, 'source_vertex_id': {'id_type': '$source_vertex_type', 'is_id': True, 'max_count': 1, 'max_length': 256, 'min_count': 1, 'type': 'STRING'}, 'source_vertex_type': {'max_count': 1, 'min_count': 1, 'type': 'TYPENAME'}, 'target_vertex_id': {'id_type': '$target_vertex_type', 'is_id': True, 'max_count': 1, 'max_length': 256, 'min_count': 0, 'type': 'STRING'}, 'target_vertex_type': {'max_count': 1, 'min_count': 0, 'type': 'TYPENAME'}, 'timeout': {'default': 0, 'max_count': 1, 'min_count': 0, 'type': 'UINT32'}}}, 'GET /graph/{graph_name}/vertices/{vertex_type}/{vertex_id}': {'parameters': {'count_only': {'default': False, 'max_count': 1, 'min_count': 0, 'type': 'BOOL'}, 'filter': {'max_count': 1, 'max_length': 2560, 'min_count': 0, 'type': 'STRING'}, 'graph_name': {'default': '', 'max_count': 1, 'min_count': 0, 'type': 'STRING'}, 'limit': {'max_count': 1, 'min_count': 0, 'type': 'UINT64'}, 'select': {'max_count': 1, 'max_length': 2560, 'min_count': 0, 'type': 'STRING'}, 'sort': {'max_count': 1, 'max_length': 2560, 'min_count': 0, 'type': 'STRING'}, 'timeout': {'default': 0, 'max_count': 1, 'min_count': 0, 'type': 'UINT32'}, 'vertex_id': {'id_type': '$vertex_type', 'is_id': True, 'max_count': 1, 'max_length': 2560, 'min_count': 0, 'type': 'STRING'}, 'vertex_type': {'type': 'TYPENAME'}}}, 'GET /query_result/{requestid}': {'parameters': {'requestid': {'max_count': 1, 'min_count': 1, 'type': 'STRING'}}}, 'GET /query_status/{graph_name}': {'parameters': {'graph_name': {'default': '', 'max_count': 1, 'min_count': 0, 'type': 'STRING'}, 'requestid': {'max_count': 100, 'min_count': 0, 'type': 'STRING'}}}, 'GET /rebuildnow/{graph_name}': {'parameters': {'force': {'max_count': 1, 'min_count': 0, 'type': 'BOOL'}, 'graph_name': {'default': '', 'max_count': 1, 'min_count': 0, 'type': 'STRING'}, 'path': {'default': '/tmp/rebuildnow', 'max_count': 1, 'min_count': 0, 'type': 'STRING'}, 'segid': {'max_count': 100000, 'min_count': 0, 'type': 'UINT32'}, 'threadnum': {'default': 0, 'max_count': 1, 'min_count': 0, 'type': 'UINT32'}, 'tid': {'max_count': 1, 'min_count': 0, 'type': 'UINT32'}, 'vertextype': {'max_count': 1, 'min_count': 0, 'type': 'TYPENAME'}}}, 'GET /shortestpath/{graph_name}': {'parameters': {'graph_name': {'default': '', 'max_count': 1, 'min_count': 0, 'type': 'STRING'}}}, 'GET /showlicenseinfo/{graph_name}': {'parameters': {'graph_name': {'default': '', 'max_count': 1, 'min_count': 0, 'type': 'STRING'}}}, 'GET /showprocesslist/{graph_name}': {'parameters': {'graph_name': {'default': '', 'max_count': 1, 'min_count': 0, 'type': 'STRING'}}}, 'GET /statistics/{graph_name}': {'parameters': {'graph_name': {'default': '', 'max_count': 1, 'min_count': 0, 'type': 'STRING'}, 'seconds': {'default': 10, 'type': 'UINT32'}, 'segments': {'default': 10, 'max': 100, 'min': 1, 'type': 'UINT32'}}}, 'GET /version/{graph_name}': {'parameters': {'graph_name': {'default': '', 'max_count': 1, 'min_count': 0, 'type': 'STRING'}}}, 'POST /abortquery/{graph_name}': {'parameters': {'graph_name': {'default': '', 'max_count': 1, 'min_count': 0, 'type': 'STRING'}, 'requestid': {'min_count': 0, 'type': 'STRING'}}}, 'POST /allpaths/{graph_name}': {'parameters': {'graph_name': {'default': '', 'max_count': 1, 'min_count': 0, 'type': 'STRING'}}}, 'POST /builtins/{graph_name}': {'parameters': {'graph_name': {'default': '', 'max_count': 1, 'min_count': 0, 'type': 'STRING'}, 'realtime': {'default': False, 'max_count': 1, 'min_count': 0, 'type': 'BOOL'}}}, 'POST /ddl/{graph_name}': {'parameters': {'ack': {'default': 'all', 'max_count': 1, 'min_count': 1, 'options': ['all', 'none'], 'type': 'STRING'}, 'concise': {'default': False, 'max_count': 1, 'min_count': 1, 'type': 'BOOL'}, 'eol': {'default': '\\n', 'max_count': 1, 'max_length': 4, 'min_count': 0, 'min_length': 1, 'type': 'STRING'}, 'filename': {'default': '__GSQL_FILENAME__', 'max_count': 1, 'min_count': 0, 'type': 'STRING'}, 'graph_name': {'default': '', 'max_count': 1, 'min_count': 0, 'type': 'STRING'}, 'sep': {'default': ',', 'max_count': 1, 'max_length': 4, 'min_count': 0, 'min_length': 1, 'type': 'STRING'}, 'tag': {'max_count': 1, 'min_count': 1, 'type': 'STRING'}, 'timeout': {'default': 0, 'max_count': 1, 'min_count': 0, 'type': 'UINT32'}}}, 'POST /deleted_vertex_check/{graph_name}': {'parameters': {'graph_name': {'default': '', 'max_count': 1, 'min_count': 0, 'type': 'STRING'}, 'log': {'max_count': 1, 'min_count': 0, 'type': 'UINT32'}, 'segid': {'max_count': 100000, 'min_count': 0, 'type': 'UINT32'}, 'threadnum': {'default': 6, 'max_count': 1, 'min_count': 0, 'type': 'UINT32'}, 'verbose': {'max_count': 1, 'min_count': 0, 'type': 'UINT32'}, 'vertextype': {'max_count': 1, 'min_count': 0, 'type': 'TYPENAME'}}}, 'POST /echo/{graph_name}': {'parameters': {'graph_name': {'default': '', 'max_count': 1, 'min_count': 0, 'type': 'STRING'}, 'sleep': {'default': 0, 'type': 'INT32'}}}, 'POST /rebuildnow/{graph_name}': {'parameters': {'force': {'max_count': 1, 'min_count': 0, 'type': 'BOOL'}, 'graph_name': {'default': '', 'max_count': 1, 'min_count': 0, 'type': 'STRING'}, 'path': {'default': '/tmp/rebuildnow', 'max_count': 1, 'min_count': 0, 'type': 'STRING'}, 'segid': {'max_count': 100000, 'min_count': 0, 'type': 'UINT32'}, 'threadnum': {'default': 0, 'max_count': 1, 'min_count': 0, 'type': 'UINT32'}, 'tid': {'max_count': 1, 'min_count': 0, 'type': 'UINT32'}, 'vertextype': {'max_count': 1, 'min_count': 0, 'type': 'TYPENAME'}}}, 'POST /restpploader/{graph_name}': {'parameters': {'abort': {'max_count': 1, 'min_count': 0, 'type': 'BOOL'}, 'checkstatus': {'max_count': 1, 'min_count': 0, 'type': 'BOOL'}, 'graph_name': {'default': '', 'max_count': 1, 'min_count': 0, 'type': 'STRING'}, 'resume': {'max_count': 1, 'min_count': 0, 'type': 'BOOL'}, 'showsummary': {'max_count': 1, 'min_count': 0, 'type': 'BOOL'}}}, 'POST /shortestpath/{graph_name}': {'parameters': {'graph_name': {'default': '', 'max_count': 1, 'min_count': 0, 'type': 'STRING'}}}, 'POST /showprocesslist/{graph_name}': {'parameters': {'graph_name': {'default': '', 'max_count': 1, 'min_count': 0, 'type': 'STRING'}}}}\n"
     ]
    }
   ],
   "source": [
    "results = graph.getEndpoints()\n",
    "print(results)"
   ]
  },
  {
   "cell_type": "code",
   "execution_count": 10,
   "id": "9c416049",
   "metadata": {},
   "outputs": [
    {
     "data": {
      "text/plain": [
       "{'rate': 1423560, 'reverse_rate': 909188}"
      ]
     },
     "execution_count": 10,
     "metadata": {},
     "output_type": "execute_result"
    }
   ],
   "source": [
    "graph.getEdgeCount()"
   ]
  },
  {
   "cell_type": "code",
   "execution_count": 12,
   "id": "7542ac53",
   "metadata": {},
   "outputs": [
    {
     "data": {
      "text/plain": [
       "18401"
      ]
     },
     "execution_count": 12,
     "metadata": {},
     "output_type": "execute_result"
    }
   ],
   "source": [
    "graph.getVertexCount('movie')"
   ]
  },
  {
   "cell_type": "code",
   "execution_count": 13,
   "id": "76e83b7e",
   "metadata": {},
   "outputs": [
    {
     "data": {
      "text/plain": [
       "19224"
      ]
     },
     "execution_count": 13,
     "metadata": {},
     "output_type": "execute_result"
    }
   ],
   "source": [
    "graph.getVertexCount('person')"
   ]
  },
  {
   "cell_type": "code",
   "execution_count": 16,
   "id": "7aba8957",
   "metadata": {},
   "outputs": [
    {
     "name": "stdout",
     "output_type": "stream",
     "text": [
      "['person', 'movie']\n"
     ]
    }
   ],
   "source": [
    "graph = tg.TigerGraphConnection(\n",
    "    host=\"https://se-pytg-demo.i.tgcloud.io\", \n",
    "    username='tigergraph',\n",
    "    password='TigerG123',\n",
    "    graphname=\"MyGraph\", \n",
    "    apiToken=\"jlmgs7b05tahfboefq54vbk5k0gabkkl\")\n",
    "\n",
    "results = graph.getVertexTypes()\n",
    "print(results)"
   ]
  },
  {
   "cell_type": "code",
   "execution_count": 17,
   "id": "8a57e47b",
   "metadata": {},
   "outputs": [
    {
     "data": {
      "text/plain": [
       "['person', 'movie']"
      ]
     },
     "execution_count": 17,
     "metadata": {},
     "output_type": "execute_result"
    }
   ],
   "source": [
    "graph.getVertexTypes()"
   ]
  },
  {
   "cell_type": "code",
   "execution_count": 18,
   "id": "7e0c620e",
   "metadata": {},
   "outputs": [
    {
     "data": {
      "text/plain": [
       "['rate']"
      ]
     },
     "execution_count": 18,
     "metadata": {},
     "output_type": "execute_result"
    }
   ],
   "source": [
    "graph.getEdgeTypes()"
   ]
  },
  {
   "cell_type": "code",
   "execution_count": 19,
   "id": "b04cc743",
   "metadata": {},
   "outputs": [
    {
     "data": {
      "text/html": [
       "<div>\n",
       "<style scoped>\n",
       "    .dataframe tbody tr th:only-of-type {\n",
       "        vertical-align: middle;\n",
       "    }\n",
       "\n",
       "    .dataframe tbody tr th {\n",
       "        vertical-align: top;\n",
       "    }\n",
       "\n",
       "    .dataframe thead th {\n",
       "        text-align: right;\n",
       "    }\n",
       "</style>\n",
       "<table border=\"1\" class=\"dataframe\">\n",
       "  <thead>\n",
       "    <tr style=\"text-align: right;\">\n",
       "      <th></th>\n",
       "      <th>v_id</th>\n",
       "      <th>title</th>\n",
       "      <th>genres</th>\n",
       "    </tr>\n",
       "  </thead>\n",
       "  <tbody>\n",
       "    <tr>\n",
       "      <th>0</th>\n",
       "      <td>33358</td>\n",
       "      <td>Off the Map (2003)</td>\n",
       "      <td>Comedy|Drama</td>\n",
       "    </tr>\n",
       "    <tr>\n",
       "      <th>1</th>\n",
       "      <td>1342</td>\n",
       "      <td>Candyman (1992)</td>\n",
       "      <td>Horror|Thriller</td>\n",
       "    </tr>\n",
       "    <tr>\n",
       "      <th>2</th>\n",
       "      <td>3264</td>\n",
       "      <td>Buffy the Vampire Slayer (1992)</td>\n",
       "      <td>Action|Comedy|Horror</td>\n",
       "    </tr>\n",
       "    <tr>\n",
       "      <th>3</th>\n",
       "      <td>3102</td>\n",
       "      <td>Jagged Edge (1985)</td>\n",
       "      <td>Crime|Romance|Thriller</td>\n",
       "    </tr>\n",
       "    <tr>\n",
       "      <th>4</th>\n",
       "      <td>1959</td>\n",
       "      <td>Out of Africa (1985)</td>\n",
       "      <td>Drama|Romance</td>\n",
       "    </tr>\n",
       "  </tbody>\n",
       "</table>\n",
       "</div>"
      ],
      "text/plain": [
       "    v_id                            title                  genres\n",
       "0  33358               Off the Map (2003)            Comedy|Drama\n",
       "1   1342                  Candyman (1992)         Horror|Thriller\n",
       "2   3264  Buffy the Vampire Slayer (1992)    Action|Comedy|Horror\n",
       "3   3102               Jagged Edge (1985)  Crime|Romance|Thriller\n",
       "4   1959             Out of Africa (1985)           Drama|Romance"
      ]
     },
     "execution_count": 19,
     "metadata": {},
     "output_type": "execute_result"
    }
   ],
   "source": [
    "df = graph.getVertexDataframe(\"movie\", limit=1000)\n",
    "df.head()"
   ]
  },
  {
   "cell_type": "code",
   "execution_count": 20,
   "id": "a73e09af",
   "metadata": {},
   "outputs": [
    {
     "data": {
      "text/plain": [
       "'---- Global vertices, edges, and all graphs\\nVertex Types:\\n- VERTEX person(PRIMARY_ID id STRING) WITH STATS=\"OUTDEGREE_BY_EDGETYPE\", PRIMARY_ID_AS_ATTRIBUTE=\"false\"\\n- VERTEX movie(PRIMARY_ID id STRING, title STRING, genres STRING) WITH STATS=\"OUTDEGREE_BY_EDGETYPE\", PRIMARY_ID_AS_ATTRIBUTE=\"false\"\\nEdge Types:\\n- DIRECTED EDGE rate(FROM person, TO movie, rating DOUBLE, rated_at DATETIME) WITH REVERSE_EDGE=\"reverse_rate\"\\n- DIRECTED EDGE reverse_rate(FROM movie, TO person, rating DOUBLE, rated_at DATETIME) WITH REVERSE_EDGE=\"rate\"\\n\\nGraphs:\\n- Graph MyGraph(person:v, movie:v, rate:e, reverse_rate:e)\\nJobs:\\n\\n\\nJSON API version: v2\\nSyntax version: v1\\n'"
      ]
     },
     "execution_count": 20,
     "metadata": {},
     "output_type": "execute_result"
    }
   ],
   "source": [
    "graph.gsql('''ls''')"
   ]
  },
  {
   "cell_type": "code",
   "execution_count": 21,
   "id": "11139359",
   "metadata": {},
   "outputs": [
    {
     "data": {
      "text/plain": [
       "'Using graph \\'MyGraph\\'\\n[{\\n\"count\": 27278,\\n\"v_type\": \"movie\"\\n}]'"
      ]
     },
     "execution_count": 21,
     "metadata": {},
     "output_type": "execute_result"
    }
   ],
   "source": [
    "numReviewers = graph.gsql('''USE GRAPH MyGraph\n",
    "  select count(*) from movie''')\n",
    "numReviewers"
   ]
  },
  {
   "cell_type": "markdown",
   "id": "c90f2286",
   "metadata": {},
   "source": [
    "df_edge = graph.getEdgesDataframe(sourceVertexType=\"movie\", sourceVertexId=218)\n",
    "df_edge.head()"
   ]
  },
  {
   "cell_type": "code",
   "execution_count": 32,
   "id": "d5c637e9",
   "metadata": {},
   "outputs": [
    {
     "data": {
      "text/html": [
       "<div>\n",
       "<style scoped>\n",
       "    .dataframe tbody tr th:only-of-type {\n",
       "        vertical-align: middle;\n",
       "    }\n",
       "\n",
       "    .dataframe tbody tr th {\n",
       "        vertical-align: top;\n",
       "    }\n",
       "\n",
       "    .dataframe thead th {\n",
       "        text-align: right;\n",
       "    }\n",
       "</style>\n",
       "<table border=\"1\" class=\"dataframe\">\n",
       "  <thead>\n",
       "    <tr style=\"text-align: right;\">\n",
       "      <th></th>\n",
       "      <th>from_type</th>\n",
       "      <th>from_id</th>\n",
       "      <th>to_type</th>\n",
       "      <th>to_id</th>\n",
       "      <th>rating</th>\n",
       "      <th>rated_at</th>\n",
       "    </tr>\n",
       "  </thead>\n",
       "  <tbody>\n",
       "    <tr>\n",
       "      <th>0</th>\n",
       "      <td>movie</td>\n",
       "      <td>212</td>\n",
       "      <td>person</td>\n",
       "      <td>15686</td>\n",
       "      <td>3.0</td>\n",
       "      <td>1996-05-11 15:24:41</td>\n",
       "    </tr>\n",
       "    <tr>\n",
       "      <th>1</th>\n",
       "      <td>movie</td>\n",
       "      <td>212</td>\n",
       "      <td>person</td>\n",
       "      <td>34185</td>\n",
       "      <td>2.0</td>\n",
       "      <td>1996-07-20 15:38:52</td>\n",
       "    </tr>\n",
       "    <tr>\n",
       "      <th>2</th>\n",
       "      <td>movie</td>\n",
       "      <td>212</td>\n",
       "      <td>person</td>\n",
       "      <td>35352</td>\n",
       "      <td>3.0</td>\n",
       "      <td>2000-11-20 19:20:23</td>\n",
       "    </tr>\n",
       "    <tr>\n",
       "      <th>3</th>\n",
       "      <td>movie</td>\n",
       "      <td>212</td>\n",
       "      <td>person</td>\n",
       "      <td>37823</td>\n",
       "      <td>2.0</td>\n",
       "      <td>2005-07-18 18:14:36</td>\n",
       "    </tr>\n",
       "    <tr>\n",
       "      <th>4</th>\n",
       "      <td>movie</td>\n",
       "      <td>212</td>\n",
       "      <td>person</td>\n",
       "      <td>41389</td>\n",
       "      <td>5.0</td>\n",
       "      <td>1996-08-19 08:40:59</td>\n",
       "    </tr>\n",
       "  </tbody>\n",
       "</table>\n",
       "</div>"
      ],
      "text/plain": [
       "  from_type from_id to_type  to_id  rating             rated_at\n",
       "0     movie     212  person  15686     3.0  1996-05-11 15:24:41\n",
       "1     movie     212  person  34185     2.0  1996-07-20 15:38:52\n",
       "2     movie     212  person  35352     3.0  2000-11-20 19:20:23\n",
       "3     movie     212  person  37823     2.0  2005-07-18 18:14:36\n",
       "4     movie     212  person  41389     5.0  1996-08-19 08:40:59"
      ]
     },
     "execution_count": 32,
     "metadata": {},
     "output_type": "execute_result"
    }
   ],
   "source": [
    "dfv = graph.getEdgesDataframe(sourceVertexType=\"movie\", sourceVertexId=212)\n",
    "dfv.head()"
   ]
  },
  {
   "cell_type": "code",
   "execution_count": 34,
   "id": "86cdb040",
   "metadata": {},
   "outputs": [
    {
     "data": {
      "text/plain": [
       "{'GraphName': 'MyGraph',\n",
       " 'VertexTypes': [{'Config': {'TAGGABLE': False,\n",
       "    'STATS': 'OUTDEGREE_BY_EDGETYPE',\n",
       "    'PRIMARY_ID_AS_ATTRIBUTE': False},\n",
       "   'Attributes': [],\n",
       "   'PrimaryId': {'AttributeType': {'Name': 'STRING'},\n",
       "    'IsPartOfCompositeKey': False,\n",
       "    'PrimaryIdAsAttribute': False,\n",
       "    'AttributeName': 'id',\n",
       "    'HasIndex': False,\n",
       "    'internalAttribute': False,\n",
       "    'IsPrimaryKey': False},\n",
       "   'Name': 'person'},\n",
       "  {'Config': {'TAGGABLE': False,\n",
       "    'STATS': 'OUTDEGREE_BY_EDGETYPE',\n",
       "    'PRIMARY_ID_AS_ATTRIBUTE': False},\n",
       "   'Attributes': [{'AttributeType': {'Name': 'STRING'},\n",
       "     'IsPartOfCompositeKey': False,\n",
       "     'PrimaryIdAsAttribute': False,\n",
       "     'AttributeName': 'title',\n",
       "     'HasIndex': False,\n",
       "     'internalAttribute': False,\n",
       "     'IsPrimaryKey': False},\n",
       "    {'AttributeType': {'Name': 'STRING'},\n",
       "     'IsPartOfCompositeKey': False,\n",
       "     'PrimaryIdAsAttribute': False,\n",
       "     'AttributeName': 'genres',\n",
       "     'HasIndex': False,\n",
       "     'internalAttribute': False,\n",
       "     'IsPrimaryKey': False}],\n",
       "   'PrimaryId': {'AttributeType': {'Name': 'STRING'},\n",
       "    'IsPartOfCompositeKey': False,\n",
       "    'PrimaryIdAsAttribute': False,\n",
       "    'AttributeName': 'id',\n",
       "    'HasIndex': False,\n",
       "    'internalAttribute': False,\n",
       "    'IsPrimaryKey': False},\n",
       "   'Name': 'movie'}],\n",
       " 'EdgeTypes': [{'IsDirected': True,\n",
       "   'ToVertexTypeName': 'movie',\n",
       "   'Config': {'REVERSE_EDGE': 'reverse_rate'},\n",
       "   'Attributes': [{'AttributeType': {'Name': 'DOUBLE'},\n",
       "     'IsPartOfCompositeKey': False,\n",
       "     'PrimaryIdAsAttribute': False,\n",
       "     'AttributeName': 'rating',\n",
       "     'HasIndex': False,\n",
       "     'internalAttribute': False,\n",
       "     'IsPrimaryKey': False},\n",
       "    {'AttributeType': {'Name': 'DATETIME'},\n",
       "     'IsPartOfCompositeKey': False,\n",
       "     'PrimaryIdAsAttribute': False,\n",
       "     'AttributeName': 'rated_at',\n",
       "     'HasIndex': False,\n",
       "     'internalAttribute': False,\n",
       "     'IsPrimaryKey': False}],\n",
       "   'FromVertexTypeName': 'person',\n",
       "   'Name': 'rate'}],\n",
       " 'UDTs': []}"
      ]
     },
     "execution_count": 34,
     "metadata": {},
     "output_type": "execute_result"
    }
   ],
   "source": [
    "graph.getSchema()"
   ]
  },
  {
   "cell_type": "code",
   "execution_count": 39,
   "id": "54beac83",
   "metadata": {},
   "outputs": [],
   "source": [
    "graph.upsertVertex(vertexType='person', vertexId=1234321)"
   ]
  },
  {
   "cell_type": "code",
   "execution_count": 40,
   "id": "0db5228b",
   "metadata": {},
   "outputs": [
    {
     "data": {
      "text/plain": [
       "[{'v_id': '217', 'v_type': 'person', 'attributes': {}}]"
      ]
     },
     "execution_count": 40,
     "metadata": {},
     "output_type": "execute_result"
    }
   ],
   "source": [
    "graph.getVerticesById(vertexType='person', vertexIds='217')"
   ]
  },
  {
   "cell_type": "code",
   "execution_count": 49,
   "id": "543e503a",
   "metadata": {},
   "outputs": [
    {
     "ename": "ExceptionCodeRet",
     "evalue": "212",
     "output_type": "error",
     "traceback": [
      "\u001b[0;31m---------------------------------------------------------------------------\u001b[0m",
      "\u001b[0;31mExceptionCodeRet\u001b[0m                          Traceback (most recent call last)",
      "\u001b[0;32m<ipython-input-49-c38fd649271a>\u001b[0m in \u001b[0;36m<module>\u001b[0;34m\u001b[0m\n\u001b[0;32m----> 1\u001b[0;31m graph.gsql('''USE GRAPH MyGraph\n\u001b[0m\u001b[1;32m      2\u001b[0m  RUN QUERY helloworld(\"yessss\")''')\n",
      "\u001b[0;32m~/opt/anaconda3/lib/python3.8/site-packages/pyTigerGraph/pyTigerGraph.py\u001b[0m in \u001b[0;36mgsql\u001b[0;34m(self, query, options)\u001b[0m\n\u001b[1;32m   1708\u001b[0m                     \u001b[0;32mreturn\u001b[0m \u001b[0mres\u001b[0m\u001b[0;34m\u001b[0m\u001b[0;34m\u001b[0m\u001b[0m\n\u001b[1;32m   1709\u001b[0m             \u001b[0;32melse\u001b[0m\u001b[0;34m:\u001b[0m\u001b[0;34m\u001b[0m\u001b[0;34m\u001b[0m\u001b[0m\n\u001b[0;32m-> 1710\u001b[0;31m                 \u001b[0mres\u001b[0m \u001b[0;34m=\u001b[0m \u001b[0mself\u001b[0m\u001b[0;34m.\u001b[0m\u001b[0mClient\u001b[0m\u001b[0;34m.\u001b[0m\u001b[0mrun_multiple\u001b[0m\u001b[0;34m(\u001b[0m\u001b[0mquery\u001b[0m\u001b[0;34m.\u001b[0m\u001b[0msplit\u001b[0m\u001b[0;34m(\u001b[0m\u001b[0;34m\"\\n\"\u001b[0m\u001b[0;34m)\u001b[0m\u001b[0;34m)\u001b[0m\u001b[0;34m\u001b[0m\u001b[0;34m\u001b[0m\u001b[0m\n\u001b[0m\u001b[1;32m   1711\u001b[0m                 \u001b[0;32mif\u001b[0m \u001b[0mtype\u001b[0m\u001b[0;34m(\u001b[0m\u001b[0mres\u001b[0m\u001b[0;34m)\u001b[0m \u001b[0;34m==\u001b[0m \u001b[0mtype\u001b[0m\u001b[0;34m(\u001b[0m\u001b[0;34m[\u001b[0m\u001b[0;34m]\u001b[0m\u001b[0;34m)\u001b[0m\u001b[0;34m:\u001b[0m\u001b[0;34m\u001b[0m\u001b[0;34m\u001b[0m\u001b[0m\n\u001b[1;32m   1712\u001b[0m                     \u001b[0;32mreturn\u001b[0m \u001b[0;34m\"\\n\"\u001b[0m\u001b[0;34m.\u001b[0m\u001b[0mjoin\u001b[0m\u001b[0;34m(\u001b[0m\u001b[0mres\u001b[0m\u001b[0;34m)\u001b[0m\u001b[0;34m\u001b[0m\u001b[0;34m\u001b[0m\u001b[0m\n",
      "\u001b[0;32m~/opt/anaconda3/lib/python3.8/site-packages/pyTigerDriver/pyDriver.py\u001b[0m in \u001b[0;36mrun_multiple\u001b[0;34m(self, lines)\u001b[0m\n\u001b[1;32m    430\u001b[0m \u001b[0;34m\u001b[0m\u001b[0m\n\u001b[1;32m    431\u001b[0m     \u001b[0;32mdef\u001b[0m \u001b[0mrun_multiple\u001b[0m\u001b[0;34m(\u001b[0m\u001b[0mself\u001b[0m\u001b[0;34m,\u001b[0m \u001b[0mlines\u001b[0m\u001b[0;34m)\u001b[0m\u001b[0;34m:\u001b[0m\u001b[0;34m\u001b[0m\u001b[0;34m\u001b[0m\u001b[0m\n\u001b[0;32m--> 432\u001b[0;31m         \u001b[0;32mreturn\u001b[0m \u001b[0mself\u001b[0m\u001b[0;34m.\u001b[0m\u001b[0m_command_interactive\u001b[0m\u001b[0;34m(\u001b[0m\u001b[0mself\u001b[0m\u001b[0;34m.\u001b[0m\u001b[0mfile_url\u001b[0m\u001b[0;34m,\u001b[0m \u001b[0;34m\"\\n\"\u001b[0m\u001b[0;34m.\u001b[0m\u001b[0mjoin\u001b[0m\u001b[0;34m(\u001b[0m\u001b[0mlines\u001b[0m\u001b[0;34m)\u001b[0m\u001b[0;34m)\u001b[0m\u001b[0;34m\u001b[0m\u001b[0;34m\u001b[0m\u001b[0m\n\u001b[0m\u001b[1;32m    433\u001b[0m \u001b[0;34m\u001b[0m\u001b[0m\n\u001b[1;32m    434\u001b[0m     \u001b[0;32mdef\u001b[0m \u001b[0mversion\u001b[0m\u001b[0;34m(\u001b[0m\u001b[0mself\u001b[0m\u001b[0;34m)\u001b[0m\u001b[0;34m:\u001b[0m\u001b[0;34m\u001b[0m\u001b[0;34m\u001b[0m\u001b[0m\n",
      "\u001b[0;32m~/opt/anaconda3/lib/python3.8/site-packages/pyTigerDriver/pyDriver.py\u001b[0m in \u001b[0;36m_command_interactive\u001b[0;34m(self, url, content, ans, out)\u001b[0m\n\u001b[1;32m    354\u001b[0m             \u001b[0;32mreturn\u001b[0m \u001b[0mres\u001b[0m\u001b[0;34m\u001b[0m\u001b[0;34m\u001b[0m\u001b[0m\n\u001b[1;32m    355\u001b[0m \u001b[0;34m\u001b[0m\u001b[0m\n\u001b[0;32m--> 356\u001b[0;31m         \u001b[0;32mreturn\u001b[0m \u001b[0mself\u001b[0m\u001b[0;34m.\u001b[0m\u001b[0m_request\u001b[0m\u001b[0;34m(\u001b[0m\u001b[0murl\u001b[0m\u001b[0;34m,\u001b[0m \u001b[0mcontent\u001b[0m\u001b[0;34m,\u001b[0m \u001b[0m__handle__interactive\u001b[0m\u001b[0;34m)\u001b[0m\u001b[0;34m\u001b[0m\u001b[0;34m\u001b[0m\u001b[0m\n\u001b[0m\u001b[1;32m    357\u001b[0m \u001b[0;34m\u001b[0m\u001b[0m\n\u001b[1;32m    358\u001b[0m     \u001b[0;32mdef\u001b[0m \u001b[0mlogin\u001b[0m\u001b[0;34m(\u001b[0m\u001b[0mself\u001b[0m\u001b[0;34m,\u001b[0m \u001b[0mcommit_try\u001b[0m\u001b[0;34m=\u001b[0m\u001b[0;34m\"\"\u001b[0m\u001b[0;34m,\u001b[0m \u001b[0mversion_try\u001b[0m\u001b[0;34m=\u001b[0m\u001b[0;34m\"\"\u001b[0m\u001b[0;34m)\u001b[0m\u001b[0;34m:\u001b[0m\u001b[0;34m\u001b[0m\u001b[0;34m\u001b[0m\u001b[0m\n",
      "\u001b[0;32m~/opt/anaconda3/lib/python3.8/site-packages/pyTigerDriver/pyDriver.py\u001b[0m in \u001b[0;36m_request\u001b[0;34m(self, url, content, handler, cookie, auth)\u001b[0m\n\u001b[1;32m    308\u001b[0m             \u001b[0;32mif\u001b[0m \u001b[0mhandler\u001b[0m\u001b[0;34m:\u001b[0m\u001b[0;34m\u001b[0m\u001b[0;34m\u001b[0m\u001b[0m\n\u001b[1;32m    309\u001b[0m                 \u001b[0mreader\u001b[0m \u001b[0;34m=\u001b[0m \u001b[0mcodecs\u001b[0m\u001b[0;34m.\u001b[0m\u001b[0mgetreader\u001b[0m\u001b[0;34m(\u001b[0m\u001b[0;34m\"utf-8\"\u001b[0m\u001b[0;34m)\u001b[0m\u001b[0;34m(\u001b[0m\u001b[0mresponse\u001b[0m\u001b[0;34m)\u001b[0m\u001b[0;34m\u001b[0m\u001b[0;34m\u001b[0m\u001b[0m\n\u001b[0;32m--> 310\u001b[0;31m                 \u001b[0;32mreturn\u001b[0m \u001b[0mhandler\u001b[0m\u001b[0;34m(\u001b[0m\u001b[0mreader\u001b[0m\u001b[0;34m)\u001b[0m\u001b[0;34m\u001b[0m\u001b[0;34m\u001b[0m\u001b[0m\n\u001b[0m\u001b[1;32m    311\u001b[0m             \u001b[0;32melse\u001b[0m\u001b[0;34m:\u001b[0m\u001b[0;34m\u001b[0m\u001b[0;34m\u001b[0m\u001b[0m\n\u001b[1;32m    312\u001b[0m                 \u001b[0;32mreturn\u001b[0m \u001b[0mresponse\u001b[0m\u001b[0;34m.\u001b[0m\u001b[0mread\u001b[0m\u001b[0;34m(\u001b[0m\u001b[0;34m)\u001b[0m\u001b[0;34m.\u001b[0m\u001b[0mdecode\u001b[0m\u001b[0;34m(\u001b[0m\u001b[0;34m\"utf-8\"\u001b[0m\u001b[0;34m)\u001b[0m\u001b[0;34m\u001b[0m\u001b[0;34m\u001b[0m\u001b[0m\n",
      "\u001b[0;32m~/opt/anaconda3/lib/python3.8/site-packages/pyTigerDriver/pyDriver.py\u001b[0m in \u001b[0;36m__handle__interactive\u001b[0;34m(reader)\u001b[0m\n\u001b[1;32m    330\u001b[0m                     \u001b[0mret\u001b[0m \u001b[0;34m=\u001b[0m \u001b[0mint\u001b[0m\u001b[0;34m(\u001b[0m\u001b[0mret\u001b[0m\u001b[0;34m)\u001b[0m\u001b[0;34m\u001b[0m\u001b[0;34m\u001b[0m\u001b[0m\n\u001b[1;32m    331\u001b[0m                     \u001b[0;32mif\u001b[0m \u001b[0mret\u001b[0m \u001b[0;34m!=\u001b[0m \u001b[0;36m0\u001b[0m\u001b[0;34m:\u001b[0m\u001b[0;34m\u001b[0m\u001b[0;34m\u001b[0m\u001b[0m\n\u001b[0;32m--> 332\u001b[0;31m                         \u001b[0;32mraise\u001b[0m \u001b[0mExceptionCodeRet\u001b[0m\u001b[0;34m(\u001b[0m\u001b[0mret\u001b[0m\u001b[0;34m)\u001b[0m\u001b[0;34m\u001b[0m\u001b[0;34m\u001b[0m\u001b[0m\n\u001b[0m\u001b[1;32m    333\u001b[0m                 \u001b[0;32melif\u001b[0m \u001b[0mline\u001b[0m\u001b[0;34m.\u001b[0m\u001b[0mstartswith\u001b[0m\u001b[0;34m(\u001b[0m\u001b[0mPREFIX_INTERACT\u001b[0m\u001b[0;34m)\u001b[0m\u001b[0;34m:\u001b[0m\u001b[0;34m\u001b[0m\u001b[0;34m\u001b[0m\u001b[0m\n\u001b[1;32m    334\u001b[0m                     \u001b[0m_\u001b[0m\u001b[0;34m,\u001b[0m \u001b[0mit\u001b[0m\u001b[0;34m,\u001b[0m \u001b[0mik\u001b[0m \u001b[0;34m=\u001b[0m \u001b[0mline\u001b[0m\u001b[0;34m.\u001b[0m\u001b[0msplit\u001b[0m\u001b[0;34m(\u001b[0m\u001b[0;34m\",\"\u001b[0m\u001b[0;34m,\u001b[0m \u001b[0;36m2\u001b[0m\u001b[0;34m)\u001b[0m\u001b[0;34m\u001b[0m\u001b[0;34m\u001b[0m\u001b[0m\n",
      "\u001b[0;31mExceptionCodeRet\u001b[0m: 212"
     ]
    }
   ],
   "source": [
    "graph.gsql('''USE GRAPH MyGraph\n",
    " RUN QUERY helloworld(\"yessss\")''')"
   ]
  },
  {
   "cell_type": "code",
   "execution_count": null,
   "id": "b45bf848",
   "metadata": {},
   "outputs": [],
   "source": []
  }
 ],
 "metadata": {
  "kernelspec": {
   "display_name": "Python 3",
   "language": "python",
   "name": "python3"
  },
  "language_info": {
   "codemirror_mode": {
    "name": "ipython",
    "version": 3
   },
   "file_extension": ".py",
   "mimetype": "text/x-python",
   "name": "python",
   "nbconvert_exporter": "python",
   "pygments_lexer": "ipython3",
   "version": "3.8.8"
  }
 },
 "nbformat": 4,
 "nbformat_minor": 5
}
