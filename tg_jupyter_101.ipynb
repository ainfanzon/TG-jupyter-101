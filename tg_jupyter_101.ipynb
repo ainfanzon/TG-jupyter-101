{
 "cells": [
  {
   "cell_type": "markdown",
   "id": "3b32277b-78f1-458d-b087-758dba2de225",
   "metadata": {},
   "source": [
    "<img src=\"img/GraphAISummitNEW.png\" alt=\"Drawing\" width=\"1000\" height=\"100\"/>\n",
    "\n",
    "# Alex Infanzon & Bob Hardaway<br>\n",
    "## Professional Sales Engineers, Ametuer Data Scientists<br>\n",
    "## Intro to Recommendations with Tigergraph, Docker and Python<br>\n",
    "\n",
    "In the next 40 minutes, we will introduce the PyTigerGraph python package and\n",
    "develop a simple recommendation engine running on a portable Docker container.\n",
    "\n",
    "\n",
    "# pyTigerGraph examples\n",
    "\n",
    "TigerGraph is a graph database software with a multitude of functionality and solutions to some of the issues that have plagued other graph databases. This notebook demonstrates how to use basic commands to connect, create and load data into TigerGraph using the Python pyTigerGraph module.\n",
    "\n",
    "<img src=\"img/Architecture_diagram.png\" alt=\"Drawing\" width=\"1000\" height=\"100\"/>\n",
    "\n",
    "## STEP 1: Import Packages\n",
    "\n",
    "Note: Assuming you have installed the pyTigerGraph package. If not install it using:\n",
    "```pip install pyTigerGraph```"
   ]
  },
  {
   "cell_type": "code",
   "execution_count": null,
   "id": "042bac37-4308-42ed-9d85-64aefbc614fa",
   "metadata": {
    "tags": []
   },
   "outputs": [],
   "source": [
    "import pyTigerGraph as tg\n",
    "import pandas as pd\n",
    "import json\n",
    "import re\n",
    "from IPython.display import display\n",
    "from PIL import Image\n",
    "\n",
    "print(tg.__version__)"
   ]
  },
  {
   "cell_type": "code",
   "execution_count": null,
   "id": "d29ff5bf-169c-455d-bcfc-3f90f5702921",
   "metadata": {},
   "outputs": [],
   "source": [
    "## Make sure to keep packages up to date\n",
    "\n",
    "#pip install -U pyTigerGraph pyTigerDriver"
   ]
  },
  {
   "cell_type": "markdown",
   "id": "1623d67b-59d6-4d08-8090-82b37c8bcefd",
   "metadata": {
    "tags": []
   },
   "source": [
    "## STEP 2: Establishing the connection to a TigerGraph database\n",
    "\n",
    "<div>\n",
    "  <img style=\"vertical-align:top\" src=\"img/connected-icon.png\" width=\"30\" height=\"30\"/>\n",
    "  <span style=\"\">The functionality of pyTigerGraph is implemented by the TigerGraphConnection class. To establish the connection to the database you need to provide the hostname, username and password to access the database.</span>\n",
    "</div>\n",
    "\n",
    "\n",
    "<table>\n",
    "  <tr>\n",
    "    <th>Connect to localhost</th>\n",
    "    <th>Connect to TG Cloud</th>\n",
    "  </tr>\n",
    "  <tr>\n",
    "    <td>conn = tg.TigerGraphConnection(<br>host='http://localhost',<br> username=\"tigergraph\",<br> password='tigergraph'<br>) </td>\n",
    "    <td>conn = tg.TigerGraphConnection(<br>host='https://tgcloud.io/app/solutions',<br> graphname=\"test\",<br> username=userName,<br> password=password,<br> apiToken=apiToken)<br> authToken = conn.getToken(secret)<br> )</td>\n",
    "   </tr>\n",
    "\n",
    "</table>"
   ]
  },
  {
   "cell_type": "code",
   "execution_count": null,
   "id": "290351bc-d3da-4924-a40f-f6a03fe7ccad",
   "metadata": {},
   "outputs": [],
   "source": [
    "conn = tg.TigerGraphConnection(\n",
    "    host='http://localhost',\n",
    "    username=\"tigergraph\",\n",
    "    password='tigergraph')"
   ]
  },
  {
   "cell_type": "markdown",
   "id": "4d671755-b53b-4b33-ae28-0b54182fad96",
   "metadata": {},
   "source": [
    "## STEP 3: Design Schema\n",
    "\n",
    "<div>\n",
    "  <img style=\"vertical-align:top\" src=\"img/graph_img.png\" width=\"30\" height=\"30\"/>\n",
    "  <span style=\"\">Before data can be loaded into the graph store, the user must define a graph schema. A graph schema is a \"dictionary\" that defines the types of entities, vertices and edges, in the graph and how those types of entities are related to one another.</span>\n",
    "</div>\n",
    "\n",
    "### WARNING: DROP ALL - Will Delete everything in your graph!\n",
    "\n",
    "Execute this cell if you would like to start the notebook lab from the beginning."
   ]
  },
  {
   "cell_type": "code",
   "execution_count": null,
   "id": "4d7690b2-cdd7-49f1-ab30-fe683edbf47f",
   "metadata": {},
   "outputs": [],
   "source": [
    "print(conn.gsql('''DROP ALL''', options=[]))"
   ]
  },
  {
   "cell_type": "markdown",
   "id": "bc9b59d5-55f1-4d09-b56a-319e2c8d22ec",
   "metadata": {},
   "source": [
    "----\n",
    "<img src=\"img/graph_sch.png\" alt=\"Drawing\" width=\"500\" height=\"100\"/>\n",
    "\n",
    "The CREATE VERTEX statement defines a new global vertex type, with a name and an attribute list. \n",
    "\n",
    "The CREATE EDGE statement defines a new global edge type. There are two forms of the CREATE EDGE statement, one for directed edges and one for undirected edges.  Each edge type must specify that it connects FROM one vertex type TO another vertex type."
   ]
  },
  {
   "cell_type": "code",
   "execution_count": null,
   "id": "1c707f9e-bd32-4b43-9ef5-f5826f96809d",
   "metadata": {},
   "outputs": [],
   "source": [
    "print(conn.gsql('''\n",
    "\n",
    "CREATE VERTEX person (PRIMARY_ID name STRING, gender STRING, name STRING, age INT, state STRING) \n",
    "\n",
    "CREATE UNDIRECTED EDGE friendship (FROM person, TO person, connect_day datetime)\n",
    "\n",
    "CREATE GRAPH social (person, friendship)'''\n",
    "                \n",
    ", options=[]))"
   ]
  },
  {
   "cell_type": "markdown",
   "id": "e458b6de-450e-4c77-a7c1-79d5e41b1ffc",
   "metadata": {},
   "source": [
    "----\n",
    "The GSQL command enable sending arbitrary GSQL statements to the database. Next cell show how to test the schema createtion was succesful.\n",
    "Change to the social graph"
   ]
  },
  {
   "cell_type": "code",
   "execution_count": null,
   "id": "dced8e07",
   "metadata": {},
   "outputs": [],
   "source": [
    "conn.graphname = 'social'"
   ]
  },
  {
   "cell_type": "markdown",
   "id": "941f75f1-a3b4-443f-bf8a-390e1ae9b20a",
   "metadata": {},
   "source": [
    "## STEP 4: Load data\n",
    "\n",
    "<div>\n",
    "  <img style=\"vertical-align:top\" src=\"img/load_data.png\" width=\"30\" height=\"30\"/>\n",
    "  <span style=\"\">The pyTigerGraph submodule provides results from various built-in endpoints in a Pandas DataFrame. To load data upload the csv file to a dataframe inside the notebook. \n",
    "</span>\n",
    "</div>"
   ]
  },
  {
   "cell_type": "code",
   "execution_count": null,
   "id": "4398f0ce-3dea-49ff-8a0d-a4af275aaa27",
   "metadata": {},
   "outputs": [],
   "source": [
    "people = pd.read_csv('data/people.csv')\n",
    "people"
   ]
  },
  {
   "cell_type": "code",
   "execution_count": null,
   "id": "c2c800d5-6e43-48f5-80d9-b2479b2c1193",
   "metadata": {},
   "outputs": [],
   "source": [
    "friendships = pd.read_csv('./data/friendships.csv')\n",
    "friendships"
   ]
  },
  {
   "cell_type": "code",
   "execution_count": null,
   "id": "72d095e8-81fb-4089-ad5e-2e8f7d9eb818",
   "metadata": {},
   "outputs": [],
   "source": [
    "v_person = conn.upsertVertexDataFrame(\n",
    "      people, \"person\", \"name\"\n",
    "    , attributes={\"name\": \"name\", \"gender\": \"gender\", \"age\": \"age\", \"state\": \"state\"})\n",
    "print(str(v_person) + \" Customer VERTICES Upserted\")"
   ]
  },
  {
   "cell_type": "code",
   "execution_count": null,
   "id": "b9995672-8161-4c1e-b2e0-fac03da3e625",
   "metadata": {},
   "outputs": [],
   "source": [
    "numPersons = conn.getVertexCount(\"person\")\n",
    "print(f\"There are currently {numPersons} in of vertex type person, prior to map\")"
   ]
  },
  {
   "cell_type": "code",
   "execution_count": null,
   "id": "5c737063-c9b9-4dd1-aa4b-da54aa67f6d2",
   "metadata": {},
   "outputs": [],
   "source": [
    "v_friendships = conn.upsertEdgeDataFrame(friendships,\"person\", \"friendship\", \"person\", from_id=\"person1\", to_id=\"person2\", attributes={\"connect_day\":\"date\"})\n",
    "print(str(v_friendships) + \" Friendships Edges Upserted\")"
   ]
  },
  {
   "cell_type": "markdown",
   "id": "46e5aff5-5d48-41fa-ba04-657ae58740d2",
   "metadata": {},
   "source": [
    "## STEP 5: Explore Graph\n",
    "\n",
    "### The Functions\n",
    "\n",
    "The functions below are grouped by:\n",
    "\n",
    "- Schema related functions - these functions can be used to get schema information or to load data into the graph\n",
    "- Query related functions - these two functions are use to run or compile GSQL queries\n",
    "- Vertex related functions - vertex related functions\n",
    "- Edge related functions - edge related functions\n",
    "- Token management - management\n",
    "- Other functions - some miselaneous functions\n",
    "\n",
    "\n",
    "| Schema related functions | Query related functions | Vertex related functions | Edge related functions | Token management | Other functions |\n",
    "| :------------------------| :---------------------- | :----------------------- | :--------------------- | :--------------- | :-------------- |\n",
    "| getSchema | runInstalledQuery | getVertexTypes | getEdgeTypes | getToken | echo |\n",
    "| getUDTs | runInterpretedQuery | getVertexType | getEdgeType | refreshToken  | getEndpoints|\n",
    "| getUDT | | getVertexCount| getEdgeCount|deleteToken | getStatistics |\n",
    "| upsertData| |  upsertVertex|upsertEdge||getVersion |\n",
    "| | | upsertVertices | upsertEdges||getVer |\n",
    "| | | getVertices | getEdges||getLicenseInfo |\n",
    "| | | getVerticesById | getEdgeStats|| |\n",
    "| | | getVertexStats | delEdges|||\n",
    "| | | delVertices| | |\n",
    "| | | delVerticesById| "
   ]
  },
  {
   "cell_type": "markdown",
   "id": "f1701426",
   "metadata": {},
   "source": [
    "### A simple 'ls' command provides a complete summary of the TigerGraph elements."
   ]
  },
  {
   "cell_type": "code",
   "execution_count": null,
   "id": "4aacadb1",
   "metadata": {},
   "outputs": [],
   "source": [
    "print(conn.gsql('''ls''', options=[]))"
   ]
  },
  {
   "cell_type": "code",
   "execution_count": null,
   "id": "ebb080bd-5c22-4261-8043-a0904f07bcc1",
   "metadata": {},
   "outputs": [],
   "source": [
    "conn.getVertexTypes()"
   ]
  },
  {
   "cell_type": "code",
   "execution_count": null,
   "id": "708177dc-7cca-43d0-8950-8ecff4f3ef36",
   "metadata": {},
   "outputs": [],
   "source": [
    "conn.getVertexType('person')"
   ]
  },
  {
   "cell_type": "code",
   "execution_count": null,
   "id": "45a0767b-90c9-4e08-9418-57077531772f",
   "metadata": {},
   "outputs": [],
   "source": [
    "conn.getVertexStats('person')"
   ]
  },
  {
   "cell_type": "code",
   "execution_count": null,
   "id": "6a36551d-9532-49d1-a9d6-a5e1d5a673e7",
   "metadata": {},
   "outputs": [],
   "source": [
    "conn.getEdgeTypes()"
   ]
  },
  {
   "cell_type": "code",
   "execution_count": null,
   "id": "a9171356-be34-459c-9326-1ece9baf4b91",
   "metadata": {},
   "outputs": [],
   "source": [
    "conn.getEdgeStats('friendship', skipNA=False)"
   ]
  },
  {
   "cell_type": "markdown",
   "id": "82532569-066b-4539-9caa-074e49cadcc7",
   "metadata": {
    "tags": []
   },
   "source": [
    "## STEP 6: Write Queries\n",
    "\n",
    "<div>\n",
    "  <img style=\"vertical-align:top\" src=\"img/query.png\" width=\"28\" height=\"28\"/>\n",
    "  <span style=\"\">TBD. \n",
    "</span>\n",
    "</div>"
   ]
  },
  {
   "cell_type": "code",
   "execution_count": null,
   "id": "cc7492b5-3633-4c38-addd-7c17738a9478",
   "metadata": {},
   "outputs": [],
   "source": [
    "print(conn.getEdgesDataframe(\"person\", \"Jenny\"))\n",
    "display(Image.open(\"img/Explore_fig1.png\"))"
   ]
  },
  {
   "cell_type": "code",
   "execution_count": null,
   "id": "c9ab9f28",
   "metadata": {},
   "outputs": [],
   "source": [
    "print(conn.gsql('''USE GRAPH social\n",
    "   SELECT * FROM person LIMIT 3\n",
    "'''))\n"
   ]
  },
  {
   "cell_type": "code",
   "execution_count": null,
   "id": "dfa197fb-daad-4cab-a59b-76635cb98131",
   "metadata": {},
   "outputs": [],
   "source": [
    "conn.runInterpretedQuery('''INTERPRET QUERY () FOR GRAPH social {\n",
    "    users = {person.*};\n",
    "    Result = SELECT p FROM users:u-(friendship)->:p WHERE u.name == \"Tom\";\n",
    "  PRINT Result; \n",
    "}''')"
   ]
  },
  {
   "cell_type": "code",
   "execution_count": null,
   "id": "21244208",
   "metadata": {},
   "outputs": [],
   "source": [
    "print(conn.gsql('''USE GRAPH social\n",
    "   SELECT * FROM person WHERE gender==\"female\"'''))"
   ]
  },
  {
   "cell_type": "markdown",
   "id": "478f8e42",
   "metadata": {},
   "source": [
    "### Use the built in gewtVertices() fucntion to return individual attributes for all females"
   ]
  },
  {
   "cell_type": "code",
   "execution_count": null,
   "id": "c0b488a8-7945-452c-8216-bfe4f60a92a6",
   "metadata": {},
   "outputs": [],
   "source": [
    "res=conn.getVertices('person', select='name,age,gender', where='gender==\"female\"')\n",
    "res"
   ]
  },
  {
   "cell_type": "markdown",
   "id": "7dc5bfa2",
   "metadata": {},
   "source": [
    "### Retrive the individual attributes for each person, in order to create a feature matrix"
   ]
  },
  {
   "cell_type": "code",
   "execution_count": null,
   "id": "1a5c2a50",
   "metadata": {},
   "outputs": [],
   "source": [
    "attrs=[x['attributes'] for x in res]\n",
    "attrs"
   ]
  },
  {
   "cell_type": "markdown",
   "id": "78ba973f",
   "metadata": {},
   "source": [
    "### Use the PAI to retrieve Dan's friends"
   ]
  },
  {
   "cell_type": "code",
   "execution_count": null,
   "id": "6b078540-67e4-4185-bdfd-b53fd37db152",
   "metadata": {},
   "outputs": [],
   "source": [
    "sourceVertexType='person'\n",
    "sourceVertexId='Dan'\n",
    "conn.getEdges(sourceVertexType, sourceVertexId, edgeType=None, targetVertexType=None, targetVertexId=None, select=\"\", where=\"\", limit=\"\", sort=\"\", timeout=0)"
   ]
  },
  {
   "cell_type": "code",
   "execution_count": null,
   "id": "59f10688",
   "metadata": {},
   "outputs": [],
   "source": [
    "attrs=res[-2]['attributes']\n",
    "attrs"
   ]
  },
  {
   "cell_type": "markdown",
   "id": "edffb75e",
   "metadata": {},
   "source": [
    "### Create a pandas dataframe base don the list returned from TigerGraph"
   ]
  },
  {
   "cell_type": "code",
   "execution_count": null,
   "id": "3df43eac",
   "metadata": {},
   "outputs": [],
   "source": [
    "df = pd.DataFrame(res)\n",
    "df"
   ]
  },
  {
   "cell_type": "markdown",
   "id": "13d5b642",
   "metadata": {},
   "source": [
    "### You can also directly execute a query via the connection"
   ]
  },
  {
   "cell_type": "code",
   "execution_count": null,
   "id": "85b3a710-aa56-4170-8218-73fb8abf8217",
   "metadata": {},
   "outputs": [],
   "source": [
    "conn.gsql('''select * from person where primary_id==\"Tom\"''')"
   ]
  },
  {
   "cell_type": "markdown",
   "id": "453561b0",
   "metadata": {},
   "source": [
    "### The power of Tiger is then to begin to traverse relationships in the data, such as retrieving all friends of Dan's friends"
   ]
  },
  {
   "cell_type": "code",
   "execution_count": null,
   "id": "bf60e3ea-b747-4e73-8d56-a6d92ca470d8",
   "metadata": {},
   "outputs": [],
   "source": [
    "conn.runInterpretedQuery('''\n",
    "  INTERPRET QUERY x() FOR GRAPH social {\n",
    "  # declaration statements\n",
    "  STRING uid = \"Tom\";\n",
    "  users = {person.*};\n",
    "  # body statements\n",
    "  posts = SELECT p\n",
    "    FROM users:u-(friendship)->:p\n",
    "    WHERE u.name == uid;\n",
    "  PRINT posts; \n",
    "}\n",
    "''')"
   ]
  },
  {
   "cell_type": "code",
   "execution_count": null,
   "id": "0aaf3c42-7613-4131-accc-d82e7d7c011a",
   "metadata": {},
   "outputs": [],
   "source": [
    "conn.runInterpretedQuery('''\n",
    "  INTERPRET QUERY () FOR GRAPH social {\n",
    "    person1 = {person.*};\n",
    "    Result = SELECT tgt\n",
    "           FROM person1:s-(friendship:e)-person:tgt;\n",
    "    PRINT Result; \n",
    "}\n",
    "''')"
   ]
  },
  {
   "cell_type": "markdown",
   "id": "0825e972",
   "metadata": {},
   "source": [
    "### Dive deeper into the network...."
   ]
  },
  {
   "cell_type": "code",
   "execution_count": null,
   "id": "dde1b189-5557-4f40-b1b2-ff176b116860",
   "metadata": {},
   "outputs": [],
   "source": [
    "conn.getEdges('person', 'Jenny'\n",
    "              , edgeType='friendship'\n",
    "              , targetVertexType='person'\n",
    "              , targetVertexId=None, select=\"connect_day\", where=\"\", limit=\"\", sort=\"\", timeout=0)"
   ]
  },
  {
   "cell_type": "code",
   "execution_count": null,
   "id": "b504af4b-c546-4cdf-bba5-73f112f59293",
   "metadata": {},
   "outputs": [],
   "source": []
  }
 ],
 "metadata": {
  "kernelspec": {
   "display_name": "Python 3",
   "language": "python",
   "name": "python3"
  },
  "language_info": {
   "codemirror_mode": {
    "name": "ipython",
    "version": 3
   },
   "file_extension": ".py",
   "mimetype": "text/x-python",
   "name": "python",
   "nbconvert_exporter": "python",
   "pygments_lexer": "ipython3",
   "version": "3.8.8"
  }
 },
 "nbformat": 4,
 "nbformat_minor": 5
}
