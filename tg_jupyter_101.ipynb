{
 "cells": [
  {
   "cell_type": "markdown",
   "id": "34765fc5-ab86-4eb3-ace6-2159bccda2d5",
   "metadata": {},
   "source": [
    "<img src=\"img/headerImg.jpeg\" alt=\"Drawing\" width=\"1000\" height=\"100\"/>\n",
    "\n",
    "# Create Your First Graph\n",
    "\n",
    "TigerGraph is a graph database software with a multitude of functionality and solutions to some of the issues that have plagued other graph databases. This notebook demonstrates how to use basic commands to connect, create and load data into TigerGraph using the Python pyTigerGraph module.\n",
    "\n",
    "## STEP 1: Import Packages\n",
    "\n",
    "Note: Assuming you have installed the pyTigerGraph package. If not install it using:\n",
    "```pip install pyTigerGraph```"
   ]
  },
  {
   "cell_type": "code",
   "execution_count": 1,
   "id": "042bac37-4308-42ed-9d85-64aefbc614fa",
   "metadata": {},
   "outputs": [],
   "source": [
    "import pyTigerGraph as tg\n",
    "import pandas as pd\n",
    "import json"
   ]
  },
  {
   "cell_type": "markdown",
   "id": "1623d67b-59d6-4d08-8090-82b37c8bcefd",
   "metadata": {},
   "source": [
    "## STEP 2: Establishing the connection to a TigerGraph database\n",
    "\n",
    "<div>\n",
    "  <img style=\"vertical-align:top\" src=\"img/connected-icon.png\" width=\"30\" height=\"30\"/>\n",
    "  <span style=\"\">The functionality of pyTigerGraph is implemented by the TigerGraphConnection class. To establish the connection to the database you need to provide the hostname, username and password to access the database.</span>\n",
    "</div>"
   ]
  },
  {
   "cell_type": "code",
   "execution_count": 2,
   "id": "290351bc-d3da-4924-a40f-f6a03fe7ccad",
   "metadata": {},
   "outputs": [],
   "source": [
    "conn = tg.TigerGraphConnection(\n",
    "    host='http://localhost',\n",
    "    username=\"tigergraph\",\n",
    "    password='tigergraph')"
   ]
  },
  {
   "cell_type": "markdown",
   "id": "4d671755-b53b-4b33-ae28-0b54182fad96",
   "metadata": {},
   "source": [
    "## STEP 3: Define a Graph Schema\n",
    "\n",
    "<div>\n",
    "  <img style=\"vertical-align:top\" src=\"img/graph_img.png\" width=\"30\" height=\"30\"/>\n",
    "  <span style=\"\">Before data can be loaded into the graph store, the user must define a graph schema. A graph schema is a \"dictionary\" that defines the types of entities, vertices and edges, in the graph and how those types of entities are related to one another.</span>\n",
    "</div>\n",
    "\n",
    "### WARNING: DROP ALL - Will Delete everything in your graph!\n",
    "\n",
    "Execute this cell if you would like to start the notebook lab from the beginning."
   ]
  },
  {
   "cell_type": "code",
   "execution_count": 3,
   "id": "4d7690b2-cdd7-49f1-ab30-fe683edbf47f",
   "metadata": {},
   "outputs": [
    {
     "name": "stdout",
     "output_type": "stream",
     "text": [
      "Dropping all, about 1 minute ...\n",
      "Abort all active loading jobs\n",
      "Try to abort all loading jobs on graph social, it may take a while ...\n",
      "[ABORT_SUCCESS] No active Loading Job to abort.\n",
      "Resetting GPE...\n",
      "Successfully reset GPE\n",
      "Stopping GPE GSE\n",
      "Successfully stopped GPE GSE in 7.356 seconds\n",
      "Clearing graph store...\n",
      "Successfully cleared graph store\n",
      "Starting GPE GSE RESTPP\n",
      "Successfully started GPE GSE RESTPP in 0.062 seconds\n",
      "Everything is dropped.\n"
     ]
    }
   ],
   "source": [
    "print(conn.gsql('''DROP ALL''', options=[]))"
   ]
  },
  {
   "cell_type": "markdown",
   "id": "bc9b59d5-55f1-4d09-b56a-319e2c8d22ec",
   "metadata": {},
   "source": [
    "----\n",
    "The CREATE VERTEX statement defines a new global vertex type, with a name and an attribute list. \n",
    "\n",
    "The CREATE EDGE statement defines a new global edge type. There are two forms of the CREATE EDGE statement, one for directed edges and one for undirected edges.  Each edge type must specify that it connects FROM one vertex type TO another vertex type."
   ]
  },
  {
   "cell_type": "code",
   "execution_count": 4,
   "id": "1c707f9e-bd32-4b43-9ef5-f5826f96809d",
   "metadata": {},
   "outputs": [
    {
     "name": "stdout",
     "output_type": "stream",
     "text": [
      "The vertex type person is created.\n",
      "The edge type friendship is created.\n",
      "Stopping GPE GSE RESTPP\n",
      "Successfully stopped GPE GSE RESTPP in 0.310 seconds\n",
      "Starting GPE GSE RESTPP\n",
      "Successfully started GPE GSE RESTPP in 0.065 seconds\n",
      "The graph social is created.\n"
     ]
    }
   ],
   "source": [
    "print(conn.gsql('''\n",
    "CREATE VERTEX person (PRIMARY_ID name STRING, gender STRING, name STRING, age INT, state STRING)                     \n",
    "CREATE UNDIRECTED EDGE friendship (FROM person, TO person, connect_day datetime)\n",
    "CREATE GRAPH social (person, friendship)\n",
    "''', options=[]))"
   ]
  },
  {
   "cell_type": "markdown",
   "id": "e458b6de-450e-4c77-a7c1-79d5e41b1ffc",
   "metadata": {},
   "source": [
    "----\n",
    "The GSQL command enable sending arbitrary GSQL statements to the database. Next cell show how to test the schema createtion was succesful."
   ]
  },
  {
   "cell_type": "code",
   "execution_count": 5,
   "id": "dced8e07",
   "metadata": {},
   "outputs": [
    {
     "name": "stdout",
     "output_type": "stream",
     "text": [
      "---- Global vertices, edges, and all graphs\n",
      "Vertex Types:\n",
      "- VERTEX person(PRIMARY_ID name STRING, gender STRING, name STRING, age INT, state STRING) WITH STATS=\"OUTDEGREE_BY_EDGETYPE\"\n",
      "Edge Types:\n",
      "- UNDIRECTED EDGE friendship(FROM person, TO person, connect_day DATETIME)\n",
      "\n",
      "Graphs:\n",
      "- Graph social(person:v, friendship:e)\n",
      "Jobs:\n",
      "\n",
      "\n",
      "JSON API version: v2\n",
      "Syntax version: v1\n",
      "\n"
     ]
    }
   ],
   "source": [
    "print(conn.gsql('''ls''', options=[]))"
   ]
  },
  {
   "cell_type": "markdown",
   "id": "941f75f1-a3b4-443f-bf8a-390e1ae9b20a",
   "metadata": {},
   "source": [
    "## Step 3: Load data\n",
    "\n",
    "<div>\n",
    "  <img style=\"vertical-align:top\" src=\"img/load_data.png\" width=\"30\" height=\"30\"/>\n",
    "  <span style=\"\">The pyTigerGraph submodule provides results from various built-in endpoints in a Pandas DataFrame. To load data upload the csv file to a dataframe inside the notebook. \n",
    "</span>\n",
    "</div>"
   ]
  },
  {
   "cell_type": "code",
   "execution_count": 6,
   "id": "4398f0ce-3dea-49ff-8a0d-a4af275aaa27",
   "metadata": {},
   "outputs": [
    {
     "data": {
      "text/html": [
       "<div>\n",
       "<style scoped>\n",
       "    .dataframe tbody tr th:only-of-type {\n",
       "        vertical-align: middle;\n",
       "    }\n",
       "\n",
       "    .dataframe tbody tr th {\n",
       "        vertical-align: top;\n",
       "    }\n",
       "\n",
       "    .dataframe thead th {\n",
       "        text-align: right;\n",
       "    }\n",
       "</style>\n",
       "<table border=\"1\" class=\"dataframe\">\n",
       "  <thead>\n",
       "    <tr style=\"text-align: right;\">\n",
       "      <th></th>\n",
       "      <th>name</th>\n",
       "      <th>gender</th>\n",
       "      <th>age</th>\n",
       "      <th>state</th>\n",
       "    </tr>\n",
       "  </thead>\n",
       "  <tbody>\n",
       "    <tr>\n",
       "      <th>0</th>\n",
       "      <td>Tom</td>\n",
       "      <td>male</td>\n",
       "      <td>40</td>\n",
       "      <td>ca</td>\n",
       "    </tr>\n",
       "    <tr>\n",
       "      <th>1</th>\n",
       "      <td>Dan</td>\n",
       "      <td>male</td>\n",
       "      <td>34</td>\n",
       "      <td>ny</td>\n",
       "    </tr>\n",
       "    <tr>\n",
       "      <th>2</th>\n",
       "      <td>Jenny</td>\n",
       "      <td>female</td>\n",
       "      <td>25</td>\n",
       "      <td>tx</td>\n",
       "    </tr>\n",
       "    <tr>\n",
       "      <th>3</th>\n",
       "      <td>Kevin</td>\n",
       "      <td>male</td>\n",
       "      <td>28</td>\n",
       "      <td>az</td>\n",
       "    </tr>\n",
       "    <tr>\n",
       "      <th>4</th>\n",
       "      <td>Amily</td>\n",
       "      <td>female</td>\n",
       "      <td>22</td>\n",
       "      <td>ca</td>\n",
       "    </tr>\n",
       "    <tr>\n",
       "      <th>5</th>\n",
       "      <td>Nancy</td>\n",
       "      <td>female</td>\n",
       "      <td>20</td>\n",
       "      <td>ky</td>\n",
       "    </tr>\n",
       "    <tr>\n",
       "      <th>6</th>\n",
       "      <td>Jack</td>\n",
       "      <td>male</td>\n",
       "      <td>26</td>\n",
       "      <td>fl</td>\n",
       "    </tr>\n",
       "  </tbody>\n",
       "</table>\n",
       "</div>"
      ],
      "text/plain": [
       "    name  gender  age state\n",
       "0    Tom    male   40    ca\n",
       "1    Dan    male   34    ny\n",
       "2  Jenny  female   25    tx\n",
       "3  Kevin    male   28    az\n",
       "4  Amily  female   22    ca\n",
       "5  Nancy  female   20    ky\n",
       "6   Jack    male   26    fl"
      ]
     },
     "execution_count": 6,
     "metadata": {},
     "output_type": "execute_result"
    }
   ],
   "source": [
    "persons = pd.read_csv('data/persons.csv')\n",
    "persons"
   ]
  },
  {
   "cell_type": "code",
   "execution_count": 7,
   "id": "c2c800d5-6e43-48f5-80d9-b2479b2c1193",
   "metadata": {},
   "outputs": [
    {
     "data": {
      "text/html": [
       "<div>\n",
       "<style scoped>\n",
       "    .dataframe tbody tr th:only-of-type {\n",
       "        vertical-align: middle;\n",
       "    }\n",
       "\n",
       "    .dataframe tbody tr th {\n",
       "        vertical-align: top;\n",
       "    }\n",
       "\n",
       "    .dataframe thead th {\n",
       "        text-align: right;\n",
       "    }\n",
       "</style>\n",
       "<table border=\"1\" class=\"dataframe\">\n",
       "  <thead>\n",
       "    <tr style=\"text-align: right;\">\n",
       "      <th></th>\n",
       "      <th>person1</th>\n",
       "      <th>person2</th>\n",
       "      <th>date</th>\n",
       "    </tr>\n",
       "  </thead>\n",
       "  <tbody>\n",
       "    <tr>\n",
       "      <th>0</th>\n",
       "      <td>Tom</td>\n",
       "      <td>Dan</td>\n",
       "      <td>2017-06-03</td>\n",
       "    </tr>\n",
       "    <tr>\n",
       "      <th>1</th>\n",
       "      <td>Tom</td>\n",
       "      <td>Jenny</td>\n",
       "      <td>2015-01-01</td>\n",
       "    </tr>\n",
       "    <tr>\n",
       "      <th>2</th>\n",
       "      <td>Dan</td>\n",
       "      <td>Jenny</td>\n",
       "      <td>2016-08-03</td>\n",
       "    </tr>\n",
       "    <tr>\n",
       "      <th>3</th>\n",
       "      <td>Jenny</td>\n",
       "      <td>Amily</td>\n",
       "      <td>2015-06-08</td>\n",
       "    </tr>\n",
       "    <tr>\n",
       "      <th>4</th>\n",
       "      <td>Dan</td>\n",
       "      <td>Nancy</td>\n",
       "      <td>2016-01-03</td>\n",
       "    </tr>\n",
       "    <tr>\n",
       "      <th>5</th>\n",
       "      <td>Nancy</td>\n",
       "      <td>Jack</td>\n",
       "      <td>2017-03-02</td>\n",
       "    </tr>\n",
       "    <tr>\n",
       "      <th>6</th>\n",
       "      <td>Dan</td>\n",
       "      <td>Kevin</td>\n",
       "      <td>2015-12-30</td>\n",
       "    </tr>\n",
       "  </tbody>\n",
       "</table>\n",
       "</div>"
      ],
      "text/plain": [
       "  person1 person2        date\n",
       "0     Tom     Dan  2017-06-03\n",
       "1     Tom   Jenny  2015-01-01\n",
       "2     Dan   Jenny  2016-08-03\n",
       "3   Jenny   Amily  2015-06-08\n",
       "4     Dan   Nancy  2016-01-03\n",
       "5   Nancy    Jack  2017-03-02\n",
       "6     Dan   Kevin  2015-12-30"
      ]
     },
     "execution_count": 7,
     "metadata": {},
     "output_type": "execute_result"
    }
   ],
   "source": [
    "friendships = pd.read_csv('./data/friendships.csv')\n",
    "friendships"
   ]
  },
  {
   "cell_type": "markdown",
   "id": "487df1fe-116e-4f8e-b512-376c57c61bc5",
   "metadata": {},
   "source": [
    "----\n",
    "Change to the social graph"
   ]
  },
  {
   "cell_type": "code",
   "execution_count": 8,
   "id": "79697407-410c-4daa-9cb0-e96320f53717",
   "metadata": {
    "tags": []
   },
   "outputs": [],
   "source": [
    "socialGraph=tg.TigerGraphConnection(host='http://localhost', graphname='social' )\n",
    "results = socialGraph.getSchema()"
   ]
  },
  {
   "cell_type": "code",
   "execution_count": 9,
   "id": "e902740a-d0af-4e09-9b24-513be8f4e8fe",
   "metadata": {},
   "outputs": [
    {
     "name": "stdout",
     "output_type": "stream",
     "text": [
      "7 Customer VERTICES Upserted\n"
     ]
    }
   ],
   "source": [
    "v_person = socialGraph.upsertVertexDataFrame(persons, \"person\", \"name\", attributes={\"name\": \"name\", \"gender\": \"gender\", \"age\": \"age\", \"state\": \"state\"})\n",
    "print(str(v_person) + \" Customer VERTICES Upserted\")"
   ]
  },
  {
   "cell_type": "code",
   "execution_count": 10,
   "id": "b9995672-8161-4c1e-b2e0-fac03da3e625",
   "metadata": {},
   "outputs": [
    {
     "name": "stdout",
     "output_type": "stream",
     "text": [
      "There are currently 0 in of vertex type person, prior to map\n"
     ]
    }
   ],
   "source": [
    "numPersons = socialGraph.getVertexCount(\"person\")\n",
    "print(f\"There are currently {numPersons} in of vertex type person, prior to map\")"
   ]
  },
  {
   "cell_type": "code",
   "execution_count": 11,
   "id": "5c737063-c9b9-4dd1-aa4b-da54aa67f6d2",
   "metadata": {},
   "outputs": [
    {
     "name": "stdout",
     "output_type": "stream",
     "text": [
      "7 Friendships Edges Upserted\n"
     ]
    }
   ],
   "source": [
    "v_friendships = socialGraph.upsertEdgeDataFrame(friendships,\"person\", \"friendship\", \"person\", from_id=\"person1\", to_id=\"person2\", attributes={\"connect_day\":\"date\"})\n",
    "print(str(v_friendships) + \" Friendships Edges Upserted\")"
   ]
  },
  {
   "cell_type": "markdown",
   "id": "46e5aff5-5d48-41fa-ba04-657ae58740d2",
   "metadata": {},
   "source": [
    "## Step 4: Explore Graph\n",
    "\n",
    "<div>\n",
    "  <img style=\"vertical-align:top\" src=\"img/inquiry.jpeg\" width=\"28\" height=\"28\"/>\n",
    "  <span style=\"\">TBD. \n",
    "</span>\n",
    "</div>"
   ]
  },
  {
   "cell_type": "code",
   "execution_count": 12,
   "id": "45a0767b-90c9-4e08-9418-57077531772f",
   "metadata": {},
   "outputs": [
    {
     "data": {
      "text/plain": [
       "{'person': {'age': {'MAX': 40, 'MIN': 20, 'AVG': 27.85714}}}"
      ]
     },
     "execution_count": 12,
     "metadata": {},
     "output_type": "execute_result"
    }
   ],
   "source": [
    "socialGraph.getVertexStats('person')"
   ]
  },
  {
   "cell_type": "code",
   "execution_count": 13,
   "id": "ebb080bd-5c22-4261-8043-a0904f07bcc1",
   "metadata": {},
   "outputs": [
    {
     "data": {
      "text/plain": [
       "['person']"
      ]
     },
     "execution_count": 13,
     "metadata": {},
     "output_type": "execute_result"
    }
   ],
   "source": [
    "socialGraph.getVertexTypes()"
   ]
  },
  {
   "cell_type": "code",
   "execution_count": 14,
   "id": "a9171356-be34-459c-9326-1ece9baf4b91",
   "metadata": {},
   "outputs": [
    {
     "data": {
      "text/plain": [
       "{'friendship': {'connect_day': {'MAX': 1496448000,\n",
       "   'MIN': 1420070400,\n",
       "   'AVG': 1458864000}}}"
      ]
     },
     "execution_count": 14,
     "metadata": {},
     "output_type": "execute_result"
    }
   ],
   "source": [
    "socialGraph.getEdgeStats('friendship', skipNA=False)"
   ]
  },
  {
   "cell_type": "code",
   "execution_count": 15,
   "id": "dde1b189-5557-4f40-b1b2-ff176b116860",
   "metadata": {},
   "outputs": [
    {
     "data": {
      "text/plain": [
       "[{'e_type': 'friendship',\n",
       "  'directed': False,\n",
       "  'from_id': 'Jenny',\n",
       "  'from_type': 'person',\n",
       "  'to_id': 'Amily',\n",
       "  'to_type': 'person',\n",
       "  'attributes': {'connect_day': '2015-06-08 00:00:00'}},\n",
       " {'e_type': 'friendship',\n",
       "  'directed': False,\n",
       "  'from_id': 'Jenny',\n",
       "  'from_type': 'person',\n",
       "  'to_id': 'Tom',\n",
       "  'to_type': 'person',\n",
       "  'attributes': {'connect_day': '2015-01-01 00:00:00'}},\n",
       " {'e_type': 'friendship',\n",
       "  'directed': False,\n",
       "  'from_id': 'Jenny',\n",
       "  'from_type': 'person',\n",
       "  'to_id': 'Dan',\n",
       "  'to_type': 'person',\n",
       "  'attributes': {'connect_day': '2016-08-03 00:00:00'}}]"
      ]
     },
     "execution_count": 15,
     "metadata": {},
     "output_type": "execute_result"
    }
   ],
   "source": [
    "socialGraph.getEdges('person', 'Jenny'\n",
    "              , edgeType='friendship'\n",
    "              , targetVertexType='person'\n",
    "              , targetVertexId=None, select=\"connect_day\", where=\"\", limit=\"\", sort=\"\", timeout=0)"
   ]
  },
  {
   "cell_type": "code",
   "execution_count": 16,
   "id": "cc7492b5-3633-4c38-addd-7c17738a9478",
   "metadata": {},
   "outputs": [
    {
     "data": {
      "text/html": [
       "<div>\n",
       "<style scoped>\n",
       "    .dataframe tbody tr th:only-of-type {\n",
       "        vertical-align: middle;\n",
       "    }\n",
       "\n",
       "    .dataframe tbody tr th {\n",
       "        vertical-align: top;\n",
       "    }\n",
       "\n",
       "    .dataframe thead th {\n",
       "        text-align: right;\n",
       "    }\n",
       "</style>\n",
       "<table border=\"1\" class=\"dataframe\">\n",
       "  <thead>\n",
       "    <tr style=\"text-align: right;\">\n",
       "      <th></th>\n",
       "      <th>from_type</th>\n",
       "      <th>from_id</th>\n",
       "      <th>to_type</th>\n",
       "      <th>to_id</th>\n",
       "      <th>connect_day</th>\n",
       "    </tr>\n",
       "  </thead>\n",
       "  <tbody>\n",
       "    <tr>\n",
       "      <th>0</th>\n",
       "      <td>person</td>\n",
       "      <td>Dan</td>\n",
       "      <td>person</td>\n",
       "      <td>Tom</td>\n",
       "      <td>2017-06-03 00:00:00</td>\n",
       "    </tr>\n",
       "    <tr>\n",
       "      <th>1</th>\n",
       "      <td>person</td>\n",
       "      <td>Dan</td>\n",
       "      <td>person</td>\n",
       "      <td>Kevin</td>\n",
       "      <td>2015-12-30 00:00:00</td>\n",
       "    </tr>\n",
       "    <tr>\n",
       "      <th>2</th>\n",
       "      <td>person</td>\n",
       "      <td>Dan</td>\n",
       "      <td>person</td>\n",
       "      <td>Jenny</td>\n",
       "      <td>2016-08-03 00:00:00</td>\n",
       "    </tr>\n",
       "    <tr>\n",
       "      <th>3</th>\n",
       "      <td>person</td>\n",
       "      <td>Dan</td>\n",
       "      <td>person</td>\n",
       "      <td>Nancy</td>\n",
       "      <td>2016-01-03 00:00:00</td>\n",
       "    </tr>\n",
       "  </tbody>\n",
       "</table>\n",
       "</div>"
      ],
      "text/plain": [
       "  from_type from_id to_type  to_id          connect_day\n",
       "0    person     Dan  person    Tom  2017-06-03 00:00:00\n",
       "1    person     Dan  person  Kevin  2015-12-30 00:00:00\n",
       "2    person     Dan  person  Jenny  2016-08-03 00:00:00\n",
       "3    person     Dan  person  Nancy  2016-01-03 00:00:00"
      ]
     },
     "execution_count": 16,
     "metadata": {},
     "output_type": "execute_result"
    }
   ],
   "source": [
    "#getEdgesDataframe(sourceVertexType, sourceVerticies, edgeType=None, targetVertexType=None, targetVertexId=None, select=\"\", where=\"\", limit=\"\", sort=\"\", timeout=0)\n",
    "\n",
    "df=socialGraph.getEdgesDataframe(\"person\", \"Dan\")\n",
    "df"
   ]
  },
  {
   "cell_type": "code",
   "execution_count": 17,
   "id": "c9ab9f28",
   "metadata": {},
   "outputs": [
    {
     "data": {
      "text/plain": [
       "'Using graph \\'social\\'\\n[\\n{\\n\"v_id\": \"Nancy\",\\n\"attributes\": {\\n\"gender\": \"female\",\\n\"name\": \"Nancy\",\\n\"state\": \"ky\",\\n\"age\": 20\\n},\\n\"v_type\": \"person\"\\n},\\n{\\n\"v_id\": \"Jenny\",\\n\"attributes\": {\\n\"gender\": \"female\",\\n\"name\": \"Jenny\",\\n\"state\": \"tx\",\\n\"age\": 25\\n},\\n\"v_type\": \"person\"\\n},\\n{\\n\"v_id\": \"Jack\",\\n\"attributes\": {\\n\"gender\": \"male\",\\n\"name\": \"Jack\",\\n\"state\": \"fl\",\\n\"age\": 26\\n},\\n\"v_type\": \"person\"\\n}\\n]'"
      ]
     },
     "execution_count": 17,
     "metadata": {},
     "output_type": "execute_result"
    }
   ],
   "source": [
    "resultSet1 = socialGraph.gsql('''use graph social \n",
    "   SELECT * FROM person LIMIT 3''')\n",
    "resultSet1"
   ]
  },
  {
   "cell_type": "code",
   "execution_count": 18,
   "id": "dfa197fb-daad-4cab-a59b-76635cb98131",
   "metadata": {},
   "outputs": [
    {
     "data": {
      "text/plain": [
       "'Encountered \" \":\" \": \"\" at line 1, column 21.\\nWas expecting one of:\\n<EOF>\\n\"limit\" ...\\n\"order\" ...\\n\"where\" ...\\n\"-(\" ...\\n'"
      ]
     },
     "execution_count": 18,
     "metadata": {},
     "output_type": "execute_result"
    }
   ],
   "source": [
    "results = socialGraph.gsql('''SELECT * from person:p-(friendship:f)-person:t LIMIT 5''')\n",
    "results"
   ]
  },
  {
   "cell_type": "code",
   "execution_count": 19,
   "id": "f590a46b-85e3-4aa8-bce3-8738b10757f7",
   "metadata": {},
   "outputs": [
    {
     "data": {
      "text/plain": [
       "'Using graph \\'social\\'\\n[\\n{\\n\"v_id\": \"Nancy\",\\n\"attributes\": {\\n\"gender\": \"female\",\\n\"name\": \"Nancy\",\\n\"state\": \"ky\",\\n\"age\": 20\\n},\\n\"v_type\": \"person\"\\n},\\n{\\n\"v_id\": \"Jenny\",\\n\"attributes\": {\\n\"gender\": \"female\",\\n\"name\": \"Jenny\",\\n\"state\": \"tx\",\\n\"age\": 25\\n},\\n\"v_type\": \"person\"\\n},\\n{\\n\"v_id\": \"Amily\",\\n\"attributes\": {\\n\"gender\": \"female\",\\n\"name\": \"Amily\",\\n\"state\": \"ca\",\\n\"age\": 22\\n},\\n\"v_type\": \"person\"\\n}\\n]'"
      ]
     },
     "execution_count": 19,
     "metadata": {},
     "output_type": "execute_result"
    }
   ],
   "source": [
    "results = socialGraph.gsql('''use graph social\n",
    "                        select * from person where gender==\"female\"''')\n",
    "results\n",
    "#df = pd.DataFrame(results[0]['attributes'])\n",
    "#df\n",
    "#print(json.dumps(results, indent=2))"
   ]
  },
  {
   "cell_type": "code",
   "execution_count": 20,
   "id": "c0b488a8-7945-452c-8216-bfe4f60a92a6",
   "metadata": {},
   "outputs": [
    {
     "data": {
      "text/plain": [
       "[{'v_id': 'Nancy',\n",
       "  'v_type': 'person',\n",
       "  'attributes': {'name': 'Nancy', 'age': 20, 'gender': 'female'}},\n",
       " {'v_id': 'Jenny',\n",
       "  'v_type': 'person',\n",
       "  'attributes': {'name': 'Jenny', 'age': 25, 'gender': 'female'}},\n",
       " {'v_id': 'Amily',\n",
       "  'v_type': 'person',\n",
       "  'attributes': {'name': 'Amily', 'age': 22, 'gender': 'female'}}]"
      ]
     },
     "execution_count": 20,
     "metadata": {},
     "output_type": "execute_result"
    }
   ],
   "source": [
    "res=socialGraph.getVertices('person', select='name,age,gender', where='gender==\"female\"')\n",
    "res"
   ]
  },
  {
   "cell_type": "code",
   "execution_count": 21,
   "id": "fda65667",
   "metadata": {},
   "outputs": [
    {
     "data": {
      "text/plain": [
       "list"
      ]
     },
     "execution_count": 21,
     "metadata": {},
     "output_type": "execute_result"
    }
   ],
   "source": [
    "type(res)"
   ]
  },
  {
   "cell_type": "code",
   "execution_count": 22,
   "id": "1a5c2a50",
   "metadata": {},
   "outputs": [
    {
     "data": {
      "text/plain": [
       "[{'name': 'Nancy', 'age': 20, 'gender': 'female'},\n",
       " {'name': 'Jenny', 'age': 25, 'gender': 'female'},\n",
       " {'name': 'Amily', 'age': 22, 'gender': 'female'}]"
      ]
     },
     "execution_count": 22,
     "metadata": {},
     "output_type": "execute_result"
    }
   ],
   "source": [
    "attrs=[x['attributes'] for x in res]\n",
    "attrs"
   ]
  },
  {
   "cell_type": "code",
   "execution_count": 23,
   "id": "7686dee9",
   "metadata": {},
   "outputs": [
    {
     "data": {
      "text/plain": [
       "list"
      ]
     },
     "execution_count": 23,
     "metadata": {},
     "output_type": "execute_result"
    }
   ],
   "source": [
    "type(attrs)"
   ]
  },
  {
   "cell_type": "code",
   "execution_count": 24,
   "id": "59f10688",
   "metadata": {},
   "outputs": [
    {
     "data": {
      "text/plain": [
       "{'name': 'Jenny', 'age': 25, 'gender': 'female'}"
      ]
     },
     "execution_count": 24,
     "metadata": {},
     "output_type": "execute_result"
    }
   ],
   "source": [
    "attrs=res[-2]['attributes']\n",
    "attrs"
   ]
  },
  {
   "cell_type": "code",
   "execution_count": 25,
   "id": "3df43eac",
   "metadata": {},
   "outputs": [
    {
     "data": {
      "text/html": [
       "<div>\n",
       "<style scoped>\n",
       "    .dataframe tbody tr th:only-of-type {\n",
       "        vertical-align: middle;\n",
       "    }\n",
       "\n",
       "    .dataframe tbody tr th {\n",
       "        vertical-align: top;\n",
       "    }\n",
       "\n",
       "    .dataframe thead th {\n",
       "        text-align: right;\n",
       "    }\n",
       "</style>\n",
       "<table border=\"1\" class=\"dataframe\">\n",
       "  <thead>\n",
       "    <tr style=\"text-align: right;\">\n",
       "      <th></th>\n",
       "      <th>v_id</th>\n",
       "      <th>v_type</th>\n",
       "      <th>attributes</th>\n",
       "    </tr>\n",
       "  </thead>\n",
       "  <tbody>\n",
       "    <tr>\n",
       "      <th>0</th>\n",
       "      <td>Nancy</td>\n",
       "      <td>person</td>\n",
       "      <td>{'name': 'Nancy', 'age': 20, 'gender': 'female'}</td>\n",
       "    </tr>\n",
       "    <tr>\n",
       "      <th>1</th>\n",
       "      <td>Jenny</td>\n",
       "      <td>person</td>\n",
       "      <td>{'name': 'Jenny', 'age': 25, 'gender': 'female'}</td>\n",
       "    </tr>\n",
       "    <tr>\n",
       "      <th>2</th>\n",
       "      <td>Amily</td>\n",
       "      <td>person</td>\n",
       "      <td>{'name': 'Amily', 'age': 22, 'gender': 'female'}</td>\n",
       "    </tr>\n",
       "  </tbody>\n",
       "</table>\n",
       "</div>"
      ],
      "text/plain": [
       "    v_id  v_type                                        attributes\n",
       "0  Nancy  person  {'name': 'Nancy', 'age': 20, 'gender': 'female'}\n",
       "1  Jenny  person  {'name': 'Jenny', 'age': 25, 'gender': 'female'}\n",
       "2  Amily  person  {'name': 'Amily', 'age': 22, 'gender': 'female'}"
      ]
     },
     "execution_count": 25,
     "metadata": {},
     "output_type": "execute_result"
    }
   ],
   "source": [
    "df = pd.DataFrame(res)\n",
    "df"
   ]
  },
  {
   "cell_type": "code",
   "execution_count": 26,
   "id": "6b078540-67e4-4185-bdfd-b53fd37db152",
   "metadata": {},
   "outputs": [
    {
     "data": {
      "text/plain": [
       "[{'e_type': 'friendship',\n",
       "  'directed': False,\n",
       "  'from_id': 'Dan',\n",
       "  'from_type': 'person',\n",
       "  'to_id': 'Tom',\n",
       "  'to_type': 'person',\n",
       "  'attributes': {'connect_day': '2017-06-03 00:00:00'}},\n",
       " {'e_type': 'friendship',\n",
       "  'directed': False,\n",
       "  'from_id': 'Dan',\n",
       "  'from_type': 'person',\n",
       "  'to_id': 'Kevin',\n",
       "  'to_type': 'person',\n",
       "  'attributes': {'connect_day': '2015-12-30 00:00:00'}},\n",
       " {'e_type': 'friendship',\n",
       "  'directed': False,\n",
       "  'from_id': 'Dan',\n",
       "  'from_type': 'person',\n",
       "  'to_id': 'Jenny',\n",
       "  'to_type': 'person',\n",
       "  'attributes': {'connect_day': '2016-08-03 00:00:00'}},\n",
       " {'e_type': 'friendship',\n",
       "  'directed': False,\n",
       "  'from_id': 'Dan',\n",
       "  'from_type': 'person',\n",
       "  'to_id': 'Nancy',\n",
       "  'to_type': 'person',\n",
       "  'attributes': {'connect_day': '2016-01-03 00:00:00'}}]"
      ]
     },
     "execution_count": 26,
     "metadata": {},
     "output_type": "execute_result"
    }
   ],
   "source": [
    "sourceVertexType='person'\n",
    "sourceVertexId='Dan'\n",
    "socialGraph.getEdges(sourceVertexType, sourceVertexId, edgeType=None, targetVertexType=None, targetVertexId=None, select=\"\", where=\"\", limit=\"\", sort=\"\", timeout=0)"
   ]
  },
  {
   "cell_type": "markdown",
   "id": "82532569-066b-4539-9caa-074e49cadcc7",
   "metadata": {},
   "source": [
    "## Step 5: Write Queries\n",
    "\n",
    "<div>\n",
    "  <img style=\"vertical-align:top\" src=\"img/query.png\" width=\"28\" height=\"28\"/>\n",
    "  <span style=\"\">TBD. \n",
    "</span>\n",
    "</div>"
   ]
  },
  {
   "cell_type": "code",
   "execution_count": 27,
   "id": "85b3a710-aa56-4170-8218-73fb8abf8217",
   "metadata": {},
   "outputs": [
    {
     "data": {
      "text/plain": [
       "'Using graph \\'social\\'\\n[{\\n\"v_id\": \"Tom\",\\n\"attributes\": {\\n\"gender\": \"male\",\\n\"name\": \"Tom\",\\n\"state\": \"ca\",\\n\"age\": 40\\n},\\n\"v_type\": \"person\"\\n}]'"
      ]
     },
     "execution_count": 27,
     "metadata": {},
     "output_type": "execute_result"
    }
   ],
   "source": [
    "socialGraph.gsql('''use graph social\n",
    "                 select * from person where primary_id==\"Tom\"''')"
   ]
  },
  {
   "cell_type": "code",
   "execution_count": 28,
   "id": "bf60e3ea-b747-4e73-8d56-a6d92ca470d8",
   "metadata": {},
   "outputs": [
    {
     "data": {
      "text/plain": [
       "[{'posts': [{'v_id': 'Dan',\n",
       "    'v_type': 'person',\n",
       "    'attributes': {'gender': 'male', 'name': 'Dan', 'age': 34, 'state': 'ny'}},\n",
       "   {'v_id': 'Jenny',\n",
       "    'v_type': 'person',\n",
       "    'attributes': {'gender': 'female',\n",
       "     'name': 'Jenny',\n",
       "     'age': 25,\n",
       "     'state': 'tx'}}]}]"
      ]
     },
     "execution_count": 28,
     "metadata": {},
     "output_type": "execute_result"
    }
   ],
   "source": [
    "socialGraph.runInterpretedQuery('''\n",
    "  INTERPRET QUERY x() FOR GRAPH social {\n",
    "  # declaration statements\n",
    "  STRING uid = \"Tom\";\n",
    "  users = {person.*};\n",
    "  # body statements\n",
    "  posts = SELECT p\n",
    "    FROM users:u-(friendship)->:p\n",
    "    WHERE u.name == uid;\n",
    "  PRINT posts; \n",
    "}\n",
    "''')"
   ]
  },
  {
   "cell_type": "code",
   "execution_count": 29,
   "id": "909fa49d",
   "metadata": {},
   "outputs": [
    {
     "data": {
      "text/plain": [
       "[{'\"Hello World\"': 'Hello World'}]"
      ]
     },
     "execution_count": 29,
     "metadata": {},
     "output_type": "execute_result"
    }
   ],
   "source": [
    "socialGraph.runInterpretedQuery('''\n",
    "  INTERPRET QUERY () FOR GRAPH social {\n",
    "    PRINT \"Hello World\"; \n",
    "}\n",
    "''')"
   ]
  },
  {
   "cell_type": "code",
   "execution_count": 30,
   "id": "0aaf3c42-7613-4131-accc-d82e7d7c011a",
   "metadata": {},
   "outputs": [
    {
     "data": {
      "text/plain": [
       "[{'Result': [{'v_id': 'Amily',\n",
       "    'v_type': 'person',\n",
       "    'attributes': {'gender': 'female',\n",
       "     'name': 'Amily',\n",
       "     'age': 22,\n",
       "     'state': 'ca'}},\n",
       "   {'v_id': 'Tom',\n",
       "    'v_type': 'person',\n",
       "    'attributes': {'gender': 'male', 'name': 'Tom', 'age': 40, 'state': 'ca'}},\n",
       "   {'v_id': 'Kevin',\n",
       "    'v_type': 'person',\n",
       "    'attributes': {'gender': 'male',\n",
       "     'name': 'Kevin',\n",
       "     'age': 28,\n",
       "     'state': 'az'}},\n",
       "   {'v_id': 'Jack',\n",
       "    'v_type': 'person',\n",
       "    'attributes': {'gender': 'male',\n",
       "     'name': 'Jack',\n",
       "     'age': 26,\n",
       "     'state': 'fl'}},\n",
       "   {'v_id': 'Nancy',\n",
       "    'v_type': 'person',\n",
       "    'attributes': {'gender': 'female',\n",
       "     'name': 'Nancy',\n",
       "     'age': 20,\n",
       "     'state': 'ky'}},\n",
       "   {'v_id': 'Jenny',\n",
       "    'v_type': 'person',\n",
       "    'attributes': {'gender': 'female',\n",
       "     'name': 'Jenny',\n",
       "     'age': 25,\n",
       "     'state': 'tx'}},\n",
       "   {'v_id': 'Dan',\n",
       "    'v_type': 'person',\n",
       "    'attributes': {'gender': 'male',\n",
       "     'name': 'Dan',\n",
       "     'age': 34,\n",
       "     'state': 'ny'}}]}]"
      ]
     },
     "execution_count": 30,
     "metadata": {},
     "output_type": "execute_result"
    }
   ],
   "source": [
    "socialGraph.runInterpretedQuery('''\n",
    "  INTERPRET QUERY () FOR GRAPH social {\n",
    "    person1 = {person.*};\n",
    "    Result = SELECT tgt\n",
    "           FROM person1:s-(friendship:e)-person:tgt;\n",
    "    PRINT Result; \n",
    "}\n",
    "''')"
   ]
  }
 ],
 "metadata": {
  "kernelspec": {
   "display_name": "Python 3",
   "language": "python",
   "name": "python3"
  },
  "language_info": {
   "codemirror_mode": {
    "name": "ipython",
    "version": 3
   },
   "file_extension": ".py",
   "mimetype": "text/x-python",
   "name": "python",
   "nbconvert_exporter": "python",
   "pygments_lexer": "ipython3",
   "version": "3.8.8"
  }
 },
 "nbformat": 4,
 "nbformat_minor": 5
}
