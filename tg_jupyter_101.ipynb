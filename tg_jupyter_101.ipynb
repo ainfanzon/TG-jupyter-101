{
 "cells": [
  {
   "cell_type": "code",
   "execution_count": null,
   "id": "fb8802a7",
   "metadata": {},
   "outputs": [],
   "source": [
    "\n",
    "\n",
    "<img src=\"img/GraphAI.png\" alt=\"Drawing\" width=\"800\" height=\"100\"/>\n",
    "\n",
    "# GraphAI Summit - San Francisco Oct 5th, 2021\n",
    "##   TigerGraph 101\n",
    "###      Alex Infanzon & Bob Hardaway\n",
    "####        Professional Sales Engineers, Ametuer Data Scientists\n",
    "\n",
    "Intro to Recommendations with Tigergraph, Docker and Python\n",
    "\n",
    "### In the next 40 minutes, we will introduce the PyTigerGraph python package and \n",
    "### develop a simple recommendation engine running on a portable Docker container.\n"
   ]
  },
  {
   "cell_type": "markdown",
   "id": "806813ac",
   "metadata": {},
   "source": [
    "<img src=\"img/headerImg.jpeg\" alt=\"Drawing\" width=\"1000\" height=\"100\"/>\n",
    "\n",
    "# Create Your First Graph\n",
    "## Recommendations on large scale data in eight simple steps\n",
    "\n",
    "TigerGraph is a graph database software with a multitude of functionality and solutions to many of the critical challenges facing enterprises today. This notebook demonstrates how any python user (analyst to scientist) can quickly connect to a Tiger server, use simple and powerful python contructs like the dataframe and machine learning algorythms and produce high quality data models in minutes not months.\n",
    "\n",
    "Note: The pyTigerGraph packageis available via the pip package manager. It is installed simply using:\n",
    "```pip install pyTigerGraph```"
   ]
  },
  {
   "cell_type": "markdown",
   "id": "4e45fc6e",
   "metadata": {},
   "source": [
    "## STEP 1: Import Packages\n",
    "\n",
    "The solution is based on some basic and powerful packages, including pyTigerGraph, pandas (a very common data management package) and json.\n",
    "\n",
    "Note: Assuming you have installed the pyTigerGraph package. If not install it using:\n",
    "        \n",
    "```pip install pyTigerGraph```"
   ]
  },
  {
   "cell_type": "code",
   "execution_count": 17,
   "id": "042bac37-4308-42ed-9d85-64aefbc614fa",
   "metadata": {},
   "outputs": [],
   "source": [
    "import pyTigerGraph as tg\n",
    "import pandas as pd\n",
    "import json"
   ]
  },
  {
   "cell_type": "markdown",
   "id": "230d1844",
   "metadata": {},
   "source": [
    "## STEP 2: Establishing the connection to a TigerGraph database\n",
    "\n",
    "<div>\n",
    "  <img style=\"vertical-align:top\" src=\"img/connected-icon.png\" width=\"30\" height=\"30\"/>\n",
    "The functionality of pyTigerGraph is implemented by the TigerGraphConnection class. To establish the connection to the database you need to provide the hostname, username and password to access the database.\n",
    "\n",
    "Note this connection is to a Docker container running locally and exposing the default tigergraph UI port (14240)</span>\n",
    "<\\div>\n"
   ]
  },
  {
   "cell_type": "code",
   "execution_count": 2,
   "id": "290351bc-d3da-4924-a40f-f6a03fe7ccad",
   "metadata": {},
   "outputs": [],
   "source": [
    "conn = tg.TigerGraphConnection(\n",
    "    host='http://localhost',\n",
    "    username=\"tigergraph\",\n",
    "    password='tigergraph')"
   ]
  },
  {
   "cell_type": "markdown",
   "id": "2eaaa983",
   "metadata": {},
   "source": [
    "## STEP 3: Define a Graph Schema\n",
    "\n",
    "<div>\n",
    "  <img style=\"vertical-align:top\" src=\"img/graph_img.png\" width=\"30\" height=\"30\"/>\n",
    "  <span style=\"\">The first step is to define a graph schema. A graph schema is a \"dictionary\" that defines the types of entities, vertices and edges, in the graph and how those types of entities are related to one another.</span>\n",
    "</div>\n",
    "\n",
    "### First, we will drop any existing entities to keep things simple!\n",
    "\n",
    "Execute this cell if you would like to start the notebook lab from the beginning."
   ]
  },
  {
   "cell_type": "code",
   "execution_count": 3,
   "id": "4d7690b2-cdd7-49f1-ab30-fe683edbf47f",
   "metadata": {},
   "outputs": [
    {
     "name": "stdout",
     "output_type": "stream",
     "text": [
      "Dropping all, about 1 minute ...\n",
      "Abort all active loading jobs\n",
      "Try to abort all loading jobs on graph ldbc_snb, it may take a while ...\n",
      "[ABORT_SUCCESS] No active Loading Job to abort.\n",
      "Resetting GPE...\n",
      "Successfully reset GPE\n",
      "Stopping GPE GSE\n",
      "Successfully stopped GPE GSE in 7.134 seconds\n",
      "Clearing graph store...\n",
      "Successfully cleared graph store\n",
      "Starting GPE GSE RESTPP\n",
      "Successfully started GPE GSE RESTPP in 0.096 seconds\n",
      "Everything is dropped.\n"
     ]
    }
   ],
   "source": [
    "print(conn.gsql('''DROP ALL''', options=[]))"
   ]
  },
  {
   "cell_type": "markdown",
   "id": "54fd408b",
   "metadata": {},
   "source": [
    "<div>\n",
    "  <img style=\"vertical-align:top\" src=\"img/graph_img.png\" width=\"30\" height=\"30\"/>\n",
    "  <span style=\"\">The CREATE VERTEX statement defines a new global vertex type, with a name and an attribute list. The CREATE EDGE statement defines a new global edge type. There are two forms of the CREATE EDGE statement, one for directed edges and one for undirected edges.  Each edge type must specify that it connects FROM one vertex type TO another vertex type.</span>\n",
    "</div>"
   ]
  },
  {
   "cell_type": "code",
   "execution_count": 4,
   "id": "1c707f9e-bd32-4b43-9ef5-f5826f96809d",
   "metadata": {
    "scrolled": true
   },
   "outputs": [
    {
     "name": "stdout",
     "output_type": "stream",
     "text": [
      "The vertex type person is created.\n",
      "The edge type friendship is created.\n",
      "Stopping GPE GSE RESTPP\n",
      "Successfully stopped GPE GSE RESTPP in 0.543 seconds\n",
      "Starting GPE GSE RESTPP\n",
      "Successfully started GPE GSE RESTPP in 0.063 seconds\n",
      "The graph social is created.\n"
     ]
    }
   ],
   "source": [
    "print(conn.gsql('''\n",
    "CREATE VERTEX person (PRIMARY_ID name STRING, gender STRING, name STRING, age INT, state STRING)                     \n",
    "CREATE UNDIRECTED EDGE friendship (FROM person, TO person, connect_day datetime)\n",
    "CREATE GRAPH social (person, friendship)\n",
    "''', options=[]))"
   ]
  },
  {
   "cell_type": "markdown",
   "id": "0e0a1e4f",
   "metadata": {},
   "source": [
    "### Once this gsql is executed, you will see the vertex/edges created along with the graph in Studio.\n",
    "\n",
    "<img src=\"img/SocialSchema.png\" alt=\"Drawing\" width=\"800\" height=\"200\"/>\n"
   ]
  },
  {
   "cell_type": "markdown",
   "id": "ecf34de4",
   "metadata": {},
   "source": [
    "The gsql command 'ls' provides a complete listing of all existing entities, graphs and jobs"
   ]
  },
  {
   "cell_type": "code",
   "execution_count": 20,
   "id": "dced8e07",
   "metadata": {},
   "outputs": [
    {
     "name": "stdout",
     "output_type": "stream",
     "text": [
      "---- Global vertices, edges, and all graphs\n",
      "Vertex Types:\n",
      "- VERTEX person(PRIMARY_ID name STRING, gender STRING, name STRING, age INT, state STRING) WITH STATS=\"OUTDEGREE_BY_EDGETYPE\"\n",
      "Edge Types:\n",
      "- UNDIRECTED EDGE friendship(FROM person, TO person, connect_day DATETIME)\n",
      "\n",
      "Graphs:\n",
      "- Graph social(person:v, friendship:e)\n",
      "Jobs:\n",
      "\n",
      "\n",
      "JSON API version: v2\n",
      "Syntax version: v1\n",
      "\n"
     ]
    }
   ],
   "source": [
    "conn.graphname = 'social'\n",
    "print(conn.gsql('''ls''', options=[]))"
   ]
  },
  {
   "cell_type": "markdown",
   "id": "a866da8a",
   "metadata": {},
   "source": [
    "## STEP 4: Load data\n",
    "\n",
    "<div>\n",
    "  <img style=\"vertical-align:top\" src=\"img/load_data.png\" width=\"30\" height=\"30\"/>\n",
    "  \n",
    "  <span style=\"\">In Pandas, the dataframe is a fundemental construct for managing and working with table data. We can load data from local file very easily. \n",
    "</span>\n",
    "</div>"
   ]
  },
  {
   "cell_type": "code",
   "execution_count": 32,
   "id": "4398f0ce-3dea-49ff-8a0d-a4af275aaa27",
   "metadata": {},
   "outputs": [
    {
     "data": {
      "text/html": [
       "<div>\n",
       "<style scoped>\n",
       "    .dataframe tbody tr th:only-of-type {\n",
       "        vertical-align: middle;\n",
       "    }\n",
       "\n",
       "    .dataframe tbody tr th {\n",
       "        vertical-align: top;\n",
       "    }\n",
       "\n",
       "    .dataframe thead th {\n",
       "        text-align: right;\n",
       "    }\n",
       "</style>\n",
       "<table border=\"1\" class=\"dataframe\">\n",
       "  <thead>\n",
       "    <tr style=\"text-align: right;\">\n",
       "      <th></th>\n",
       "      <th>id</th>\n",
       "      <th>name</th>\n",
       "      <th>gender</th>\n",
       "      <th>age</th>\n",
       "      <th>state</th>\n",
       "    </tr>\n",
       "  </thead>\n",
       "  <tbody>\n",
       "    <tr>\n",
       "      <th>0</th>\n",
       "      <td>1</td>\n",
       "      <td>Tom</td>\n",
       "      <td>male</td>\n",
       "      <td>40</td>\n",
       "      <td>english</td>\n",
       "    </tr>\n",
       "    <tr>\n",
       "      <th>1</th>\n",
       "      <td>2</td>\n",
       "      <td>Dan</td>\n",
       "      <td>male</td>\n",
       "      <td>34</td>\n",
       "      <td>russian</td>\n",
       "    </tr>\n",
       "    <tr>\n",
       "      <th>2</th>\n",
       "      <td>3</td>\n",
       "      <td>Jenny</td>\n",
       "      <td>female</td>\n",
       "      <td>25</td>\n",
       "      <td>english</td>\n",
       "    </tr>\n",
       "    <tr>\n",
       "      <th>3</th>\n",
       "      <td>4</td>\n",
       "      <td>Kevin</td>\n",
       "      <td>male</td>\n",
       "      <td>28</td>\n",
       "      <td>dutch</td>\n",
       "    </tr>\n",
       "    <tr>\n",
       "      <th>4</th>\n",
       "      <td>5</td>\n",
       "      <td>Emily</td>\n",
       "      <td>female</td>\n",
       "      <td>22</td>\n",
       "      <td>spanish</td>\n",
       "    </tr>\n",
       "    <tr>\n",
       "      <th>5</th>\n",
       "      <td>6</td>\n",
       "      <td>Nancy</td>\n",
       "      <td>female</td>\n",
       "      <td>20</td>\n",
       "      <td>spanish</td>\n",
       "    </tr>\n",
       "    <tr>\n",
       "      <th>6</th>\n",
       "      <td>7</td>\n",
       "      <td>Jack</td>\n",
       "      <td>male</td>\n",
       "      <td>26</td>\n",
       "      <td>english</td>\n",
       "    </tr>\n",
       "    <tr>\n",
       "      <th>7</th>\n",
       "      <td>8</td>\n",
       "      <td>Bob</td>\n",
       "      <td>male</td>\n",
       "      <td>52</td>\n",
       "      <td>english</td>\n",
       "    </tr>\n",
       "    <tr>\n",
       "      <th>8</th>\n",
       "      <td>9</td>\n",
       "      <td>Alex</td>\n",
       "      <td>male</td>\n",
       "      <td>52</td>\n",
       "      <td>spanish</td>\n",
       "    </tr>\n",
       "    <tr>\n",
       "      <th>9</th>\n",
       "      <td>10</td>\n",
       "      <td>Margie</td>\n",
       "      <td>female</td>\n",
       "      <td>53</td>\n",
       "      <td>english</td>\n",
       "    </tr>\n",
       "    <tr>\n",
       "      <th>10</th>\n",
       "      <td>11</td>\n",
       "      <td>Lacy</td>\n",
       "      <td>female</td>\n",
       "      <td>28</td>\n",
       "      <td>spanish</td>\n",
       "    </tr>\n",
       "  </tbody>\n",
       "</table>\n",
       "</div>"
      ],
      "text/plain": [
       "    id    name  gender  age    state\n",
       "0    1     Tom    male   40  english\n",
       "1    2     Dan    male   34  russian\n",
       "2    3   Jenny  female   25  english\n",
       "3    4   Kevin    male   28    dutch\n",
       "4    5   Emily  female   22  spanish\n",
       "5    6   Nancy  female   20  spanish\n",
       "6    7    Jack    male   26  english\n",
       "7    8     Bob    male   52  english\n",
       "8    9    Alex    male   52  spanish\n",
       "9   10  Margie  female   53  english\n",
       "10  11    Lacy  female   28  spanish"
      ]
     },
     "execution_count": 32,
     "metadata": {},
     "output_type": "execute_result"
    }
   ],
   "source": [
    "persons = pd.read_csv('data/people.csv')\n",
    "persons"
   ]
  },
  {
   "cell_type": "code",
   "execution_count": 7,
   "id": "c2c800d5-6e43-48f5-80d9-b2479b2c1193",
   "metadata": {},
   "outputs": [
    {
     "data": {
      "text/html": [
       "<div>\n",
       "<style scoped>\n",
       "    .dataframe tbody tr th:only-of-type {\n",
       "        vertical-align: middle;\n",
       "    }\n",
       "\n",
       "    .dataframe tbody tr th {\n",
       "        vertical-align: top;\n",
       "    }\n",
       "\n",
       "    .dataframe thead th {\n",
       "        text-align: right;\n",
       "    }\n",
       "</style>\n",
       "<table border=\"1\" class=\"dataframe\">\n",
       "  <thead>\n",
       "    <tr style=\"text-align: right;\">\n",
       "      <th></th>\n",
       "      <th>person1</th>\n",
       "      <th>person2</th>\n",
       "      <th>date</th>\n",
       "    </tr>\n",
       "  </thead>\n",
       "  <tbody>\n",
       "    <tr>\n",
       "      <th>0</th>\n",
       "      <td>Tom</td>\n",
       "      <td>Dan</td>\n",
       "      <td>2017-06-03</td>\n",
       "    </tr>\n",
       "    <tr>\n",
       "      <th>1</th>\n",
       "      <td>Tom</td>\n",
       "      <td>Jenny</td>\n",
       "      <td>2015-01-01</td>\n",
       "    </tr>\n",
       "    <tr>\n",
       "      <th>2</th>\n",
       "      <td>Dan</td>\n",
       "      <td>Jenny</td>\n",
       "      <td>2016-08-03</td>\n",
       "    </tr>\n",
       "    <tr>\n",
       "      <th>3</th>\n",
       "      <td>Jenny</td>\n",
       "      <td>Amily</td>\n",
       "      <td>2015-06-08</td>\n",
       "    </tr>\n",
       "    <tr>\n",
       "      <th>4</th>\n",
       "      <td>Dan</td>\n",
       "      <td>Nancy</td>\n",
       "      <td>2016-01-03</td>\n",
       "    </tr>\n",
       "    <tr>\n",
       "      <th>5</th>\n",
       "      <td>Nancy</td>\n",
       "      <td>Jack</td>\n",
       "      <td>2017-03-02</td>\n",
       "    </tr>\n",
       "    <tr>\n",
       "      <th>6</th>\n",
       "      <td>Dan</td>\n",
       "      <td>Kevin</td>\n",
       "      <td>2015-12-30</td>\n",
       "    </tr>\n",
       "    <tr>\n",
       "      <th>7</th>\n",
       "      <td>Bob</td>\n",
       "      <td>Margie</td>\n",
       "      <td>1998-10-22</td>\n",
       "    </tr>\n",
       "    <tr>\n",
       "      <th>8</th>\n",
       "      <td>Lacy</td>\n",
       "      <td>Bob</td>\n",
       "      <td>2004-01-21</td>\n",
       "    </tr>\n",
       "    <tr>\n",
       "      <th>9</th>\n",
       "      <td>Margie</td>\n",
       "      <td>Lacy</td>\n",
       "      <td>1992-12-02</td>\n",
       "    </tr>\n",
       "  </tbody>\n",
       "</table>\n",
       "</div>"
      ],
      "text/plain": [
       "  person1 person2        date\n",
       "0     Tom     Dan  2017-06-03\n",
       "1     Tom   Jenny  2015-01-01\n",
       "2     Dan   Jenny  2016-08-03\n",
       "3   Jenny   Amily  2015-06-08\n",
       "4     Dan   Nancy  2016-01-03\n",
       "5   Nancy    Jack  2017-03-02\n",
       "6     Dan   Kevin  2015-12-30\n",
       "7     Bob  Margie  1998-10-22\n",
       "8    Lacy     Bob  2004-01-21\n",
       "9  Margie    Lacy  1992-12-02"
      ]
     },
     "execution_count": 7,
     "metadata": {},
     "output_type": "execute_result"
    }
   ],
   "source": [
    "friendships = pd.read_csv('./data/friendships.csv')\n",
    "friendships"
   ]
  },
  {
   "cell_type": "markdown",
   "id": "32043f9d",
   "metadata": {},
   "source": [
    "## STEP 5 - Map DataFrame to Vertex and Edge types\n",
    "\n",
    "Next, we map the data frames to create and populate Tigergraph Vertexes and Edges. The pyTigerGraph packages makes this very easy."
   ]
  },
  {
   "cell_type": "code",
   "execution_count": 33,
   "id": "72d095e8-81fb-4089-ad5e-2e8f7d9eb818",
   "metadata": {},
   "outputs": [
    {
     "name": "stdout",
     "output_type": "stream",
     "text": [
      "11 Customer VERTICES Upserted\n"
     ]
    }
   ],
   "source": [
    "v_person = conn.upsertVertexDataFrame(\n",
    "      persons, \"person\", \"name\"\n",
    "    , attributes={\"name\": \"name\", \"gender\": \"gender\", \"age\": \"age\", \"state\": \"state\"})\n",
    "print(str(v_person) + \" Customer VERTICES Upserted\")"
   ]
  },
  {
   "cell_type": "code",
   "execution_count": 34,
   "id": "b9995672-8161-4c1e-b2e0-fac03da3e625",
   "metadata": {},
   "outputs": [
    {
     "name": "stdout",
     "output_type": "stream",
     "text": [
      "There are currently 12 in of vertex type person, prior to map\n"
     ]
    }
   ],
   "source": [
    "numPersons = conn.getVertexCount(\"person\")\n",
    "print(f\"There are currently {numPersons} in of vertex type person, prior to map\")"
   ]
  },
  {
   "cell_type": "code",
   "execution_count": 35,
   "id": "5c737063-c9b9-4dd1-aa4b-da54aa67f6d2",
   "metadata": {},
   "outputs": [
    {
     "name": "stdout",
     "output_type": "stream",
     "text": [
      "10 Friendships Edges Upserted\n"
     ]
    }
   ],
   "source": [
    "v_friendships = conn.upsertEdgeDataFrame(friendships,\"person\", \"friendship\", \"person\", from_id=\"person1\", to_id=\"person2\", attributes={\"connect_day\":\"date\"})\n",
    "print(str(v_friendships) + \" Friendships Edges Upserted\")"
   ]
  },
  {
   "cell_type": "markdown",
   "id": "fd155c39",
   "metadata": {},
   "source": [
    "## STEP 6: Explore Graph\n",
    "\n",
    "<div>\n",
    "  <img style=\"vertical-align:top\" src=\"img/inquiry.jpeg\" width=\"28\" height=\"28\"/>\n",
    "  <span style=\"\">With the basics of the graph created, we now begin to explore using the pyTigerGraph package and GSQL. First we can lookup and get some stats on the Person vertex and friendships edge\n",
    "</span>\n",
    "</div>"
   ]
  },
  {
   "cell_type": "code",
   "execution_count": 28,
   "id": "6704ba85",
   "metadata": {},
   "outputs": [
    {
     "data": {
      "text/plain": [
       "['person']"
      ]
     },
     "execution_count": 28,
     "metadata": {},
     "output_type": "execute_result"
    }
   ],
   "source": [
    "conn.getVertexTypes()"
   ]
  },
  {
   "cell_type": "code",
   "execution_count": 27,
   "id": "45a0767b-90c9-4e08-9418-57077531772f",
   "metadata": {},
   "outputs": [
    {
     "data": {
      "text/plain": [
       "{'person': {'age': {'MAX': 53, 'MIN': 20, 'AVG': 34.54545}}}"
      ]
     },
     "execution_count": 27,
     "metadata": {},
     "output_type": "execute_result"
    }
   ],
   "source": [
    "conn.getVertexStats('person')"
   ]
  },
  {
   "cell_type": "code",
   "execution_count": 29,
   "id": "695c011a",
   "metadata": {},
   "outputs": [
    {
     "data": {
      "text/plain": [
       "['friendship']"
      ]
     },
     "execution_count": 29,
     "metadata": {},
     "output_type": "execute_result"
    }
   ],
   "source": [
    "conn.getEdgeTypes()"
   ]
  },
  {
   "cell_type": "code",
   "execution_count": 30,
   "id": "a9171356-be34-459c-9326-1ece9baf4b91",
   "metadata": {},
   "outputs": [
    {
     "data": {
      "text/plain": [
       "{'friendship': {'connect_day': {'MAX': 1496448000,\n",
       "   'MIN': 723254400,\n",
       "   'AVG': 1291896000}}}"
      ]
     },
     "execution_count": 30,
     "metadata": {},
     "output_type": "execute_result"
    }
   ],
   "source": [
    "conn.getEdgeStats('friendship', skipNA=False)"
   ]
  },
  {
   "cell_type": "markdown",
   "id": "c5f7e19e",
   "metadata": {},
   "source": [
    "### Next a simple call to find friendships for the person Jenny. We can see Jenny has 3 friends, Emily, Tom and Dan."
   ]
  },
  {
   "cell_type": "code",
   "execution_count": 36,
   "id": "dde1b189-5557-4f40-b1b2-ff176b116860",
   "metadata": {},
   "outputs": [
    {
     "data": {
      "text/plain": [
       "[{'e_type': 'friendship',\n",
       "  'directed': False,\n",
       "  'from_id': 'Jenny',\n",
       "  'from_type': 'person',\n",
       "  'to_id': 'Amily',\n",
       "  'to_type': 'person',\n",
       "  'attributes': {'connect_day': '2015-06-08 00:00:00'}},\n",
       " {'e_type': 'friendship',\n",
       "  'directed': False,\n",
       "  'from_id': 'Jenny',\n",
       "  'from_type': 'person',\n",
       "  'to_id': 'Tom',\n",
       "  'to_type': 'person',\n",
       "  'attributes': {'connect_day': '2015-01-01 00:00:00'}},\n",
       " {'e_type': 'friendship',\n",
       "  'directed': False,\n",
       "  'from_id': 'Jenny',\n",
       "  'from_type': 'person',\n",
       "  'to_id': 'Dan',\n",
       "  'to_type': 'person',\n",
       "  'attributes': {'connect_day': '2016-08-03 00:00:00'}}]"
      ]
     },
     "execution_count": 36,
     "metadata": {},
     "output_type": "execute_result"
    }
   ],
   "source": [
    "conn.getEdges('person', 'Jenny'\n",
    "              , edgeType='friendship'\n",
    "              , targetVertexType='person'\n",
    "              , targetVertexId=None, select=\"connect_day\", where=\"\", limit=\"\", sort=\"\", timeout=0)"
   ]
  },
  {
   "cell_type": "markdown",
   "id": "73d533d4",
   "metadata": {},
   "source": [
    "### This network for friends of Jenny looks like this in Studio\n",
    "\n",
    "<br>\n",
    "<div>\n",
    "  <img style=\"vertical-align:top\" src=\"img/JennyVertex.png\" width=\"400\" height=\"400\"/>\n",
    "</div>"
   ]
  },
  {
   "cell_type": "markdown",
   "id": "8a1d6238",
   "metadata": {},
   "source": [
    "### We can also directly add results into a Pandas data frame, such as created a frame containing Dan's friends"
   ]
  },
  {
   "cell_type": "code",
   "execution_count": 37,
   "id": "cc7492b5-3633-4c38-addd-7c17738a9478",
   "metadata": {},
   "outputs": [
    {
     "data": {
      "text/html": [
       "<div>\n",
       "<style scoped>\n",
       "    .dataframe tbody tr th:only-of-type {\n",
       "        vertical-align: middle;\n",
       "    }\n",
       "\n",
       "    .dataframe tbody tr th {\n",
       "        vertical-align: top;\n",
       "    }\n",
       "\n",
       "    .dataframe thead th {\n",
       "        text-align: right;\n",
       "    }\n",
       "</style>\n",
       "<table border=\"1\" class=\"dataframe\">\n",
       "  <thead>\n",
       "    <tr style=\"text-align: right;\">\n",
       "      <th></th>\n",
       "      <th>from_type</th>\n",
       "      <th>from_id</th>\n",
       "      <th>to_type</th>\n",
       "      <th>to_id</th>\n",
       "      <th>connect_day</th>\n",
       "    </tr>\n",
       "  </thead>\n",
       "  <tbody>\n",
       "    <tr>\n",
       "      <th>0</th>\n",
       "      <td>person</td>\n",
       "      <td>Dan</td>\n",
       "      <td>person</td>\n",
       "      <td>Tom</td>\n",
       "      <td>2017-06-03 00:00:00</td>\n",
       "    </tr>\n",
       "    <tr>\n",
       "      <th>1</th>\n",
       "      <td>person</td>\n",
       "      <td>Dan</td>\n",
       "      <td>person</td>\n",
       "      <td>Kevin</td>\n",
       "      <td>2015-12-30 00:00:00</td>\n",
       "    </tr>\n",
       "    <tr>\n",
       "      <th>2</th>\n",
       "      <td>person</td>\n",
       "      <td>Dan</td>\n",
       "      <td>person</td>\n",
       "      <td>Jenny</td>\n",
       "      <td>2016-08-03 00:00:00</td>\n",
       "    </tr>\n",
       "    <tr>\n",
       "      <th>3</th>\n",
       "      <td>person</td>\n",
       "      <td>Dan</td>\n",
       "      <td>person</td>\n",
       "      <td>Nancy</td>\n",
       "      <td>2016-01-03 00:00:00</td>\n",
       "    </tr>\n",
       "  </tbody>\n",
       "</table>\n",
       "</div>"
      ],
      "text/plain": [
       "  from_type from_id to_type  to_id          connect_day\n",
       "0    person     Dan  person    Tom  2017-06-03 00:00:00\n",
       "1    person     Dan  person  Kevin  2015-12-30 00:00:00\n",
       "2    person     Dan  person  Jenny  2016-08-03 00:00:00\n",
       "3    person     Dan  person  Nancy  2016-01-03 00:00:00"
      ]
     },
     "execution_count": 37,
     "metadata": {},
     "output_type": "execute_result"
    }
   ],
   "source": [
    "#getEdgesDataframe(sourceVertexType, sourceVerticies, edgeType=None, targetVertexType=None, targetVertexId=None, select=\"\", where=\"\", limit=\"\", sort=\"\", timeout=0)\n",
    "\n",
    "df=conn.getEdgesDataframe(\"person\", \"Dan\")\n",
    "df"
   ]
  },
  {
   "cell_type": "markdown",
   "id": "8be26f9b",
   "metadata": {},
   "source": [
    "## STEP 7: Execute GSQL Queires\n",
    "\n",
    "<div>\n",
    "  <img style=\"vertical-align:top\" src=\"img/inquiry.jpeg\" width=\"28\" height=\"28\"/>\n",
    "  <span style=\"\">Use the gsql api to write some basic queries. \n",
    "</span>\n",
    "</div>\n",
    "\n",
    "### For example, select vertex attributes for 3 people"
   ]
  },
  {
   "cell_type": "code",
   "execution_count": 50,
   "id": "c9ab9f28",
   "metadata": {},
   "outputs": [
    {
     "data": {
      "text/plain": [
       "'Using graph \\'social\\'\\n[\\n{\\n\"v_id\": \"Nancy\",\\n\"attributes\": {\\n\"gender\": \"female\",\\n\"name\": \"Nancy\",\\n\"state\": \"spanish\",\\n\"age\": 20\\n},\\n\"v_type\": \"person\"\\n},\\n{\\n\"v_id\": \"Emily\",\\n\"attributes\": {\\n\"gender\": \"female\",\\n\"name\": \"Emily\",\\n\"state\": \"spanish\",\\n\"age\": 22\\n},\\n\"v_type\": \"person\"\\n},\\n{\\n\"v_id\": \"Jenny\",\\n\"attributes\": {\\n\"gender\": \"female\",\\n\"name\": \"Jenny\",\\n\"state\": \"english\",\\n\"age\": 25\\n},\\n\"v_type\": \"person\"\\n}\\n]'"
      ]
     },
     "execution_count": 50,
     "metadata": {},
     "output_type": "execute_result"
    }
   ],
   "source": [
    "resultSet1 = conn.gsql('''use graph social \n",
    "   SELECT * FROM person LIMIT 3''')\n",
    "resultSet1"
   ]
  },
  {
   "cell_type": "markdown",
   "id": "badbb1df",
   "metadata": {},
   "source": [
    "### And use the JSON package to prettify/format the result"
   ]
  },
  {
   "cell_type": "code",
   "execution_count": 51,
   "id": "d2811e29",
   "metadata": {},
   "outputs": [
    {
     "data": {
      "text/plain": [
       "[{'v_id': 'Nancy',\n",
       "  'attributes': {'gender': 'female',\n",
       "   'name': 'Nancy',\n",
       "   'state': 'spanish',\n",
       "   'age': 20},\n",
       "  'v_type': 'person'},\n",
       " {'v_id': 'Dave',\n",
       "  'attributes': {'gender': 'male', 'name': 'Dave', 'state': 'wa', 'age': 54},\n",
       "  'v_type': 'person'},\n",
       " {'v_id': 'Jenny',\n",
       "  'attributes': {'gender': 'female',\n",
       "   'name': 'Jenny',\n",
       "   'state': 'english',\n",
       "   'age': 25},\n",
       "  'v_type': 'person'}]"
      ]
     },
     "execution_count": 51,
     "metadata": {},
     "output_type": "execute_result"
    }
   ],
   "source": [
    "import json\n",
    "rsj = '[\\n{\\n\"v_id\": \"Nancy\",\\n\"attributes\": {\\n\"gender\": \"female\",\\n\"name\": \"Nancy\",\\n\"state\": \"spanish\",\\n\"age\": 20\\n},\\n\"v_type\": \"person\"\\n},\\n{\\n\"v_id\": \"Dave\",\\n\"attributes\": {\\n\"gender\": \"male\",\\n\"name\": \"Dave\",\\n\"state\": \"wa\",\\n\"age\": 54\\n},\\n\"v_type\": \"person\"\\n},\\n{\\n\"v_id\": \"Jenny\",\\n\"attributes\": {\\n\"gender\": \"female\",\\n\"name\": \"Jenny\",\\n\"state\": \"english\",\\n\"age\": 25\\n},\\n\"v_type\": \"person\"\\n}\\n]'\n",
    "\n",
    "import re\n",
    "rsj2 = re.split('\\[]', rsj)\n",
    "json.loads(rsj2[0])\n"
   ]
  },
  {
   "cell_type": "code",
   "execution_count": 52,
   "id": "3df4292d",
   "metadata": {},
   "outputs": [
    {
     "data": {
      "text/plain": [
       "'Using graph \\'social\\'\\n{\\n\"error\": false,\\n\"message\": \"\",\\n\"version\": {\\n\"schema\": 0,\\n\"edition\": \"enterprise\",\\n\"api\": \"v2\"\\n},\\n\"results\": [{\"friends\": [\\n{\\n\"v_id\": \"Lacy\",\\n\"attributes\": {\\n\"friends.name\": \"Lacy\",\\n\"friends.gender\": \"female\",\\n\"friends.age\": 28\\n},\\n\"v_type\": \"person\"\\n},\\n{\\n\"v_id\": \"Margie\",\\n\"attributes\": {\\n\"friends.name\": \"Margie\",\\n\"friends.gender\": \"female\",\\n\"friends.age\": 53\\n},\\n\"v_type\": \"person\"\\n}\\n]}]\\n}'"
      ]
     },
     "execution_count": 52,
     "metadata": {},
     "output_type": "execute_result"
    }
   ],
   "source": [
    "results = conn.gsql('''USE GRAPH social\n",
    "\n",
    "INTERPRET QUERY () SYNTAX v2 {\n",
    "   #1-hop pattern.\n",
    "   friends = SELECT p\n",
    "             FROM person:s -(friendship:f)- person:p\n",
    "             WHERE s.name == \"Bob\"\n",
    "             ORDER BY p.age ASC\n",
    "             LIMIT 3;\n",
    "\n",
    "    PRINT  friends[friends.name, friends.gender, friends.age];\n",
    "}''')\n",
    "\n",
    "results\n"
   ]
  },
  {
   "cell_type": "code",
   "execution_count": 42,
   "id": "dfa197fb-daad-4cab-a59b-76635cb98131",
   "metadata": {},
   "outputs": [
    {
     "ename": "ExceptionCodeRet",
     "evalue": "211",
     "output_type": "error",
     "traceback": [
      "\u001b[0;31m---------------------------------------------------------------------------\u001b[0m",
      "\u001b[0;31mExceptionCodeRet\u001b[0m                          Traceback (most recent call last)",
      "\u001b[0;32m<ipython-input-42-081d6fd3a11a>\u001b[0m in \u001b[0;36m<module>\u001b[0;34m\u001b[0m\n\u001b[0;32m----> 1\u001b[0;31m results = conn.gsql('''use graph social\n\u001b[0m\u001b[1;32m      2\u001b[0m      SELECT * from person:p-(friendship:f)-person:t LIMIT 5''')\n\u001b[1;32m      3\u001b[0m \u001b[0mresults\u001b[0m\u001b[0;34m\u001b[0m\u001b[0;34m\u001b[0m\u001b[0m\n",
      "\u001b[0;32m~/opt/anaconda3/lib/python3.8/site-packages/pyTigerGraph/pyTigerGraph.py\u001b[0m in \u001b[0;36mgsql\u001b[0;34m(self, query, options)\u001b[0m\n\u001b[1;32m   1708\u001b[0m                     \u001b[0;32mreturn\u001b[0m \u001b[0mres\u001b[0m\u001b[0;34m\u001b[0m\u001b[0;34m\u001b[0m\u001b[0m\n\u001b[1;32m   1709\u001b[0m             \u001b[0;32melse\u001b[0m\u001b[0;34m:\u001b[0m\u001b[0;34m\u001b[0m\u001b[0;34m\u001b[0m\u001b[0m\n\u001b[0;32m-> 1710\u001b[0;31m                 \u001b[0mres\u001b[0m \u001b[0;34m=\u001b[0m \u001b[0mself\u001b[0m\u001b[0;34m.\u001b[0m\u001b[0mClient\u001b[0m\u001b[0;34m.\u001b[0m\u001b[0mrun_multiple\u001b[0m\u001b[0;34m(\u001b[0m\u001b[0mquery\u001b[0m\u001b[0;34m.\u001b[0m\u001b[0msplit\u001b[0m\u001b[0;34m(\u001b[0m\u001b[0;34m\"\\n\"\u001b[0m\u001b[0;34m)\u001b[0m\u001b[0;34m)\u001b[0m\u001b[0;34m\u001b[0m\u001b[0;34m\u001b[0m\u001b[0m\n\u001b[0m\u001b[1;32m   1711\u001b[0m                 \u001b[0;32mif\u001b[0m \u001b[0mtype\u001b[0m\u001b[0;34m(\u001b[0m\u001b[0mres\u001b[0m\u001b[0;34m)\u001b[0m \u001b[0;34m==\u001b[0m \u001b[0mtype\u001b[0m\u001b[0;34m(\u001b[0m\u001b[0;34m[\u001b[0m\u001b[0;34m]\u001b[0m\u001b[0;34m)\u001b[0m\u001b[0;34m:\u001b[0m\u001b[0;34m\u001b[0m\u001b[0;34m\u001b[0m\u001b[0m\n\u001b[1;32m   1712\u001b[0m                     \u001b[0;32mreturn\u001b[0m \u001b[0;34m\"\\n\"\u001b[0m\u001b[0;34m.\u001b[0m\u001b[0mjoin\u001b[0m\u001b[0;34m(\u001b[0m\u001b[0mres\u001b[0m\u001b[0;34m)\u001b[0m\u001b[0;34m\u001b[0m\u001b[0;34m\u001b[0m\u001b[0m\n",
      "\u001b[0;32m~/opt/anaconda3/lib/python3.8/site-packages/pyTigerDriver/pyDriver.py\u001b[0m in \u001b[0;36mrun_multiple\u001b[0;34m(self, lines)\u001b[0m\n\u001b[1;32m    430\u001b[0m \u001b[0;34m\u001b[0m\u001b[0m\n\u001b[1;32m    431\u001b[0m     \u001b[0;32mdef\u001b[0m \u001b[0mrun_multiple\u001b[0m\u001b[0;34m(\u001b[0m\u001b[0mself\u001b[0m\u001b[0;34m,\u001b[0m \u001b[0mlines\u001b[0m\u001b[0;34m)\u001b[0m\u001b[0;34m:\u001b[0m\u001b[0;34m\u001b[0m\u001b[0;34m\u001b[0m\u001b[0m\n\u001b[0;32m--> 432\u001b[0;31m         \u001b[0;32mreturn\u001b[0m \u001b[0mself\u001b[0m\u001b[0;34m.\u001b[0m\u001b[0m_command_interactive\u001b[0m\u001b[0;34m(\u001b[0m\u001b[0mself\u001b[0m\u001b[0;34m.\u001b[0m\u001b[0mfile_url\u001b[0m\u001b[0;34m,\u001b[0m \u001b[0;34m\"\\n\"\u001b[0m\u001b[0;34m.\u001b[0m\u001b[0mjoin\u001b[0m\u001b[0;34m(\u001b[0m\u001b[0mlines\u001b[0m\u001b[0;34m)\u001b[0m\u001b[0;34m)\u001b[0m\u001b[0;34m\u001b[0m\u001b[0;34m\u001b[0m\u001b[0m\n\u001b[0m\u001b[1;32m    433\u001b[0m \u001b[0;34m\u001b[0m\u001b[0m\n\u001b[1;32m    434\u001b[0m     \u001b[0;32mdef\u001b[0m \u001b[0mversion\u001b[0m\u001b[0;34m(\u001b[0m\u001b[0mself\u001b[0m\u001b[0;34m)\u001b[0m\u001b[0;34m:\u001b[0m\u001b[0;34m\u001b[0m\u001b[0;34m\u001b[0m\u001b[0m\n",
      "\u001b[0;32m~/opt/anaconda3/lib/python3.8/site-packages/pyTigerDriver/pyDriver.py\u001b[0m in \u001b[0;36m_command_interactive\u001b[0;34m(self, url, content, ans, out)\u001b[0m\n\u001b[1;32m    354\u001b[0m             \u001b[0;32mreturn\u001b[0m \u001b[0mres\u001b[0m\u001b[0;34m\u001b[0m\u001b[0;34m\u001b[0m\u001b[0m\n\u001b[1;32m    355\u001b[0m \u001b[0;34m\u001b[0m\u001b[0m\n\u001b[0;32m--> 356\u001b[0;31m         \u001b[0;32mreturn\u001b[0m \u001b[0mself\u001b[0m\u001b[0;34m.\u001b[0m\u001b[0m_request\u001b[0m\u001b[0;34m(\u001b[0m\u001b[0murl\u001b[0m\u001b[0;34m,\u001b[0m \u001b[0mcontent\u001b[0m\u001b[0;34m,\u001b[0m \u001b[0m__handle__interactive\u001b[0m\u001b[0;34m)\u001b[0m\u001b[0;34m\u001b[0m\u001b[0;34m\u001b[0m\u001b[0m\n\u001b[0m\u001b[1;32m    357\u001b[0m \u001b[0;34m\u001b[0m\u001b[0m\n\u001b[1;32m    358\u001b[0m     \u001b[0;32mdef\u001b[0m \u001b[0mlogin\u001b[0m\u001b[0;34m(\u001b[0m\u001b[0mself\u001b[0m\u001b[0;34m,\u001b[0m \u001b[0mcommit_try\u001b[0m\u001b[0;34m=\u001b[0m\u001b[0;34m\"\"\u001b[0m\u001b[0;34m,\u001b[0m \u001b[0mversion_try\u001b[0m\u001b[0;34m=\u001b[0m\u001b[0;34m\"\"\u001b[0m\u001b[0;34m)\u001b[0m\u001b[0;34m:\u001b[0m\u001b[0;34m\u001b[0m\u001b[0;34m\u001b[0m\u001b[0m\n",
      "\u001b[0;32m~/opt/anaconda3/lib/python3.8/site-packages/pyTigerDriver/pyDriver.py\u001b[0m in \u001b[0;36m_request\u001b[0;34m(self, url, content, handler, cookie, auth)\u001b[0m\n\u001b[1;32m    308\u001b[0m             \u001b[0;32mif\u001b[0m \u001b[0mhandler\u001b[0m\u001b[0;34m:\u001b[0m\u001b[0;34m\u001b[0m\u001b[0;34m\u001b[0m\u001b[0m\n\u001b[1;32m    309\u001b[0m                 \u001b[0mreader\u001b[0m \u001b[0;34m=\u001b[0m \u001b[0mcodecs\u001b[0m\u001b[0;34m.\u001b[0m\u001b[0mgetreader\u001b[0m\u001b[0;34m(\u001b[0m\u001b[0;34m\"utf-8\"\u001b[0m\u001b[0;34m)\u001b[0m\u001b[0;34m(\u001b[0m\u001b[0mresponse\u001b[0m\u001b[0;34m)\u001b[0m\u001b[0;34m\u001b[0m\u001b[0;34m\u001b[0m\u001b[0m\n\u001b[0;32m--> 310\u001b[0;31m                 \u001b[0;32mreturn\u001b[0m \u001b[0mhandler\u001b[0m\u001b[0;34m(\u001b[0m\u001b[0mreader\u001b[0m\u001b[0;34m)\u001b[0m\u001b[0;34m\u001b[0m\u001b[0;34m\u001b[0m\u001b[0m\n\u001b[0m\u001b[1;32m    311\u001b[0m             \u001b[0;32melse\u001b[0m\u001b[0;34m:\u001b[0m\u001b[0;34m\u001b[0m\u001b[0;34m\u001b[0m\u001b[0m\n\u001b[1;32m    312\u001b[0m                 \u001b[0;32mreturn\u001b[0m \u001b[0mresponse\u001b[0m\u001b[0;34m.\u001b[0m\u001b[0mread\u001b[0m\u001b[0;34m(\u001b[0m\u001b[0;34m)\u001b[0m\u001b[0;34m.\u001b[0m\u001b[0mdecode\u001b[0m\u001b[0;34m(\u001b[0m\u001b[0;34m\"utf-8\"\u001b[0m\u001b[0;34m)\u001b[0m\u001b[0;34m\u001b[0m\u001b[0;34m\u001b[0m\u001b[0m\n",
      "\u001b[0;32m~/opt/anaconda3/lib/python3.8/site-packages/pyTigerDriver/pyDriver.py\u001b[0m in \u001b[0;36m__handle__interactive\u001b[0;34m(reader)\u001b[0m\n\u001b[1;32m    330\u001b[0m                     \u001b[0mret\u001b[0m \u001b[0;34m=\u001b[0m \u001b[0mint\u001b[0m\u001b[0;34m(\u001b[0m\u001b[0mret\u001b[0m\u001b[0;34m)\u001b[0m\u001b[0;34m\u001b[0m\u001b[0;34m\u001b[0m\u001b[0m\n\u001b[1;32m    331\u001b[0m                     \u001b[0;32mif\u001b[0m \u001b[0mret\u001b[0m \u001b[0;34m!=\u001b[0m \u001b[0;36m0\u001b[0m\u001b[0;34m:\u001b[0m\u001b[0;34m\u001b[0m\u001b[0;34m\u001b[0m\u001b[0m\n\u001b[0;32m--> 332\u001b[0;31m                         \u001b[0;32mraise\u001b[0m \u001b[0mExceptionCodeRet\u001b[0m\u001b[0;34m(\u001b[0m\u001b[0mret\u001b[0m\u001b[0;34m)\u001b[0m\u001b[0;34m\u001b[0m\u001b[0;34m\u001b[0m\u001b[0m\n\u001b[0m\u001b[1;32m    333\u001b[0m                 \u001b[0;32melif\u001b[0m \u001b[0mline\u001b[0m\u001b[0;34m.\u001b[0m\u001b[0mstartswith\u001b[0m\u001b[0;34m(\u001b[0m\u001b[0mPREFIX_INTERACT\u001b[0m\u001b[0;34m)\u001b[0m\u001b[0;34m:\u001b[0m\u001b[0;34m\u001b[0m\u001b[0;34m\u001b[0m\u001b[0m\n\u001b[1;32m    334\u001b[0m                     \u001b[0m_\u001b[0m\u001b[0;34m,\u001b[0m \u001b[0mit\u001b[0m\u001b[0;34m,\u001b[0m \u001b[0mik\u001b[0m \u001b[0;34m=\u001b[0m \u001b[0mline\u001b[0m\u001b[0;34m.\u001b[0m\u001b[0msplit\u001b[0m\u001b[0;34m(\u001b[0m\u001b[0;34m\",\"\u001b[0m\u001b[0;34m,\u001b[0m \u001b[0;36m2\u001b[0m\u001b[0;34m)\u001b[0m\u001b[0;34m\u001b[0m\u001b[0;34m\u001b[0m\u001b[0m\n",
      "\u001b[0;31mExceptionCodeRet\u001b[0m: 211"
     ]
    }
   ],
   "source": [
    "results = conn.gsql('''use graph social\n",
    "     SELECT * from person:p-(friendship:f)-person:t LIMIT 5''')\n",
    "results"
   ]
  },
  {
   "cell_type": "code",
   "execution_count": 47,
   "id": "f590a46b-85e3-4aa8-bce3-8738b10757f7",
   "metadata": {},
   "outputs": [
    {
     "data": {
      "text/plain": [
       "'Using graph \\'social\\'\\n[\\n{\\n\"v_id\": \"Nancy\",\\n\"attributes\": {\\n\"gender\": \"female\",\\n\"name\": \"Nancy\",\\n\"state\": \"spanish\",\\n\"age\": 20\\n},\\n\"v_type\": \"person\"\\n},\\n{\\n\"v_id\": \"Emily\",\\n\"attributes\": {\\n\"gender\": \"female\",\\n\"name\": \"Emily\",\\n\"state\": \"spanish\",\\n\"age\": 22\\n},\\n\"v_type\": \"person\"\\n},\\n{\\n\"v_id\": \"Jenny\",\\n\"attributes\": {\\n\"gender\": \"female\",\\n\"name\": \"Jenny\",\\n\"state\": \"english\",\\n\"age\": 25\\n},\\n\"v_type\": \"person\"\\n},\\n{\\n\"v_id\": \"Margie\",\\n\"attributes\": {\\n\"gender\": \"female\",\\n\"name\": \"Margie\",\\n\"state\": \"english\",\\n\"age\": 53\\n},\\n\"v_type\": \"person\"\\n},\\n{\\n\"v_id\": \"Lacy\",\\n\"attributes\": {\\n\"gender\": \"female\",\\n\"name\": \"Lacy\",\\n\"state\": \"spanish\",\\n\"age\": 28\\n},\\n\"v_type\": \"person\"\\n},\\n{\\n\"v_id\": \"Amily\",\\n\"attributes\": {\\n\"gender\": \"female\",\\n\"name\": \"Amily\",\\n\"state\": \"spanish\",\\n\"age\": 22\\n},\\n\"v_type\": \"person\"\\n}\\n]'"
      ]
     },
     "execution_count": 47,
     "metadata": {},
     "output_type": "execute_result"
    }
   ],
   "source": [
    "results = conn.gsql('''use graph social\n",
    "                        SELECT * FROM person WHERE gender==\"female\"''')\n",
    "results\n",
    "#df = pd.DataFrame(results[0]['attributes'])\n",
    "#df\n",
    "#print(json.dumps(results, indent=2))"
   ]
  },
  {
   "cell_type": "code",
   "execution_count": 48,
   "id": "c0b488a8-7945-452c-8216-bfe4f60a92a6",
   "metadata": {},
   "outputs": [
    {
     "data": {
      "text/plain": [
       "[{'v_id': 'Nancy',\n",
       "  'v_type': 'person',\n",
       "  'attributes': {'name': 'Nancy', 'age': 20, 'gender': 'female'}},\n",
       " {'v_id': 'Emily',\n",
       "  'v_type': 'person',\n",
       "  'attributes': {'name': 'Emily', 'age': 22, 'gender': 'female'}},\n",
       " {'v_id': 'Jenny',\n",
       "  'v_type': 'person',\n",
       "  'attributes': {'name': 'Jenny', 'age': 25, 'gender': 'female'}},\n",
       " {'v_id': 'Margie',\n",
       "  'v_type': 'person',\n",
       "  'attributes': {'name': 'Margie', 'age': 53, 'gender': 'female'}},\n",
       " {'v_id': 'Lacy',\n",
       "  'v_type': 'person',\n",
       "  'attributes': {'name': 'Lacy', 'age': 28, 'gender': 'female'}},\n",
       " {'v_id': 'Amily',\n",
       "  'v_type': 'person',\n",
       "  'attributes': {'name': 'Amily', 'age': 22, 'gender': 'female'}}]"
      ]
     },
     "execution_count": 48,
     "metadata": {},
     "output_type": "execute_result"
    }
   ],
   "source": [
    "res=conn.getVertices('person', select='name,age,gender', where='gender==\"female\"')\n",
    "res"
   ]
  },
  {
   "cell_type": "code",
   "execution_count": 49,
   "id": "fda65667",
   "metadata": {},
   "outputs": [
    {
     "data": {
      "text/plain": [
       "list"
      ]
     },
     "execution_count": 49,
     "metadata": {},
     "output_type": "execute_result"
    }
   ],
   "source": [
    "type(res)"
   ]
  },
  {
   "cell_type": "code",
   "execution_count": 29,
   "id": "1a5c2a50",
   "metadata": {},
   "outputs": [
    {
     "data": {
      "text/plain": [
       "[{'name': 'Nancy', 'age': 20, 'gender': 'female'},\n",
       " {'name': 'Jenny', 'age': 25, 'gender': 'female'},\n",
       " {'name': 'Margie', 'age': 53, 'gender': 'female'},\n",
       " {'name': 'Lacy', 'age': 28, 'gender': 'female'},\n",
       " {'name': 'Amily', 'age': 22, 'gender': 'female'}]"
      ]
     },
     "execution_count": 29,
     "metadata": {},
     "output_type": "execute_result"
    }
   ],
   "source": [
    "attrs=[x['attributes'] for x in res]\n",
    "attrs"
   ]
  },
  {
   "cell_type": "code",
   "execution_count": 30,
   "id": "7686dee9",
   "metadata": {},
   "outputs": [
    {
     "data": {
      "text/plain": [
       "list"
      ]
     },
     "execution_count": 30,
     "metadata": {},
     "output_type": "execute_result"
    }
   ],
   "source": [
    "type(attrs)"
   ]
  },
  {
   "cell_type": "code",
   "execution_count": 31,
   "id": "59f10688",
   "metadata": {},
   "outputs": [
    {
     "data": {
      "text/plain": [
       "{'name': 'Lacy', 'age': 28, 'gender': 'female'}"
      ]
     },
     "execution_count": 31,
     "metadata": {},
     "output_type": "execute_result"
    }
   ],
   "source": [
    "attrs=res[-2]['attributes']\n",
    "attrs"
   ]
  },
  {
   "cell_type": "code",
   "execution_count": 32,
   "id": "3df43eac",
   "metadata": {},
   "outputs": [
    {
     "data": {
      "text/html": [
       "<div>\n",
       "<style scoped>\n",
       "    .dataframe tbody tr th:only-of-type {\n",
       "        vertical-align: middle;\n",
       "    }\n",
       "\n",
       "    .dataframe tbody tr th {\n",
       "        vertical-align: top;\n",
       "    }\n",
       "\n",
       "    .dataframe thead th {\n",
       "        text-align: right;\n",
       "    }\n",
       "</style>\n",
       "<table border=\"1\" class=\"dataframe\">\n",
       "  <thead>\n",
       "    <tr style=\"text-align: right;\">\n",
       "      <th></th>\n",
       "      <th>v_id</th>\n",
       "      <th>v_type</th>\n",
       "      <th>attributes</th>\n",
       "    </tr>\n",
       "  </thead>\n",
       "  <tbody>\n",
       "    <tr>\n",
       "      <th>0</th>\n",
       "      <td>Nancy</td>\n",
       "      <td>person</td>\n",
       "      <td>{'name': 'Nancy', 'age': 20, 'gender': 'female'}</td>\n",
       "    </tr>\n",
       "    <tr>\n",
       "      <th>1</th>\n",
       "      <td>Jenny</td>\n",
       "      <td>person</td>\n",
       "      <td>{'name': 'Jenny', 'age': 25, 'gender': 'female'}</td>\n",
       "    </tr>\n",
       "    <tr>\n",
       "      <th>2</th>\n",
       "      <td>Margie</td>\n",
       "      <td>person</td>\n",
       "      <td>{'name': 'Margie', 'age': 53, 'gender': 'female'}</td>\n",
       "    </tr>\n",
       "    <tr>\n",
       "      <th>3</th>\n",
       "      <td>Lacy</td>\n",
       "      <td>person</td>\n",
       "      <td>{'name': 'Lacy', 'age': 28, 'gender': 'female'}</td>\n",
       "    </tr>\n",
       "    <tr>\n",
       "      <th>4</th>\n",
       "      <td>Amily</td>\n",
       "      <td>person</td>\n",
       "      <td>{'name': 'Amily', 'age': 22, 'gender': 'female'}</td>\n",
       "    </tr>\n",
       "  </tbody>\n",
       "</table>\n",
       "</div>"
      ],
      "text/plain": [
       "     v_id  v_type                                         attributes\n",
       "0   Nancy  person   {'name': 'Nancy', 'age': 20, 'gender': 'female'}\n",
       "1   Jenny  person   {'name': 'Jenny', 'age': 25, 'gender': 'female'}\n",
       "2  Margie  person  {'name': 'Margie', 'age': 53, 'gender': 'female'}\n",
       "3    Lacy  person    {'name': 'Lacy', 'age': 28, 'gender': 'female'}\n",
       "4   Amily  person   {'name': 'Amily', 'age': 22, 'gender': 'female'}"
      ]
     },
     "execution_count": 32,
     "metadata": {},
     "output_type": "execute_result"
    }
   ],
   "source": [
    "df = pd.DataFrame(res)\n",
    "df"
   ]
  },
  {
   "cell_type": "code",
   "execution_count": 33,
   "id": "6b078540-67e4-4185-bdfd-b53fd37db152",
   "metadata": {},
   "outputs": [
    {
     "data": {
      "text/plain": [
       "[{'e_type': 'friendship',\n",
       "  'directed': False,\n",
       "  'from_id': 'Dan',\n",
       "  'from_type': 'person',\n",
       "  'to_id': 'Tom',\n",
       "  'to_type': 'person',\n",
       "  'attributes': {'connect_day': '2017-06-03 00:00:00'}},\n",
       " {'e_type': 'friendship',\n",
       "  'directed': False,\n",
       "  'from_id': 'Dan',\n",
       "  'from_type': 'person',\n",
       "  'to_id': 'Kevin',\n",
       "  'to_type': 'person',\n",
       "  'attributes': {'connect_day': '2015-12-30 00:00:00'}},\n",
       " {'e_type': 'friendship',\n",
       "  'directed': False,\n",
       "  'from_id': 'Dan',\n",
       "  'from_type': 'person',\n",
       "  'to_id': 'Jenny',\n",
       "  'to_type': 'person',\n",
       "  'attributes': {'connect_day': '2016-08-03 00:00:00'}},\n",
       " {'e_type': 'friendship',\n",
       "  'directed': False,\n",
       "  'from_id': 'Dan',\n",
       "  'from_type': 'person',\n",
       "  'to_id': 'Nancy',\n",
       "  'to_type': 'person',\n",
       "  'attributes': {'connect_day': '2016-01-03 00:00:00'}}]"
      ]
     },
     "execution_count": 33,
     "metadata": {},
     "output_type": "execute_result"
    }
   ],
   "source": [
    "sourceVertexType='person'\n",
    "sourceVertexId='Dan'\n",
    "conn.getEdges(sourceVertexType, sourceVertexId, edgeType=None, targetVertexType=None, targetVertexId=None, select=\"\", where=\"\", limit=\"\", sort=\"\", timeout=0)"
   ]
  },
  {
   "cell_type": "markdown",
   "id": "7173bd5b",
   "metadata": {},
   "source": [
    "## STEP 8: Develop Hop queries\n",
    "\n",
    "<div>\n",
    "  <img style=\"vertical-align:top\" src=\"img/query.png\" width=\"28\" height=\"28\"/>\n",
    "  <span style=\"\">As a final step, we use the advanced analytics means with Tiger to begin exploring relationships and developing the recommender. \n",
    "</span>\n",
    "</div>"
   ]
  },
  {
   "cell_type": "code",
   "execution_count": 34,
   "id": "85b3a710-aa56-4170-8218-73fb8abf8217",
   "metadata": {},
   "outputs": [
    {
     "data": {
      "text/plain": [
       "'Using graph \\'social\\'\\n[{\\n\"v_id\": \"Tom\",\\n\"attributes\": {\\n\"gender\": \"male\",\\n\"name\": \"Tom\",\\n\"state\": \"english\",\\n\"age\": 40\\n},\\n\"v_type\": \"person\"\\n}]'"
      ]
     },
     "execution_count": 34,
     "metadata": {},
     "output_type": "execute_result"
    }
   ],
   "source": [
    "conn.gsql('''use graph social\n",
    "                 select * from person where primary_id==\"Tom\"''')"
   ]
  },
  {
   "cell_type": "markdown",
   "id": "a5769472",
   "metadata": {},
   "source": [
    "### We create an adhoc query to explore Tom's network"
   ]
  },
  {
   "cell_type": "code",
   "execution_count": 35,
   "id": "bf60e3ea-b747-4e73-8d56-a6d92ca470d8",
   "metadata": {},
   "outputs": [
    {
     "data": {
      "text/plain": [
       "[{'posts': [{'v_id': 'Dan',\n",
       "    'v_type': 'person',\n",
       "    'attributes': {'gender': 'male',\n",
       "     'name': 'Dan',\n",
       "     'age': 34,\n",
       "     'state': 'russian'}},\n",
       "   {'v_id': 'Jenny',\n",
       "    'v_type': 'person',\n",
       "    'attributes': {'gender': 'female',\n",
       "     'name': 'Jenny',\n",
       "     'age': 25,\n",
       "     'state': 'english'}}]}]"
      ]
     },
     "execution_count": 35,
     "metadata": {},
     "output_type": "execute_result"
    }
   ],
   "source": [
    "conn.runInterpretedQuery('''\n",
    "  INTERPRET QUERY x() FOR GRAPH social {\n",
    "  # declaration statements\n",
    "  STRING uid = \"Tom\";\n",
    "  users = {person.*};\n",
    "  # body statements\n",
    "  posts = SELECT p\n",
    "    FROM users:u-(friendship)->:p\n",
    "    WHERE u.name == uid;\n",
    "  PRINT posts; \n",
    "}\n",
    "''')"
   ]
  },
  {
   "cell_type": "code",
   "execution_count": 36,
   "id": "909fa49d",
   "metadata": {},
   "outputs": [
    {
     "data": {
      "text/plain": [
       "[{'\"Hello World\"': 'Hello World'}]"
      ]
     },
     "execution_count": 36,
     "metadata": {},
     "output_type": "execute_result"
    }
   ],
   "source": [
    "conn.runInterpretedQuery('''\n",
    "  INTERPRET QUERY () FOR GRAPH social {\n",
    "    PRINT \"Hello World\"; \n",
    "}\n",
    "''')"
   ]
  },
  {
   "cell_type": "code",
   "execution_count": 37,
   "id": "0aaf3c42-7613-4131-accc-d82e7d7c011a",
   "metadata": {},
   "outputs": [
    {
     "data": {
      "text/plain": [
       "[{'Result': [{'v_id': 'Amily',\n",
       "    'v_type': 'person',\n",
       "    'attributes': {'gender': 'female',\n",
       "     'name': 'Amily',\n",
       "     'age': 22,\n",
       "     'state': 'spanish'}},\n",
       "   {'v_id': 'Bob',\n",
       "    'v_type': 'person',\n",
       "    'attributes': {'gender': 'male',\n",
       "     'name': 'Bob',\n",
       "     'age': 52,\n",
       "     'state': 'english'}},\n",
       "   {'v_id': 'Lacy',\n",
       "    'v_type': 'person',\n",
       "    'attributes': {'gender': 'female',\n",
       "     'name': 'Lacy',\n",
       "     'age': 28,\n",
       "     'state': 'spanish'}},\n",
       "   {'v_id': 'Tom',\n",
       "    'v_type': 'person',\n",
       "    'attributes': {'gender': 'male',\n",
       "     'name': 'Tom',\n",
       "     'age': 40,\n",
       "     'state': 'english'}},\n",
       "   {'v_id': 'Kevin',\n",
       "    'v_type': 'person',\n",
       "    'attributes': {'gender': 'male',\n",
       "     'name': 'Kevin',\n",
       "     'age': 28,\n",
       "     'state': 'dutch'}},\n",
       "   {'v_id': 'Dan',\n",
       "    'v_type': 'person',\n",
       "    'attributes': {'gender': 'male',\n",
       "     'name': 'Dan',\n",
       "     'age': 34,\n",
       "     'state': 'russian'}},\n",
       "   {'v_id': 'Margie',\n",
       "    'v_type': 'person',\n",
       "    'attributes': {'gender': 'female',\n",
       "     'name': 'Margie',\n",
       "     'age': 53,\n",
       "     'state': 'english'}},\n",
       "   {'v_id': 'Nancy',\n",
       "    'v_type': 'person',\n",
       "    'attributes': {'gender': 'female',\n",
       "     'name': 'Nancy',\n",
       "     'age': 20,\n",
       "     'state': 'spanish'}},\n",
       "   {'v_id': 'Jenny',\n",
       "    'v_type': 'person',\n",
       "    'attributes': {'gender': 'female',\n",
       "     'name': 'Jenny',\n",
       "     'age': 25,\n",
       "     'state': 'english'}},\n",
       "   {'v_id': 'Jack',\n",
       "    'v_type': 'person',\n",
       "    'attributes': {'gender': 'male',\n",
       "     'name': 'Jack',\n",
       "     'age': 26,\n",
       "     'state': 'english'}}]}]"
      ]
     },
     "execution_count": 37,
     "metadata": {},
     "output_type": "execute_result"
    }
   ],
   "source": [
    "conn.runInterpretedQuery('''\n",
    "  INTERPRET QUERY () FOR GRAPH social {\n",
    "    person1 = {person.*};\n",
    "    Result = SELECT tgt\n",
    "           FROM person1:s-(friendship:e)-person:tgt;\n",
    "    PRINT Result; \n",
    "}\n",
    "''')"
   ]
  },
  {
   "cell_type": "code",
   "execution_count": null,
   "id": "ae6a2a1d",
   "metadata": {},
   "outputs": [],
   "source": []
  }
 ],
 "metadata": {
  "kernelspec": {
   "display_name": "Python 3",
   "language": "python",
   "name": "python3"
  },
  "language_info": {
   "codemirror_mode": {
    "name": "ipython",
    "version": 3
   },
   "file_extension": ".py",
   "mimetype": "text/x-python",
   "name": "python",
   "nbconvert_exporter": "python",
   "pygments_lexer": "ipython3",
   "version": "3.8.8"
  }
 },
 "nbformat": 4,
 "nbformat_minor": 5
}
