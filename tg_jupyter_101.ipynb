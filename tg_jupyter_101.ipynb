{
 "cells": [
  {
   "cell_type": "markdown",
   "id": "3907c5f3",
   "metadata": {},
   "source": [
    "<img src=\"img/GraphAISummitNEW.png\" alt=\"Drawing\" width=\"1000\" height=\"100\"/>\n",
    "\n",
    "<h1>Intro to Recommendations with Tigergraph, Docker and Python<h1>\n",
    "\n",
    "<p style=\"margin-left: 40px\">Alex Infanzon & Bob Hardaway</p>\n",
    "<h2>\n",
    "<p style=\"margin-left: 60px\">- Professional Sales Engineers, Ametuer Data Scientists</p>\n",
    "<h3>\n",
    "    TigerGraph is a graph database software with a multitude of functionality and \n",
    "    solutions to some of the issues that have plagued other graph databases. This \n",
    "    notebook demonstrates how to use basic commands to connect, create and load data \n",
    "    into TigerGraph using the Python pyTigerGraph module.\n",
    "\n",
    "    In the next 40 minutes, we will introduce the PyTigerGraph python package and\n",
    "    develop a simple recommendation engine running on a portable Docker container.\n",
    "    Each and every component developed here can then be easily migrated to any\n",
    "    large-scale production environment once the data scientist is confident in the\n",
    "    results.\n",
    "    \n",
    "    In this way, TigerGraph can enable every data user in the enterprise to rapidly\n",
    "    develop graph-based solution.\n",
    "    \n",
    "    The 6 steps to enable this solution are simple:\n",
    "        1) Import python packages\n",
    "        2) Connect to TigerGraph database\n",
    "        3) Design a Schema\n",
    "        4) Load Source Data\n",
    "        5) Explore the Graph\n",
    "        6) Write Queries (aka Ask Questions)\n",
    "\n",
    "<h2> TigerGraph Architecture\n",
    "<img src=\"img/Architecture_diagram.png\" alt=\"Drawing\" width=\"1000\" height=\"100\"/>"
   ]
  },
  {
   "cell_type": "markdown",
   "id": "facefdac",
   "metadata": {},
   "source": [
    "<h2>This tutorial is based on two components which making developing python based analytics solutions very easy to create and deploy. \n",
    "\n",
    "<h3><a href=\"https://docs.tigergraph.com/start/get-started/docker\">TigerGraph Docker Image</a> - A packaged TigerGraph image is available to easily create an environment.\n",
    "\n",
    "<h3><a href=\"https://github.com/pyTigerGraph/pyTigerGraph\">pyTigerGraph Python Package</a> - Python package\n",
    "\n",
    "\n"
   ]
  },
  {
   "cell_type": "markdown",
   "id": "e9e75dc6",
   "metadata": {},
   "source": [
    "## STEP 0: Setup Docker and pull the Tigergraph single node image\n",
    "\n",
    "<h3> Docker is a container deployment tool that makes setup and running applications very easy. Once installed, this docker command access Docker hub and retrieve the latest pre-built image of Tigergraph.\n",
    "\n",
    "$ docker run -d -p 14022:22 -p 9000:9000 -p 14240:14240 --name tigergraph --ulimit nofile=1000000:1000000 -v ~/data:/home/tigergraph/mydata -t docker.tigergraph.com/tigergraph:latest\n",
    "\n",
    "Once running, you can immediately access the Studio UI at from your host computer at:\n",
    "    \n",
    "       http://localhost:14240\n",
    "                "
   ]
  },
  {
   "cell_type": "markdown",
   "id": "3ee575b4",
   "metadata": {},
   "source": [
    "## STEP 1: Import Packages\n",
    "\n",
    "Note: Assuming you have installed the pyTigerGraph package. If not install it using:\n",
    "        \n",
    "   ```# pip install -U pyTigerGraph pyTigerDriver```"
   ]
  },
  {
   "cell_type": "code",
   "execution_count": null,
   "id": "042bac37-4308-42ed-9d85-64aefbc614fa",
   "metadata": {
    "tags": []
   },
   "outputs": [],
   "source": [
    "from IPython.display import display\n",
    "from PIL import Image\n",
    "\n",
    "import pyTigerGraph as tg\n",
    "import pandas as pd\n",
    "import json\n",
    "\n",
    "print(tg.__version__)"
   ]
  },
  {
   "cell_type": "markdown",
   "id": "eb69a712",
   "metadata": {
    "tags": []
   },
   "source": [
    "## STEP 2: Establishing the connection to a TigerGraph database\n",
    "\n",
    "<div>\n",
    "  <img style=\"vertical-align:top\" src=\"img/connected-icon.png\" width=\"30\" height=\"30\"/>\n",
    "  <span style=\"\">The functionality of pyTigerGraph is implemented by the TigerGraphConnection class. To establish the connection to the database you need to provide the hostname, username and password to access the database.</span>\n",
    "</div>\n",
    "\n",
    "\n",
    "<table>\n",
    "  <tr>\n",
    "    <th>Connect to localhost</th>\n",
    "    <th>Connect to TG Cloud</th>\n",
    "    <th>Connect to AWS EC2</th>\n",
    "  </tr>\n",
    "  <tr>\n",
    "    <td>conn = tg.TigerGraphConnection(<br>host='http://localhost',<br> username=\"tigergraph\",<br> password='tigergraph'<br>) </td>\n",
    "    <td>conn = tg.TigerGraphConnection(<br>host='https://tgcloud.io/app/solutions',<br> graphname=\"test\",<br> username=userName,<br> password=password,<br> apiToken=apiToken)<br> authToken = conn.getToken(secret)<br> )</td>\n",
    "    <td>conn = tg.TigerGraphConnection(<br>host='https://ec2-52-44-226-118.compute-1.amazonaws.com/',<br> graphname=\"test\",<br> username=userName,<br> password=password,<br> apiToken=apiToken)<br> authToken = conn.getToken(secret)<br> )</td>\n",
    "   </tr>\n",
    "\n",
    "</table>\n",
    "\n",
    "<div> Tigergrpah supports multiple authentication protocols including simple and pw and token based. For this tutorial we are just using a pw.\n",
    "</div>"
   ]
  },
  {
   "cell_type": "code",
   "execution_count": null,
   "id": "290351bc-d3da-4924-a40f-f6a03fe7ccad",
   "metadata": {},
   "outputs": [],
   "source": [
    "conn = tg.TigerGraphConnection(\n",
    "    host='http://localhost',\n",
    "    username=\"tigergraph\",\n",
    "    password='tigergraph')"
   ]
  },
  {
   "cell_type": "markdown",
   "id": "0e46438f",
   "metadata": {},
   "source": [
    "<div> In order to start from scratch, all existing elements can be deleted! This will delete existing graphs and elements. Execute the next cell ONLY if you would like to start the notebook lab from the beginning.</div>"
   ]
  },
  {
   "cell_type": "code",
   "execution_count": null,
   "id": "4d7690b2-cdd7-49f1-ab30-fe683edbf47f",
   "metadata": {},
   "outputs": [],
   "source": [
    "print(conn.gsql('''DROP ALL''', options=[]))"
   ]
  },
  {
   "cell_type": "markdown",
   "id": "1cbb5c45",
   "metadata": {},
   "source": [
    "## STEP 3: Design Schema\n",
    "\n",
    "<div>\n",
    "  <img style=\"vertical-align:top\" src=\"img/graph_img.png\" width=\"30\" height=\"30\"/>\n",
    "  <span style=\"\">Before data can be loaded into the graph store, the user must define a graph schema. A graph schema is a \"dictionary\" that defines the types of entities, vertices and edges, in the graph and how those types of entities are related to one another.</span>\n",
    "</div>\n",
    "\n",
    "### WARNING: DROP ALL - Will Delete everything in your graph!\n",
    "\n",
    "Execute this cell if you would like to start the notebook lab from the beginning."
   ]
  },
  {
   "cell_type": "markdown",
   "id": "bc9b59d5-55f1-4d09-b56a-319e2c8d22ec",
   "metadata": {},
   "source": [
    "----\n",
    "<img src=\"img/graph_sch.png\" alt=\"Drawing\" width=\"500\" height=\"100\"/>\n",
    "\n",
    "The CREATE VERTEX statement defines a new global vertex type, with a name and an attribute list. \n",
    "\n",
    "The CREATE EDGE statement defines a new global edge type. There are two forms of the CREATE EDGE statement, one for directed edges and one for undirected edges.  Each edge type must specify that it connects FROM one vertex type TO another vertex type."
   ]
  },
  {
   "cell_type": "code",
   "execution_count": null,
   "id": "1c707f9e-bd32-4b43-9ef5-f5826f96809d",
   "metadata": {},
   "outputs": [],
   "source": [
    "print(conn.gsql('''\n",
    "\n",
    "CREATE VERTEX person (PRIMARY_ID Id STRING, id INT, gender STRING, name STRING, age INT, state STRING) \n",
    "\n",
    "CREATE UNDIRECTED EDGE friendship (FROM person, TO person, connect_day datetime)\n",
    "\n",
    "CREATE GRAPH social (person, friendship)'''\n",
    "                \n",
    ", options=[]))"
   ]
  },
  {
   "cell_type": "markdown",
   "id": "af00a453",
   "metadata": {},
   "source": [
    "<h3>The GSQL command enable executing any GSQL statements against the database. Next cell show how list a catalog of schema elements created by the gsql command.\n"
   ]
  },
  {
   "cell_type": "code",
   "execution_count": null,
   "id": "4c0072ae",
   "metadata": {},
   "outputs": [],
   "source": [
    "print(conn.gsql('''ls''', options=[]))"
   ]
  },
  {
   "cell_type": "markdown",
   "id": "f310c481",
   "metadata": {},
   "source": [
    "<h3> Specify the graph to be used (social)"
   ]
  },
  {
   "cell_type": "code",
   "execution_count": null,
   "id": "dced8e07",
   "metadata": {},
   "outputs": [],
   "source": [
    "conn.graphname = 'social'"
   ]
  },
  {
   "cell_type": "markdown",
   "id": "941f75f1-a3b4-443f-bf8a-390e1ae9b20a",
   "metadata": {},
   "source": [
    "## STEP 4: Load data\n",
    "\n",
    "<div>\n",
    "  <img style=\"vertical-align:top\" src=\"img/load_data.png\" width=\"30\" height=\"30\"/>\n",
    "  <span style=\"\">The pyTigerGraph submodule provides results from various built-in endpoints in a Pandas DataFrame. To load data upload the csv file to a dataframe inside the notebook. \n",
    "</span>\n",
    "</div>"
   ]
  },
  {
   "cell_type": "code",
   "execution_count": null,
   "id": "4398f0ce-3dea-49ff-8a0d-a4af275aaa27",
   "metadata": {},
   "outputs": [],
   "source": [
    "persons = pd.read_csv('data/people.csv')\n",
    "persons"
   ]
  },
  {
   "cell_type": "code",
   "execution_count": null,
   "id": "c2c800d5-6e43-48f5-80d9-b2479b2c1193",
   "metadata": {},
   "outputs": [],
   "source": [
    "friendships = pd.read_csv('./data/friendships.csv')\n",
    "friendships"
   ]
  },
  {
   "cell_type": "markdown",
   "id": "1924a0dc",
   "metadata": {},
   "source": [
    "<h3> Use the pandas dataframe to create and populate the person vertexes"
   ]
  },
  {
   "cell_type": "code",
   "execution_count": null,
   "id": "72d095e8-81fb-4089-ad5e-2e8f7d9eb818",
   "metadata": {},
   "outputs": [],
   "source": [
    "v_person = conn.upsertVertexDataFrame(\n",
    "      persons, \"person\", \"name\"\n",
    "    , attributes={\"id\":\"id\", \"name\": \"name\", \"gender\": \"gender\", \"age\": \"age\", \"state\": \"state\"})\n",
    "print(str(v_person) + \" Customer VERTICES Upserted\")"
   ]
  },
  {
   "cell_type": "markdown",
   "id": "abdbfbe9",
   "metadata": {},
   "source": [
    "<h3> Create the friendship edges"
   ]
  },
  {
   "cell_type": "code",
   "execution_count": null,
   "id": "795f2b00",
   "metadata": {},
   "outputs": [],
   "source": [
    "v_friendships = conn.upsertEdgeDataFrame(friendships,\"person\", \"friendship\", \"person\", from_id=\"person1\", to_id=\"person2\", attributes={\"connect_day\":\"date\"})\n",
    "print(str(v_friendships) + \" Friendships Edges Upserted\")"
   ]
  },
  {
   "cell_type": "markdown",
   "id": "ebc70dec",
   "metadata": {},
   "source": [
    "<h3> List the resulting elements"
   ]
  },
  {
   "cell_type": "code",
   "execution_count": null,
   "id": "b9995672-8161-4c1e-b2e0-fac03da3e625",
   "metadata": {},
   "outputs": [],
   "source": [
    "numPersons = conn.getVertexCount(\"person\")\n",
    "print(f\"There are currently {numPersons} in of vertex type person\")"
   ]
  },
  {
   "cell_type": "code",
   "execution_count": null,
   "id": "960eb93a",
   "metadata": {},
   "outputs": [],
   "source": [
    "numFriends = conn.getEdgeCount(\"friendship\")\n",
    "print(f\"There are currently {numFriends} of edge type friendship\")"
   ]
  },
  {
   "cell_type": "markdown",
   "id": "46e5aff5-5d48-41fa-ba04-657ae58740d2",
   "metadata": {},
   "source": [
    "## STEP 5: Explore Graph\n",
    "\n",
    "### The Functions\n",
    "\n",
    "The functions below are grouped by:\n",
    "\n",
    "- Schema related functions - these functions can be used to get schema information or to load data into the graph\n",
    "- Query related functions - these two functions are use to run or compile GSQL queries\n",
    "- Vertex related functions - vertex related functions\n",
    "- Edge related functions - edge related functions\n",
    "- Token management - management\n",
    "- Other functions - some miselaneous functions\n",
    "\n",
    "\n",
    "| Schema related functions | Query related functions | Vertex related functions | Edge related functions | Token management | Other functions |\n",
    "| :------------------------| :---------------------- | :----------------------- | :--------------------- | :--------------- | :-------------- |\n",
    "| getSchema | runInstalledQuery | getVertexTypes | getEdgeTypes | getToken | echo |\n",
    "| getUDTs | runInterpretedQuery | getVertexType | getEdgeType | refreshToken  | getEndpoints|\n",
    "| getUDT | | getVertexCount| getEdgeCount|deleteToken | getStatistics |\n",
    "| upsertData| |  upsertVertex|upsertEdge||getVersion |\n",
    "| | | upsertVertices | upsertEdges||getVer |\n",
    "| | | getVertices | getEdges||getLicenseInfo |\n",
    "| | | getVerticesById | getEdgeStats|| |\n",
    "| | | getVertexStats | delEdges|||\n",
    "| | | delVertices| | |\n",
    "| | | delVerticesById| "
   ]
  },
  {
   "cell_type": "markdown",
   "id": "06886728",
   "metadata": {},
   "source": [
    "<h3> We can not use the pyTigerGraph API directly to explore the elements (vertexes and edges) of the social graph directly."
   ]
  },
  {
   "cell_type": "code",
   "execution_count": null,
   "id": "bed2dceb-65b0-440c-a792-93d477d6784a",
   "metadata": {},
   "outputs": [],
   "source": [
    "print(conn.gsql('''ls''', options=[]))"
   ]
  },
  {
   "cell_type": "code",
   "execution_count": null,
   "id": "ebb080bd-5c22-4261-8043-a0904f07bcc1",
   "metadata": {},
   "outputs": [],
   "source": [
    "conn.getVertexTypes()"
   ]
  },
  {
   "cell_type": "code",
   "execution_count": null,
   "id": "708177dc-7cca-43d0-8950-8ecff4f3ef36",
   "metadata": {},
   "outputs": [],
   "source": [
    "print(conn.getVertexType('person'))"
   ]
  },
  {
   "cell_type": "code",
   "execution_count": null,
   "id": "45a0767b-90c9-4e08-9418-57077531772f",
   "metadata": {},
   "outputs": [],
   "source": [
    "conn.getVertexStats('person')"
   ]
  },
  {
   "cell_type": "code",
   "execution_count": null,
   "id": "6a36551d-9532-49d1-a9d6-a5e1d5a673e7",
   "metadata": {},
   "outputs": [],
   "source": [
    "conn.getEdgeTypes()"
   ]
  },
  {
   "cell_type": "code",
   "execution_count": null,
   "id": "a9171356-be34-459c-9326-1ece9baf4b91",
   "metadata": {},
   "outputs": [],
   "source": [
    "conn.getEdgeStats('friendship', skipNA=False)"
   ]
  },
  {
   "cell_type": "markdown",
   "id": "d72aad17",
   "metadata": {
    "tags": []
   },
   "source": [
    "## STEP 6: Write Queries\n",
    "\n",
    "<div>\n",
    "  <img style=\"vertical-align:top\" src=\"img/query.png\" width=\"28\" height=\"28\"/>\n",
    "  <span style=\"\"> Next we begin to explore the Graph to discovering key relationships and insights within the structure. We can use the pyTigerGraph APIs directly. \n",
    "</span>\n",
    "</div>"
   ]
  },
  {
   "cell_type": "markdown",
   "id": "23c1a726",
   "metadata": {},
   "source": [
    "<h3> Discover friends of Jenny"
   ]
  },
  {
   "cell_type": "code",
   "execution_count": null,
   "id": "cc7492b5-3633-4c38-addd-7c17738a9478",
   "metadata": {},
   "outputs": [],
   "source": [
    "display(conn.getEdgesDataframe(\"person\", \"Jenny\"))\n",
    "img = Image.open(\"img/Explore_fig1.png\")\n",
    "newsize = (500, 300)\n",
    "img = img.resize(newsize)\n",
    "display(img)"
   ]
  },
  {
   "cell_type": "code",
   "execution_count": null,
   "id": "76924348",
   "metadata": {},
   "outputs": [],
   "source": [
    "def flatten(obj):\n",
    "    output = []\n",
    "    for e in obj:\n",
    "        element = {}\n",
    "        element[\"v_id\"] = e[\"v_id\"]\n",
    "        element[\"v_type\"] = e[\"v_type\"]\n",
    "        for k in e[\"attributes\"]:\n",
    "            element[k] = e[\"attributes\"][k]\n",
    "        output.append(element)\n",
    "    return output"
   ]
  },
  {
   "cell_type": "markdown",
   "id": "824cac6c",
   "metadata": {},
   "source": [
    "<h3> Execute any standard sql statement. Tigergraph supports most basic SQL functionality, so any analyst who can write simple queries can get started easily"
   ]
  },
  {
   "cell_type": "code",
   "execution_count": null,
   "id": "54a1cad6",
   "metadata": {},
   "outputs": [],
   "source": [
    "rs = conn.gsql('''SELECT * FROM person LIMIT 4''')\n",
    "display(pd.DataFrame.from_records(flatten(json.loads(rs))))"
   ]
  },
  {
   "cell_type": "code",
   "execution_count": null,
   "id": "f590a46b-85e3-4aa8-bce3-8738b10757f7",
   "metadata": {},
   "outputs": [],
   "source": [
    "rs = conn.gsql('''SELECT * FROM person WHERE gender==\"female\"''')\n",
    "display(pd.DataFrame.from_records(flatten(json.loads(rs))))"
   ]
  },
  {
   "cell_type": "code",
   "execution_count": null,
   "id": "85b3a710-aa56-4170-8218-73fb8abf8217",
   "metadata": {},
   "outputs": [],
   "source": [
    "rs = conn.gsql('''select * from person where primary_id==\"Tom\"''')\n",
    "display(pd.DataFrame.from_records(flatten(json.loads(rs))))"
   ]
  },
  {
   "cell_type": "markdown",
   "id": "482438af",
   "metadata": {},
   "source": [
    "<h3>The Graph SQL capabilities are exposed thru the python library. Here we begin to explore relationships embedded in the graph<h3/>"
   ]
  },
  {
   "cell_type": "code",
   "execution_count": null,
   "id": "c0b488a8-7945-452c-8216-bfe4f60a92a6",
   "metadata": {},
   "outputs": [],
   "source": [
    "rs=conn.getVertices('person', select='name,age,gender', where='gender==\"female\"')\n",
    "display(pd.DataFrame.from_records(flatten(rs)))"
   ]
  },
  {
   "cell_type": "markdown",
   "id": "98047ab8",
   "metadata": {},
   "source": [
    "<h3> Tigergraph supports 2 types of query execution:\n",
    "        <h4>Interpretted - Adhoc with no pre-compilation\n",
    "        <h4>Installed - Precompiled and optimized at compile time\n",
    "<h3/>"
   ]
  },
  {
   "cell_type": "code",
   "execution_count": null,
   "id": "fd4f0bd6",
   "metadata": {},
   "outputs": [],
   "source": [
    "conn.runInterpretedQuery('''\n",
    "  INTERPRET QUERY () FOR GRAPH social {\n",
    "    PRINT \"Hello World\"; \n",
    "}\n",
    "''')"
   ]
  },
  {
   "cell_type": "markdown",
   "id": "b636b6a1",
   "metadata": {},
   "source": [
    "<h3> Using the GSQL syntax, we can query to find Tom's friends using a where claus"
   ]
  },
  {
   "cell_type": "code",
   "execution_count": null,
   "id": "dfa197fb-daad-4cab-a59b-76635cb98131",
   "metadata": {},
   "outputs": [],
   "source": [
    "conn.runInterpretedQuery('''INTERPRET QUERY () FOR GRAPH social {\n",
    "    users = {person.*};\n",
    "    Result = SELECT p FROM users:u-(friendship)->:p WHERE u.name == \"Tom\";\n",
    "  PRINT Result; \n",
    "}''')"
   ]
  },
  {
   "cell_type": "markdown",
   "id": "bb0d5a9d",
   "metadata": {},
   "source": [
    "<h3> And we can also parameterize the query and pass in a person name"
   ]
  },
  {
   "cell_type": "code",
   "execution_count": null,
   "id": "bf60e3ea-b747-4e73-8d56-a6d92ca470d8",
   "metadata": {},
   "outputs": [],
   "source": [
    "conn.runInterpretedQuery('''\n",
    "  INTERPRET QUERY x() FOR GRAPH social {\n",
    "  # declaration statements\n",
    "  STRING uid = \"Tom\";\n",
    "  users = {person.*};\n",
    "  # body statements\n",
    "  friends = SELECT p\n",
    "    FROM users:u-(friendship)->:p\n",
    "    WHERE u.name == uid;\n",
    "  PRINT friends; \n",
    "}\n",
    "''')"
   ]
  },
  {
   "cell_type": "markdown",
   "id": "a1bbca04",
   "metadata": {},
   "source": [
    "<h3>And, we can create and compile queries on the server to improve performance"
   ]
  },
  {
   "cell_type": "code",
   "execution_count": null,
   "id": "57e2af06",
   "metadata": {},
   "outputs": [],
   "source": [
    "conn.gsql('''\n",
    "    CREATE QUERY getFriends(STRING uid) FOR GRAPH social {\n",
    "  users = {person.*};\n",
    "  # body statements\n",
    "  friends = SELECT p\n",
    "    FROM users:u-(friendship)->:p\n",
    "    WHERE u.name == uid;\n",
    "  PRINT friends; \n",
    "}\n",
    "''')"
   ]
  },
  {
   "cell_type": "markdown",
   "id": "7cdcbbb6",
   "metadata": {},
   "source": [
    "<h3>Next, we install the query - NOTE: this fails on local docker"
   ]
  },
  {
   "cell_type": "code",
   "execution_count": null,
   "id": "1b11a071",
   "metadata": {},
   "outputs": [],
   "source": [
    "conn.gsql('''INSTALL QUERY getFriends''')"
   ]
  },
  {
   "cell_type": "code",
   "execution_count": null,
   "id": "0aaf3c42-7613-4131-accc-d82e7d7c011a",
   "metadata": {},
   "outputs": [],
   "source": [
    "conn.runInterpretedQuery('''\n",
    "  INTERPRET QUERY () FOR GRAPH social {\n",
    "    person1 = {person.*};\n",
    "    Result = SELECT tgt\n",
    "           FROM person1:s-(friendship:e)-person:tgt;\n",
    "    PRINT Result; \n",
    "}\n",
    "''')"
   ]
  },
  {
   "cell_type": "code",
   "execution_count": null,
   "id": "6b078540-67e4-4185-bdfd-b53fd37db152",
   "metadata": {},
   "outputs": [],
   "source": [
    "sourceVertexType='person'\n",
    "sourceVertexId='Dan'\n",
    "conn.getEdges(sourceVertexType, sourceVertexId, edgeType=None, targetVertexType=None, targetVertexId=None, select=\"\", where=\"\", limit=\"\", sort=\"\", timeout=0)"
   ]
  },
  {
   "cell_type": "code",
   "execution_count": null,
   "id": "dde1b189-5557-4f40-b1b2-ff176b116860",
   "metadata": {},
   "outputs": [],
   "source": [
    "conn.getEdges('person', 'Jenny'\n",
    "              , edgeType='friendship'\n",
    "              , targetVertexType='person'\n",
    "              , targetVertexId=None, select=\"connect_day\", where=\"\", limit=\"\", sort=\"\", timeout=0)"
   ]
  },
  {
   "cell_type": "markdown",
   "id": "248e793d",
   "metadata": {},
   "source": [
    "<h2> Recommender Framework in 40min\n",
    "<h3>   Using Docker, Python, pyTigerGraph and TigerGraph\n",
    "<h4>    Within just an hour, we are able to build a framework for developing large-scale analytics solutions for the enterprise.\n",
    "\n",
    "<img src=\"img/pyTGSolution.png\" alt=\"Drawing\" width=\"1000\" height=\"100\"/>"
   ]
  },
  {
   "cell_type": "markdown",
   "id": "761da63c",
   "metadata": {},
   "source": [
    "<h3> For more information, visit <a href=\"http://tigergraph.com\">Tigergraph</a>  "
   ]
  },
  {
   "cell_type": "code",
   "execution_count": null,
   "id": "20d1d7ce",
   "metadata": {},
   "outputs": [],
   "source": []
  }
 ],
 "metadata": {
  "kernelspec": {
   "display_name": "Python 3",
   "language": "python",
   "name": "python3"
  },
  "language_info": {
   "codemirror_mode": {
    "name": "ipython",
    "version": 3
   },
   "file_extension": ".py",
   "mimetype": "text/x-python",
   "name": "python",
   "nbconvert_exporter": "python",
   "pygments_lexer": "ipython3",
   "version": "3.8.8"
  }
 },
 "nbformat": 4,
 "nbformat_minor": 5
}
